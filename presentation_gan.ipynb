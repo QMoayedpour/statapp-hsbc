{
 "cells": [
  {
   "cell_type": "markdown",
   "metadata": {},
   "source": [
    "# Présentation des GAN (Generative Adversarial Networks)\n",
    "\n",
    "Ce notebook a pour but de présenter brièvement les GAN au lecteur pour comprendre rapidement le fonctionnement des modèles GAN"
   ]
  },
  {
   "cell_type": "markdown",
   "metadata": {},
   "source": [
    "Les modèles GAN, ou *Generative Adversarial Networks*, sont une classe de modèles de réseaux neuronaux utilisés pour générer des données, comme des images, des vidéos ou même du texte. L'idée principale derrière les GAN est d'entraîner deux réseaux neuronaux en même temps : un générateur et un discriminateur.\n",
    "\n",
    "## Générateur\n",
    "Le générateur crée de nouvelles données. Son objectif est de générer des données qui ressemblent le plus possible à des données réelles.\n",
    "\n",
    "## Discriminateur\n",
    "Le discriminateur apprend à distinguer les données générées par le générateur des données réelles. Son but est de devenir de plus en plus précis dans sa capacité à discriminer entre les deux types de données.\n",
    "\n",
    "Pendant l'entraînement, le générateur cherche à tromper le discriminateur en générant des données de plus en plus réalistes, tandis que le discriminateur essaie d'être de plus en plus précis pour distinguer les données générées des données réelles. Cette compétition entre les deux réseaux conduit à l'amélioration de la capacité du générateur à produire des données réalistes.\n",
    "\n",
    "### Formalisme mathématique des GAN\n",
    "\n",
    "Considérons un espace latent $ Z $ à partir duquel le générateur $ G $ produit des échantillons $ x $ dans l'espace de données réelles $ X $. Le générateur est paramétrisé par $ \\theta_g $. Le discriminateur $ D $ prend en entrée un échantillon $ x $ et retourne une estimation de la probabilité que $ x $ soit un échantillon réel plutôt qu'un échantillon généré. Le discriminateur est paramétrisé par $ \\theta_d $.\n",
    "\n",
    "Le générateur $ G $ prend un vecteur aléatoire $ z $ de l'espace latent comme entrée (généralement simulé à partir d'une loi normale centrée réduite) et produit un échantillon généré $ x $ :\n",
    "\n",
    "$\n",
    "x = G(z;\\theta_g)\n",
    "$\n",
    "\n",
    "Le discriminateur $ D $ prend un échantillon $ x $ en entrée et produit une estimation $ D(x;\\theta_d) $ de la probabilité que $ x $ soit un échantillon réel plutôt qu'un échantillon généré.\n",
    "\n",
    "### Fonction de perte des GAN\n",
    "\n",
    "La formation des GAN est basée sur un jeu à somme nulle entre le générateur et le discriminateur. Le but du générateur est de maximiser la probabilité que le discriminateur commette une erreur, tandis que le but du discriminateur est de minimiser la probabilité de se tromper.\n",
    "\n",
    "La fonction de perte des GAN peut être formulée comme un problème de minimax :\n",
    "\n",
    "$\n",
    "\\min_G \\max_D V(D, G) = \\mathbb{E}_{x \\sim p_{\\text{data}}(x)}[\\log D(x)] + \\mathbb{E}_{z \\sim p_z(z)}[\\log(1 - D(G(z)))]\n",
    "$\n",
    "\n",
    "- Le premier terme $ \\mathbb{E}_{x \\sim p_{\\text{data}}(x)}[\\log D(x)] $ mesure la capacité du discriminateur à classifier correctement les exemples réels.\n",
    "- Le deuxième terme $ \\mathbb{E}_{z \\sim p_z(z)}[\\log(1 - D(G(z)))] $ mesure la capacité du générateur à tromper le discriminateur en générant des exemples indiscernables des exemples réels.\n",
    "\n",
    "Cette fonction de perte admet bien un minimum en G lorsque la probabilité que le discriminateur rejette la donnée générée est égale à la probabilité de rejeter la fausse donnée.\n",
    "\n"
   ]
  },
  {
   "cell_type": "markdown",
   "metadata": {},
   "source": [
    "### Représentation Graphique\n",
    "\n",
    "<img src=\"img/gan1.svg\" alt=\"Texte alternatif\" style=\"width: 800px;\">\n"
   ]
  },
  {
   "cell_type": "markdown",
   "metadata": {},
   "source": [
    "### Présentation d'une utilisation simple des modèles GAN avec *torch*"
   ]
  },
  {
   "cell_type": "code",
   "execution_count": 1,
   "metadata": {},
   "outputs": [
    {
     "name": "stderr",
     "output_type": "stream",
     "text": [
      "2024-02-10 11:38:01.129221: I tensorflow/core/util/port.cc:113] oneDNN custom operations are on. You may see slightly different numerical results due to floating-point round-off errors from different computation orders. To turn them off, set the environment variable `TF_ENABLE_ONEDNN_OPTS=0`.\n",
      "2024-02-10 11:38:01.188206: E external/local_xla/xla/stream_executor/cuda/cuda_dnn.cc:9261] Unable to register cuDNN factory: Attempting to register factory for plugin cuDNN when one has already been registered\n",
      "2024-02-10 11:38:01.188255: E external/local_xla/xla/stream_executor/cuda/cuda_fft.cc:607] Unable to register cuFFT factory: Attempting to register factory for plugin cuFFT when one has already been registered\n",
      "2024-02-10 11:38:01.189891: E external/local_xla/xla/stream_executor/cuda/cuda_blas.cc:1515] Unable to register cuBLAS factory: Attempting to register factory for plugin cuBLAS when one has already been registered\n",
      "2024-02-10 11:38:01.201882: I tensorflow/core/platform/cpu_feature_guard.cc:182] This TensorFlow binary is optimized to use available CPU instructions in performance-critical operations.\n",
      "To enable the following instructions: AVX2 AVX512F AVX512_VNNI FMA, in other operations, rebuild TensorFlow with the appropriate compiler flags.\n",
      "2024-02-10 11:38:02.397591: W tensorflow/compiler/tf2tensorrt/utils/py_utils.cc:38] TF-TRT Warning: Could not find TensorRT\n"
     ]
    }
   ],
   "source": [
    "import torch\n",
    "import torch.nn as nn\n",
    "import torch.optim as optim\n",
    "import torchvision\n",
    "import torchvision.datasets as datasets\n",
    "from torch.utils.data import DataLoader\n",
    "import torchvision.transforms as transforms\n",
    "from torch.utils.tensorboard import SummaryWriter\n",
    "import matplotlib.pyplot as plt\n",
    "import numpy as np"
   ]
  },
  {
   "cell_type": "markdown",
   "metadata": {},
   "source": [
    "#### Les données\n",
    "\n",
    "Une utilisation populaire des modèles GAN est l'utilisation pour générer des images. En effet les réseaux de neuronnes ont été populaire pour la résolution de tâches de computer vision, et l'avantage de la génération d'image est que on peut facilement évaluer \"à l'oeil\" si les données générées sont réalistes ou non. On utilise le jeu de données [MNIST](https://en.wikipedia.org/wiki/MNIST_database), très populaire en computer vision."
   ]
  },
  {
   "cell_type": "code",
   "execution_count": 2,
   "metadata": {},
   "outputs": [
    {
     "name": "stderr",
     "output_type": "stream",
     "text": [
      "Clipping input data to the valid range for imshow with RGB data ([0..1] for floats or [0..255] for integers).\n"
     ]
    },
    {
     "data": {
      "image/png": "[encoded data removed]",
      "text/plain": [
       "<Figure size 640x480 with 1 Axes>"
      ]
     },
     "metadata": {},
     "output_type": "display_data"
    }
   ],
   "source": [
    "transform = transforms.Compose([transforms.ToTensor(), transforms.Normalize((0.5,), (0.5,))])\n",
    "dataset = datasets.MNIST(root=\"dataset/\", train=True, transform=transform, download=True)\n",
    "loader = DataLoader(dataset, batch_size=4, shuffle=True)\n",
    "\n",
    "def imshow(img):\n",
    "    npimg = img.numpy()\n",
    "    plt.imshow(np.transpose(npimg, (1, 2, 0)))\n",
    "    plt.axis('off')\n",
    "    plt.show()\n",
    "\n",
    "for images, labels in loader:\n",
    "    imshow(torchvision.utils.make_grid(images[:]))\n",
    "    break\n"
   ]
  },
  {
   "cell_type": "code",
   "execution_count": 3,
   "metadata": {},
   "outputs": [
    {
     "name": "stderr",
     "output_type": "stream",
     "text": [
      "Clipping input data to the valid range for imshow with RGB data ([0..1] for floats or [0..255] for integers).\n"
     ]
    },
    {
     "name": "stdout",
     "output_type": "stream",
     "text": [
      "torch.Size([1, 28, 28])\n"
     ]
    },
    {
     "data": {
      "image/png": "[encoded data removed]",
      "text/plain": [
       "<Figure size 640x480 with 1 Axes>"
      ]
     },
     "metadata": {},
     "output_type": "display_data"
    },
    {
     "name": "stdout",
     "output_type": "stream",
     "text": [
      "tensor([[[-1.0000, -1.0000, -1.0000, -1.0000, -1.0000, -1.0000, -1.0000,\n",
      "          -1.0000, -1.0000, -1.0000, -1.0000, -1.0000, -1.0000, -1.0000,\n",
      "          -1.0000, -1.0000, -1.0000, -1.0000, -1.0000, -1.0000, -1.0000,\n",
      "          -1.0000, -1.0000, -1.0000, -1.0000, -1.0000, -1.0000, -1.0000],\n",
      "         [-1.0000, -1.0000, -1.0000, -1.0000, -1.0000, -1.0000, -1.0000,\n",
      "          -1.0000, -1.0000, -1.0000, -1.0000, -1.0000, -1.0000, -1.0000,\n",
      "          -1.0000, -1.0000, -1.0000, -1.0000, -1.0000, -1.0000, -1.0000,\n",
      "          -1.0000, -1.0000, -1.0000, -1.0000, -1.0000, -1.0000, -1.0000],\n",
      "         [-1.0000, -1.0000, -1.0000, -1.0000, -1.0000, -1.0000, -1.0000,\n",
      "          -1.0000, -1.0000, -1.0000, -1.0000, -1.0000, -1.0000, -1.0000,\n",
      "          -1.0000, -1.0000, -1.0000, -1.0000, -1.0000, -1.0000, -1.0000,\n",
      "          -1.0000, -1.0000, -1.0000, -1.0000, -1.0000, -1.0000, -1.0000],\n",
      "         [-1.0000, -1.0000, -1.0000, -1.0000, -1.0000, -1.0000, -1.0000,\n",
      "          -1.0000, -1.0000, -1.0000, -1.0000, -1.0000, -1.0000, -1.0000,\n",
      "          -1.0000, -1.0000, -1.0000, -1.0000, -1.0000, -1.0000, -1.0000,\n",
      "          -1.0000, -1.0000, -1.0000, -1.0000, -1.0000, -1.0000, -1.0000],\n",
      "         [-1.0000, -1.0000, -1.0000, -1.0000, -1.0000, -1.0000, -1.0000,\n",
      "          -1.0000, -1.0000, -1.0000, -1.0000, -1.0000, -1.0000, -1.0000,\n",
      "          -1.0000, -1.0000, -1.0000, -1.0000, -1.0000, -1.0000, -1.0000,\n",
      "          -1.0000, -1.0000, -1.0000, -1.0000, -1.0000, -1.0000, -1.0000],\n",
      "         [-1.0000, -1.0000, -1.0000, -1.0000, -1.0000, -1.0000, -1.0000,\n",
      "          -1.0000, -1.0000, -1.0000, -1.0000, -1.0000, -1.0000, -1.0000,\n",
      "          -1.0000, -1.0000, -1.0000, -1.0000, -1.0000, -1.0000, -1.0000,\n",
      "          -1.0000, -1.0000, -1.0000, -1.0000, -1.0000, -1.0000, -1.0000],\n",
      "         [-1.0000, -1.0000, -1.0000, -1.0000, -1.0000, -1.0000, -1.0000,\n",
      "          -1.0000, -1.0000, -1.0000, -0.6392,  0.2157,  0.5843,  0.9922,\n",
      "           1.0000,  0.3098, -1.0000, -1.0000, -1.0000, -1.0000, -1.0000,\n",
      "          -1.0000, -1.0000, -1.0000, -1.0000, -1.0000, -1.0000, -1.0000],\n",
      "         [-1.0000, -1.0000, -1.0000, -1.0000, -1.0000, -1.0000, -1.0000,\n",
      "          -1.0000, -0.9451, -0.3412,  0.9137,  0.9922,  0.8824,  0.7647,\n",
      "           0.8902,  0.8902, -0.9216, -1.0000, -1.0000, -1.0000, -1.0000,\n",
      "          -1.0000, -1.0000, -1.0000, -1.0000, -1.0000, -1.0000, -1.0000],\n",
      "         [-1.0000, -1.0000, -1.0000, -1.0000, -1.0000, -1.0000, -1.0000,\n",
      "          -1.0000,  0.2784,  0.9922,  0.9922, -0.1373, -0.7098, -1.0000,\n",
      "          -0.5608,  0.5451, -0.5922, -1.0000, -1.0000, -1.0000, -1.0000,\n",
      "          -1.0000, -1.0000, -1.0000, -1.0000, -1.0000, -1.0000, -1.0000],\n",
      "         [-1.0000, -1.0000, -1.0000, -1.0000, -1.0000, -1.0000, -1.0000,\n",
      "          -0.3882,  0.9765,  0.7020, -0.7569, -0.9922, -1.0000, -1.0000,\n",
      "          -1.0000, -0.9843, -1.0000, -1.0000, -0.3176, -0.0039, -0.9529,\n",
      "          -1.0000, -1.0000, -1.0000, -1.0000, -1.0000, -1.0000, -1.0000],\n",
      "         [-1.0000, -1.0000, -1.0000, -1.0000, -1.0000, -1.0000, -0.8902,\n",
      "           0.7176,  0.9922, -0.5922, -1.0000, -1.0000, -1.0000, -1.0000,\n",
      "          -1.0000, -0.9843, -0.8039,  0.0118,  0.9294,  0.9922, -0.8118,\n",
      "          -1.0000, -1.0000, -1.0000, -1.0000, -1.0000, -1.0000, -1.0000],\n",
      "         [-1.0000, -1.0000, -1.0000, -1.0000, -1.0000, -1.0000, -0.7725,\n",
      "           0.9922,  0.9922, -0.1843, -1.0000, -1.0000, -1.0000, -0.5216,\n",
      "          -0.1765,  0.4588,  0.9922,  0.9922,  0.9922,  0.3255, -0.9451,\n",
      "          -1.0000, -1.0000, -1.0000, -1.0000, -1.0000, -1.0000, -1.0000],\n",
      "         [-1.0000, -1.0000, -1.0000, -1.0000, -1.0000, -1.0000, -0.9922,\n",
      "          -0.3725,  0.8118,  0.9843,  0.9216,  0.9216,  0.9216,  0.9686,\n",
      "           0.9922,  0.6471,  0.7020,  0.9922,  0.9451, -0.7176, -1.0000,\n",
      "          -1.0000, -1.0000, -1.0000, -1.0000, -1.0000, -1.0000, -1.0000],\n",
      "         [-1.0000, -1.0000, -1.0000, -1.0000, -1.0000, -1.0000, -1.0000,\n",
      "          -1.0000, -0.7961, -0.0196,  0.0824,  0.0824,  0.0824, -0.1529,\n",
      "          -0.6627, -0.9373, -0.0510,  0.9922, -0.0510, -1.0000, -1.0000,\n",
      "          -1.0000, -0.9373, -1.0000, -1.0000, -1.0000, -1.0000, -1.0000],\n",
      "         [-1.0000, -1.0000, -1.0000, -1.0000, -1.0000, -1.0000, -1.0000,\n",
      "          -1.0000, -1.0000, -1.0000, -1.0000, -1.0000, -1.0000, -1.0000,\n",
      "          -1.0000, -0.9137,  0.7961,  0.9922, -0.5922, -1.0000, -1.0000,\n",
      "          -0.9686,  0.2471, -1.0000, -1.0000, -1.0000, -1.0000, -1.0000],\n",
      "         [-1.0000, -1.0000, -1.0000, -1.0000, -1.0000, -1.0000, -1.0000,\n",
      "          -1.0000, -1.0000, -1.0000, -1.0000, -1.0000, -1.0000, -1.0000,\n",
      "          -1.0000, -0.0275,  0.9922,  0.2392, -0.9765, -1.0000, -1.0000,\n",
      "          -0.9608,  0.4588, -1.0000, -1.0000, -1.0000, -1.0000, -1.0000],\n",
      "         [-1.0000, -1.0000, -1.0000, -1.0000, -1.0000, -1.0000, -1.0000,\n",
      "          -1.0000, -1.0000, -1.0000, -1.0000, -1.0000, -1.0000, -1.0000,\n",
      "          -0.6863,  0.9216,  0.9922, -0.7098, -1.0000, -1.0000, -1.0000,\n",
      "          -0.9608,  0.3804, -1.0000, -1.0000, -1.0000, -1.0000, -1.0000],\n",
      "         [-1.0000, -1.0000, -1.0000, -1.0000, -1.0000, -1.0000, -1.0000,\n",
      "          -1.0000, -1.0000, -1.0000, -1.0000, -1.0000, -1.0000, -1.0000,\n",
      "          -0.3882,  0.9922,  0.3490, -0.9529, -1.0000, -1.0000, -1.0000,\n",
      "          -1.0000, -1.0000, -1.0000, -1.0000, -1.0000, -1.0000, -1.0000],\n",
      "         [-1.0000, -1.0000, -1.0000, -1.0000, -1.0000, -1.0000, -1.0000,\n",
      "          -1.0000, -1.0000, -1.0000, -1.0000, -1.0000, -1.0000, -0.8902,\n",
      "           0.8431,  0.9294, -0.7098, -1.0000, -1.0000, -1.0000, -1.0000,\n",
      "          -1.0000, -1.0000, -1.0000, -1.0000, -1.0000, -1.0000, -1.0000],\n",
      "         [-1.0000, -1.0000, -1.0000, -1.0000, -1.0000, -1.0000, -1.0000,\n",
      "          -1.0000, -1.0000, -1.0000, -1.0000, -1.0000, -1.0000, -0.3255,\n",
      "           0.9922,  0.8431, -1.0000, -1.0000, -1.0000, -1.0000, -1.0000,\n",
      "          -0.9686,  0.1608, -1.0000, -1.0000, -1.0000, -1.0000, -1.0000],\n",
      "         [-1.0000, -1.0000, -1.0000, -1.0000, -1.0000, -1.0000, -1.0000,\n",
      "          -1.0000, -1.0000, -1.0000, -1.0000, -1.0000, -0.9529,  0.5608,\n",
      "           0.7412, -0.6157, -1.0000, -1.0000, -1.0000, -1.0000, -1.0000,\n",
      "          -0.9608,  0.4588, -1.0000, -1.0000, -1.0000, -1.0000, -1.0000],\n",
      "         [-1.0000, -1.0000, -1.0000, -1.0000, -1.0000, -1.0000, -1.0000,\n",
      "          -1.0000, -1.0000, -1.0000, -1.0000, -1.0000, -0.1608,  0.9922,\n",
      "           0.4980, -1.0000, -1.0000, -1.0000, -1.0000, -1.0000, -1.0000,\n",
      "          -0.9922, -0.8667, -1.0000, -1.0000, -1.0000, -1.0000, -1.0000],\n",
      "         [-1.0000, -1.0000, -1.0000, -1.0000, -1.0000, -1.0000, -1.0000,\n",
      "          -1.0000, -1.0000, -1.0000, -1.0000, -0.9843,  0.4902,  0.9765,\n",
      "          -0.4353, -1.0000, -1.0000, -1.0000, -1.0000, -1.0000, -1.0000,\n",
      "          -0.9843, -0.1451, -1.0000, -1.0000, -1.0000, -1.0000, -1.0000],\n",
      "         [-1.0000, -1.0000, -1.0000, -1.0000, -1.0000, -1.0000, -1.0000,\n",
      "          -1.0000, -1.0000, -1.0000, -1.0000, -0.0980,  0.9922,  0.3490,\n",
      "          -1.0000, -1.0000, -1.0000, -1.0000, -1.0000, -1.0000, -1.0000,\n",
      "          -0.9843, -0.7412, -1.0000, -1.0000, -1.0000, -1.0000, -1.0000],\n",
      "         [-1.0000, -1.0000, -1.0000, -1.0000, -1.0000, -1.0000, -1.0000,\n",
      "          -1.0000, -1.0000, -1.0000, -1.0000,  0.5529,  0.9686, -0.3961,\n",
      "          -1.0000, -1.0000, -1.0000, -1.0000, -1.0000, -1.0000, -1.0000,\n",
      "          -0.9608,  0.3020, -1.0000, -1.0000, -1.0000, -1.0000, -1.0000],\n",
      "         [-1.0000, -1.0000, -1.0000, -1.0000, -1.0000, -1.0000, -1.0000,\n",
      "          -1.0000, -1.0000, -1.0000,  0.0824,  0.9686,  0.5529, -1.0000,\n",
      "          -1.0000, -1.0000, -1.0000, -1.0000, -1.0000, -1.0000, -1.0000,\n",
      "          -0.9608,  0.4588, -1.0000, -1.0000, -1.0000, -1.0000, -1.0000],\n",
      "         [-1.0000, -1.0000, -1.0000, -1.0000, -1.0000, -1.0000, -1.0000,\n",
      "          -1.0000, -1.0000, -1.0000, -1.0000, -1.0000, -1.0000, -1.0000,\n",
      "          -1.0000, -1.0000, -1.0000, -1.0000, -1.0000, -1.0000, -1.0000,\n",
      "          -1.0000, -1.0000, -1.0000, -1.0000, -1.0000, -1.0000, -1.0000],\n",
      "         [-1.0000, -1.0000, -1.0000, -1.0000, -1.0000, -1.0000, -1.0000,\n",
      "          -1.0000, -1.0000, -1.0000, -1.0000, -1.0000, -1.0000, -1.0000,\n",
      "          -1.0000, -1.0000, -1.0000, -1.0000, -1.0000, -1.0000, -1.0000,\n",
      "          -1.0000, -1.0000, -1.0000, -1.0000, -1.0000, -1.0000, -1.0000]]])\n"
     ]
    }
   ],
   "source": [
    "for images, labels in loader:\n",
    "    print(images[0].shape)\n",
    "    imshow(torchvision.utils.make_grid(images[0]))\n",
    "    print(images[0])\n",
    "    break"
   ]
  },
  {
   "cell_type": "markdown",
   "metadata": {},
   "source": [
    "Les images sont en réalités des vecteurs de dimensions 28*28. Le modèle va utiliser ces représentations vectorielles pour itérer sur les images. Chaque nombre représente la couleur du pixel (-1 désigne un pixel noir tandis que 1 désigne un pixel blanc). \n",
    "Les données d'entrainements sont des *digits* écrits à la main. Le modèle va ainsi s'entrainer à imiter des vrais données."
   ]
  },
  {
   "cell_type": "markdown",
   "metadata": {},
   "source": [
    "#### Le Générateur"
   ]
  },
  {
   "cell_type": "markdown",
   "metadata": {},
   "source": [
    "Le générateur est un réseau de neuronne \"basique\" qui prends en entrée un vecteur de taille la dimension des images (ie le nombres de pixels, ici 28x28) "
   ]
  },
  {
   "cell_type": "code",
   "execution_count": 4,
   "metadata": {},
   "outputs": [],
   "source": [
    "class Generator(nn.Module):\n",
    "    def __init__(self, z_dim, img_dim):\n",
    "        super().__init__()\n",
    "        self.gen = nn.Sequential(\n",
    "            nn.Linear(z_dim, 256),\n",
    "            nn.LeakyReLU(0.01),\n",
    "            nn.Linear(256, img_dim),\n",
    "            nn.Tanh(),  # normalize inputs to [-1, 1] so make outputs [-1, 1]\n",
    "        )\n",
    "\n",
    "    def forward(self, x):\n",
    "        return self.gen(x)"
   ]
  },
  {
   "cell_type": "code",
   "execution_count": 5,
   "metadata": {},
   "outputs": [],
   "source": [
    "z_dim = 64 # z correspond à la dimension du vecteur d'entrée du générateur\n",
    "image_dim = 28 * 28 * 1  # Correspond à la dimension de sortie du générateur (et donc de la dimension d'entrée du discriminateur)\n",
    "device = \"cuda\" if torch.cuda.is_available() else \"cpu\"\n",
    "gen = Generator(z_dim, image_dim).to(device)"
   ]
  },
  {
   "cell_type": "code",
   "execution_count": 6,
   "metadata": {},
   "outputs": [
    {
     "name": "stderr",
     "output_type": "stream",
     "text": [
      "Clipping input data to the valid range for imshow with RGB data ([0..1] for floats or [0..255] for integers).\n"
     ]
    },
    {
     "data": {
      "image/png": "[encoded data removed]",
      "text/plain": [
       "<Figure size 640x480 with 1 Axes>"
      ]
     },
     "metadata": {},
     "output_type": "display_data"
    }
   ],
   "source": [
    "noise = torch.randn(1, z_dim).to(device)\n",
    "fake = gen(noise)\n",
    "imshow(torchvision.utils.make_grid(fake.cpu().detach().reshape(-1, 1, 28, 28)[:]))"
   ]
  },
  {
   "cell_type": "code",
   "execution_count": 7,
   "metadata": {},
   "outputs": [
    {
     "data": {
      "text/plain": [
       "tensor([[[[-0.0928, -0.0160, -0.0450, -0.2351, -0.1840, -0.2234,  0.2109,\n",
       "           -0.0151,  0.0232,  0.3743, -0.3198,  0.3203,  0.0247,  0.0992,\n",
       "            0.2189,  0.2226,  0.0444,  0.1652,  0.0252,  0.3836,  0.0482,\n",
       "            0.2025, -0.1057,  0.3889, -0.1093, -0.0540,  0.0263,  0.0265],\n",
       "          [-0.0020,  0.0698,  0.0114,  0.2902,  0.1778, -0.2262, -0.0889,\n",
       "           -0.0554,  0.1691, -0.1697,  0.2935, -0.0109,  0.1640, -0.0220,\n",
       "            0.0277, -0.3775,  0.0584,  0.0371,  0.2961, -0.1429,  0.1851,\n",
       "           -0.1392, -0.2483, -0.1057, -0.1264, -0.0427,  0.0397,  0.1307]]]],\n",
       "       device='cuda:0', grad_fn=<SliceBackward0>)"
      ]
     },
     "execution_count": 7,
     "metadata": {},
     "output_type": "execute_result"
    }
   ],
   "source": [
    "fake.reshape(-1, 1, 28, 28)[:,:,1:3]"
   ]
  },
  {
   "cell_type": "markdown",
   "metadata": {},
   "source": [
    "Ici le générateur génère bien des données comprises entre -1 et 1 qu'on peut afficher sous forme d'image. Maintenant définission le discriminateur. Ce dernier est un réseau de neuronne qui prends en entrée les images (qu'elles soient fausses ou vraies) et ressort un nombre entre 0 et 1, qui représente la plausibilité de la donnée."
   ]
  },
  {
   "cell_type": "markdown",
   "metadata": {},
   "source": [
    "#### Le discriminateur"
   ]
  },
  {
   "cell_type": "code",
   "execution_count": 8,
   "metadata": {},
   "outputs": [],
   "source": [
    "class Discriminator(nn.Module):\n",
    "    def __init__(self, in_features):\n",
    "        super().__init__()\n",
    "        self.disc = nn.Sequential(\n",
    "            nn.Linear(in_features, 128),\n",
    "            nn.LeakyReLU(0.01),\n",
    "            nn.Linear(128, 1),\n",
    "            nn.Sigmoid(), # La fonction sigmoid permet de retourner un nombre entre 0 et 1\n",
    "        )\n",
    "\n",
    "    def forward(self, x):\n",
    "        return self.disc(x)"
   ]
  },
  {
   "cell_type": "code",
   "execution_count": 9,
   "metadata": {},
   "outputs": [
    {
     "data": {
      "text/plain": [
       "tensor([0.4977], device='cuda:0', grad_fn=<ViewBackward0>)"
      ]
     },
     "execution_count": 9,
     "metadata": {},
     "output_type": "execute_result"
    }
   ],
   "source": [
    "disc = Discriminator(image_dim).to(device)\n",
    "disc(fake).view(-1)"
   ]
  },
  {
   "cell_type": "markdown",
   "metadata": {},
   "source": [
    "Ici le discriminateur (qui n'est pas encore entraîné) montre un score de 0.51 pour la fausse données (il aurait donc considérer que cette dernière est une vraie donnée). Comme le générateur s'entraîne lorsqu'il fausse le discriminateur, on entraîne plus régulièrement le discriminateur."
   ]
  },
  {
   "cell_type": "markdown",
   "metadata": {},
   "source": [
    "#### Entraînement du modèle"
   ]
  },
  {
   "cell_type": "markdown",
   "metadata": {},
   "source": [
    "Maintenant on pour l'entraînement du modèle, "
   ]
  },
  {
   "cell_type": "code",
   "execution_count": 10,
   "metadata": {},
   "outputs": [],
   "source": [
    "from tqdm import trange"
   ]
  },
  {
   "cell_type": "code",
   "execution_count": 11,
   "metadata": {},
   "outputs": [],
   "source": [
    "batch_size = 32\n",
    "num_epochs = 30\n",
    "lr = 3e-4\n",
    "z_dim = 64\n",
    "image_dim = 28 * 28 * 1"
   ]
  },
  {
   "cell_type": "code",
   "execution_count": 18,
   "metadata": {},
   "outputs": [
    {
     "name": "stderr",
     "output_type": "stream",
     "text": [
      "  0%|          | 0/5 [00:00<?, ?it/s]"
     ]
    },
    {
     "name": "stdout",
     "output_type": "stream",
     "text": [
      "Epoch [0/5] Batch 0/1875                       Loss D: 0.6848, loss G: 1.3049\n"
     ]
    },
    {
     "name": "stderr",
     "output_type": "stream",
     "text": [
      " 20%|██        | 1/5 [00:22<01:31, 22.80s/it]"
     ]
    },
    {
     "name": "stdout",
     "output_type": "stream",
     "text": [
      "Epoch [1/5] Batch 0/1875                       Loss D: 0.7304, loss G: 0.6874\n"
     ]
    },
    {
     "name": "stderr",
     "output_type": "stream",
     "text": [
      " 40%|████      | 2/5 [00:44<01:05, 21.90s/it]"
     ]
    },
    {
     "name": "stdout",
     "output_type": "stream",
     "text": [
      "Epoch [2/5] Batch 0/1875                       Loss D: 0.6024, loss G: 0.8313\n"
     ]
    },
    {
     "name": "stderr",
     "output_type": "stream",
     "text": [
      " 60%|██████    | 3/5 [01:06<00:44, 22.19s/it]"
     ]
    },
    {
     "name": "stdout",
     "output_type": "stream",
     "text": [
      "Epoch [3/5] Batch 0/1875                       Loss D: 0.5980, loss G: 1.0365\n"
     ]
    },
    {
     "name": "stderr",
     "output_type": "stream",
     "text": [
      " 80%|████████  | 4/5 [01:29<00:22, 22.45s/it]"
     ]
    },
    {
     "name": "stdout",
     "output_type": "stream",
     "text": [
      "Epoch [4/5] Batch 0/1875                       Loss D: 0.5857, loss G: 1.1517\n"
     ]
    },
    {
     "name": "stderr",
     "output_type": "stream",
     "text": [
      "100%|██████████| 5/5 [01:52<00:00, 22.41s/it]\n"
     ]
    }
   ],
   "source": [
    "transforms = transforms.Compose(\n",
    "    [\n",
    "        transforms.ToTensor(),\n",
    "        transforms.Normalize((0.5,), (0.5,)),\n",
    "    ]\n",
    ")\n",
    "dataset = datasets.MNIST(root=\"dataset/\", transform=transforms, download=True)\n",
    "loader = DataLoader(dataset, batch_size=batch_size, shuffle=True)\n",
    "opt_disc = optim.Adam(disc.parameters(), lr=lr) # Choix de l'optimisateur, Adam pour les deux réseaux\n",
    "opt_gen = optim.Adam(gen.parameters(), lr=lr)\n",
    "criterion = nn.BCELoss()\n",
    "num_epochs = 5\n",
    "step = 0\n",
    "k_disc = 1\n",
    "for epoch in trange(num_epochs):\n",
    "    for batch_idx, (real, _) in enumerate(loader):\n",
    "        real = real.view(-1, 784).to(device) # On \"aplatit\" l'image\n",
    "        batch_size = real.shape[0]\n",
    "\n",
    "        ### Entrainement du discriminateur\n",
    "        for _ in range(k_disc):  # k_disc est le nombre d'itérations pour entraîner le discriminateur avant de mettre à jour le générateur\n",
    "            noise = torch.randn(batch_size, z_dim).to(device) # On génère un bruit à partir d'une loi gaussienne qui va servir d'input au générateur\n",
    "            fake = gen(noise) # Le bruit permet que le générateur ne retourne pas tout le temps la même sortie\n",
    "            disc_real = disc(real).view(-1)\n",
    "            lossD_real = criterion(disc_real, torch.ones_like(disc_real)) # Calcul de la fonction de perte pour la vraie donnée\n",
    "            disc_fake = disc(fake.detach()).view(-1)  # detach pour ne pas propager les gradients au générateur\n",
    "            lossD_fake = criterion(disc_fake, torch.zeros_like(disc_fake)) # Calcul de la fonction de perte pour la fausse donnée\n",
    "            lossD = (lossD_real + lossD_fake) / 2\n",
    "            disc.zero_grad() # zero_grad() permet de réinitialiser le gradient à chaque étape\n",
    "            lossD.backward() # On calcul les gradients\n",
    "            opt_disc.step() # On actualise les poids\n",
    "\n",
    "        ### Entrainement du générateur: max log(D(G(z)))\n",
    "        noise = torch.randn(batch_size, z_dim).to(device)\n",
    "        fake = gen(noise)\n",
    "        output = disc(fake).view(-1)\n",
    "        lossG = criterion(output, torch.ones_like(output))\n",
    "        gen.zero_grad()\n",
    "        lossG.backward()\n",
    "        opt_gen.step()\n",
    "\n",
    "        if batch_idx == 0:\n",
    "            print(\n",
    "                f\"Epoch [{epoch}/{num_epochs}] Batch {batch_idx}/{len(loader)} \\\n",
    "                      Loss D: {lossD:.4f}, loss G: {lossG:.4f}\"\n",
    "            )\n",
    "        step += 1"
   ]
  },
  {
   "cell_type": "markdown",
   "metadata": {},
   "source": [
    "#### Génération de fausses images"
   ]
  },
  {
   "cell_type": "code",
   "execution_count": 29,
   "metadata": {},
   "outputs": [
    {
     "name": "stderr",
     "output_type": "stream",
     "text": [
      "Clipping input data to the valid range for imshow with RGB data ([0..1] for floats or [0..255] for integers).\n"
     ]
    },
    {
     "data": {
      "image/png": "[encoded data removed]",
      "text/plain": [
       "<Figure size 640x480 with 1 Axes>"
      ]
     },
     "metadata": {},
     "output_type": "display_data"
    }
   ],
   "source": [
    "noise = torch.randn(24, z_dim).to(device)\n",
    "fake = gen(noise)\n",
    "imshow(torchvision.utils.make_grid(fake.cpu().detach().reshape(-1, 1, 28, 28)[:]))"
   ]
  },
  {
   "cell_type": "markdown",
   "metadata": {},
   "source": [
    "#### Vraies images"
   ]
  },
  {
   "cell_type": "code",
   "execution_count": 27,
   "metadata": {},
   "outputs": [
    {
     "name": "stderr",
     "output_type": "stream",
     "text": [
      "Clipping input data to the valid range for imshow with RGB data ([0..1] for floats or [0..255] for integers).\n"
     ]
    },
    {
     "data": {
      "image/png": "[encoded data removed]",
      "text/plain": [
       "<Figure size 640x480 with 1 Axes>"
      ]
     },
     "metadata": {},
     "output_type": "display_data"
    }
   ],
   "source": [
    "for images, labels in loader:\n",
    "    imshow(torchvision.utils.make_grid(images[:24]))\n",
    "    break"
   ]
  },
  {
   "cell_type": "markdown",
   "metadata": {},
   "source": []
  }
 ],
 "metadata": {
  "kernelspec": {
   "display_name": ".venv",
   "language": "python",
   "name": "python3"
  },
  "language_info": {
   "codemirror_mode": {
    "name": "ipython",
    "version": 3
   },
   "file_extension": ".py",
   "mimetype": "text/x-python",
   "name": "python",
   "nbconvert_exporter": "python",
   "pygments_lexer": "ipython3",
   "version": "3.11.6"
  }
 },
 "nbformat": 4,
 "nbformat_minor": 2
}
