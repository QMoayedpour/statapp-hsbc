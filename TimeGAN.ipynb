{
 "cells": [
  {
   "cell_type": "markdown",
   "metadata": {},
   "source": [
    "<font size=\"+3\">Time-series Generative Adversarial Network (TimeGAN)</font>"
   ]
  },
  {
   "cell_type": "markdown",
   "metadata": {},
   "source": [
    "# Imports & Settings"
   ]
  },
  {
   "cell_type": "code",
   "execution_count": 1,
   "metadata": {
    "ExecuteTime": {
     "end_time": "2020-06-22T14:16:41.928523Z",
     "start_time": "2020-06-22T14:16:41.926684Z"
    }
   },
   "outputs": [],
   "source": [
    "import warnings\n",
    "warnings.filterwarnings('ignore')"
   ]
  },
  {
   "cell_type": "code",
   "execution_count": 2,
   "metadata": {
    "ExecuteTime": {
     "end_time": "2020-06-22T14:16:43.536398Z",
     "start_time": "2020-06-22T14:16:41.930419Z"
    }
   },
   "outputs": [
    {
     "name": "stderr",
     "output_type": "stream",
     "text": [
      "2024-02-15 17:41:03.794729: E external/local_xla/xla/stream_executor/cuda/cuda_dnn.cc:9261] Unable to register cuDNN factory: Attempting to register factory for plugin cuDNN when one has already been registered\n",
      "2024-02-15 17:41:03.794759: E external/local_xla/xla/stream_executor/cuda/cuda_fft.cc:607] Unable to register cuFFT factory: Attempting to register factory for plugin cuFFT when one has already been registered\n",
      "2024-02-15 17:41:03.796884: E external/local_xla/xla/stream_executor/cuda/cuda_blas.cc:1515] Unable to register cuBLAS factory: Attempting to register factory for plugin cuBLAS when one has already been registered\n",
      "2024-02-15 17:41:03.831173: I tensorflow/core/platform/cpu_feature_guard.cc:182] This TensorFlow binary is optimized to use available CPU instructions in performance-critical operations.\n",
      "To enable the following instructions: AVX2 AVX512F FMA, in other operations, rebuild TensorFlow with the appropriate compiler flags.\n",
      "2024-02-15 17:41:05.798177: W tensorflow/compiler/tf2tensorrt/utils/py_utils.cc:38] TF-TRT Warning: Could not find TensorRT\n"
     ]
    }
   ],
   "source": [
    "import pandas as pd\n",
    "import numpy as np\n",
    "from sklearn.preprocessing import MinMaxScaler\n",
    "import tensorflow as tf\n",
    "from pathlib import Path\n",
    "from tqdm import tqdm\n",
    "\n",
    "from tensorflow.keras.models import Sequential, Model\n",
    "from tensorflow.keras.layers import GRU, Dense, RNN, GRUCell, Input\n",
    "from tensorflow.keras.losses import BinaryCrossentropy, MeanSquaredError\n",
    "from tensorflow.keras.optimizers import Adam\n",
    "from tensorflow.keras.callbacks import TensorBoard\n",
    "from tensorflow.keras.utils import plot_model\n",
    "\n",
    "import matplotlib.pyplot as plt\n",
    "import seaborn as sns\n",
    "\n",
    "from utils.network import *\n",
    "from utils.create_data import *\n",
    "from utils.data import Data"
   ]
  },
  {
   "cell_type": "code",
   "execution_count": 3,
   "metadata": {
    "ExecuteTime": {
     "end_time": "2020-06-22T14:16:43.563985Z",
     "start_time": "2020-06-22T14:16:43.537366Z"
    }
   },
   "outputs": [
    {
     "name": "stdout",
     "output_type": "stream",
     "text": [
      "Using CPU\n"
     ]
    }
   ],
   "source": [
    "gpu_devices = tf.config.experimental.list_physical_devices('GPU')\n",
    "if gpu_devices:\n",
    "    print('Using GPU')\n",
    "    tf.config.experimental.set_memory_growth(gpu_devices[0], True)\n",
    "else:\n",
    "    print('Using CPU')"
   ]
  },
  {
   "cell_type": "code",
   "execution_count": 4,
   "metadata": {
    "ExecuteTime": {
     "end_time": "2020-06-22T14:16:43.574151Z",
     "start_time": "2020-06-22T14:16:43.565253Z"
    }
   },
   "outputs": [],
   "source": [
    "sns.set_style('white')"
   ]
  },
  {
   "cell_type": "code",
   "execution_count": 5,
   "metadata": {},
   "outputs": [],
   "source": [
    "np.random.seed(42)\n",
    "tf.random.set_seed(1234)"
   ]
  },
  {
   "cell_type": "markdown",
   "metadata": {},
   "source": [
    "## Experiment Path"
   ]
  },
  {
   "cell_type": "code",
   "execution_count": 6,
   "metadata": {
    "ExecuteTime": {
     "end_time": "2020-06-22T14:16:43.583055Z",
     "start_time": "2020-06-22T14:16:43.575523Z"
    }
   },
   "outputs": [],
   "source": [
    "results_path = Path('time_gan')\n",
    "if not results_path.exists():\n",
    "    results_path.mkdir()"
   ]
  },
  {
   "cell_type": "code",
   "execution_count": 7,
   "metadata": {
    "ExecuteTime": {
     "end_time": "2020-06-22T14:16:43.596178Z",
     "start_time": "2020-06-22T14:16:43.585768Z"
    }
   },
   "outputs": [],
   "source": [
    "experiment = 0"
   ]
  },
  {
   "cell_type": "code",
   "execution_count": 8,
   "metadata": {
    "ExecuteTime": {
     "end_time": "2020-06-22T14:16:43.604235Z",
     "start_time": "2020-06-22T14:16:43.598416Z"
    }
   },
   "outputs": [],
   "source": [
    "log_dir = results_path / f'experiment_{experiment:02}'\n",
    "if not log_dir.exists():\n",
    "    log_dir.mkdir(parents=True)"
   ]
  },
  {
   "cell_type": "code",
   "execution_count": 9,
   "metadata": {
    "ExecuteTime": {
     "end_time": "2020-06-22T14:16:43.624581Z",
     "start_time": "2020-06-22T14:16:43.605204Z"
    }
   },
   "outputs": [],
   "source": [
    "hdf_store = results_path / 'TimeSeriesGAN.h5'"
   ]
  },
  {
   "cell_type": "markdown",
   "metadata": {},
   "source": [
    "# TimeGAN Architecture and Training"
   ]
  },
  {
   "cell_type": "markdown",
   "metadata": {},
   "source": [
    "# Prepare Data"
   ]
  },
  {
   "cell_type": "markdown",
   "metadata": {},
   "source": [
    "The authors demonstrate the applicability of TimeGAN to financial data using 15 years of daily Google stock prices downloaded from Yahoo Finance with six features, namely open, high, low, close and adjusted close price, and volume. We’ll use instead close to 20 years of adjusted close prices for six different tickers because it introduces somewhat higher variability. We follow the original paper in targeting synthetic series with 24 time steps. "
   ]
  },
  {
   "cell_type": "code",
   "execution_count": 10,
   "metadata": {},
   "outputs": [
    {
     "name": "stdout",
     "output_type": "stream",
     "text": [
      "<class 'pandas.core.frame.DataFrame'>\n",
      "RangeIndex: 36540 entries, 0 to 36539\n",
      "Data columns (total 7 columns):\n",
      " #   Column          Non-Null Count  Dtype  \n",
      "---  ------          --------------  -----  \n",
      " 0   ASSETTYPE       36540 non-null  object \n",
      " 1   ASSETSUBTYPE    36540 non-null  object \n",
      " 2   ASSETNAME       36540 non-null  object \n",
      " 3   ISHEDGED        36540 non-null  bool   \n",
      " 4   INDEXPROXYNAME  36540 non-null  object \n",
      " 5   VALUEDATE       36540 non-null  int64  \n",
      " 6   PRICE           36540 non-null  float64\n",
      "dtypes: bool(1), float64(1), int64(1), object(4)\n",
      "memory usage: 1.7+ MB\n"
     ]
    }
   ],
   "source": [
    "df = pd.read_csv('data/GANData.csv')\n",
    "df.info()"
   ]
  },
  {
   "cell_type": "code",
   "execution_count": 11,
   "metadata": {
    "ExecuteTime": {
     "end_time": "2020-06-22T14:16:43.653909Z",
     "start_time": "2020-06-22T14:16:43.641409Z"
    }
   },
   "outputs": [
    {
     "name": "stdout",
     "output_type": "stream",
     "text": [
      "16\n",
      "['Global Property USD Unhedged', 'Infrastructure Debt - USD Unhedged', 'Global Government Bond USD Hedged', 'UK Government Bond - USD Hedged', 'US Government Bond USD Unhedged', 'Europe ex UK Equity - USD Unhedged', 'UK Equity - USD Unhedged', 'US Equity USD Unhedged', 'Liquidity EUR Unhedged in USD', 'Liquidity GBP Unhedged in USD', 'Liquidity USD Unhedged', 'EUR Corporate Bond - USD Hedged', 'Euro High Yield Bond BB-B - USD Hedged', 'GBP Corporate Bond - USD Hedged', 'US High Yield Bond - USD Unhedged', 'USD Corporate Bond - USD Unhedged']\n"
     ]
    }
   ],
   "source": [
    "tseries = [i for i in df.ASSETNAME.unique()]\n",
    "print(len(tseries))\n",
    "print(tseries)"
   ]
  },
  {
   "cell_type": "markdown",
   "metadata": {},
   "source": [
    "## Parameters"
   ]
  },
  {
   "cell_type": "code",
   "execution_count": 12,
   "metadata": {
    "ExecuteTime": {
     "end_time": "2020-06-22T14:16:43.640257Z",
     "start_time": "2020-06-22T14:16:43.625482Z"
    }
   },
   "outputs": [],
   "source": [
    "seq_len = 24\n",
    "n_seq = 1\n",
    "batch_size = 128"
   ]
  },
  {
   "cell_type": "markdown",
   "metadata": {},
   "source": [
    "## Adapting and plotting the time series *Global Property USD Unhedged*"
   ]
  },
  {
   "cell_type": "code",
   "execution_count": 13,
   "metadata": {},
   "outputs": [],
   "source": [
    "pivot_df = df.pivot_table(index='VALUEDATE', columns='ASSETNAME', values='PRICE').reset_index()\n"
   ]
  },
  {
   "cell_type": "code",
   "execution_count": 14,
   "metadata": {},
   "outputs": [
    {
     "data": {
      "text/html": [
       "<div>\n",
       "<style scoped>\n",
       "    .dataframe tbody tr th:only-of-type {\n",
       "        vertical-align: middle;\n",
       "    }\n",
       "\n",
       "    .dataframe tbody tr th {\n",
       "        vertical-align: top;\n",
       "    }\n",
       "\n",
       "    .dataframe thead th {\n",
       "        text-align: right;\n",
       "    }\n",
       "</style>\n",
       "<table border=\"1\" class=\"dataframe\">\n",
       "  <thead>\n",
       "    <tr style=\"text-align: right;\">\n",
       "      <th>ASSETNAME</th>\n",
       "      <th>VALUEDATE</th>\n",
       "      <th>EUR Corporate Bond - USD Hedged</th>\n",
       "      <th>Euro High Yield Bond BB-B - USD Hedged</th>\n",
       "      <th>Europe ex UK Equity - USD Unhedged</th>\n",
       "      <th>GBP Corporate Bond - USD Hedged</th>\n",
       "      <th>Global Government Bond USD Hedged</th>\n",
       "      <th>Global Property USD Unhedged</th>\n",
       "      <th>Infrastructure Debt - USD Unhedged</th>\n",
       "      <th>Liquidity EUR Unhedged in USD</th>\n",
       "      <th>Liquidity GBP Unhedged in USD</th>\n",
       "      <th>Liquidity USD Unhedged</th>\n",
       "      <th>UK Equity - USD Unhedged</th>\n",
       "      <th>UK Government Bond - USD Hedged</th>\n",
       "      <th>US Equity USD Unhedged</th>\n",
       "      <th>US Government Bond USD Unhedged</th>\n",
       "      <th>US High Yield Bond - USD Unhedged</th>\n",
       "      <th>USD Corporate Bond - USD Unhedged</th>\n",
       "    </tr>\n",
       "  </thead>\n",
       "  <tbody>\n",
       "    <tr>\n",
       "      <th>0</th>\n",
       "      <td>35853</td>\n",
       "      <td>NaN</td>\n",
       "      <td>NaN</td>\n",
       "      <td>3343.142000</td>\n",
       "      <td>NaN</td>\n",
       "      <td>NaN</td>\n",
       "      <td>NaN</td>\n",
       "      <td>NaN</td>\n",
       "      <td>NaN</td>\n",
       "      <td>NaN</td>\n",
       "      <td>NaN</td>\n",
       "      <td>NaN</td>\n",
       "      <td>NaN</td>\n",
       "      <td>NaN</td>\n",
       "      <td>NaN</td>\n",
       "      <td>NaN</td>\n",
       "      <td>NaN</td>\n",
       "    </tr>\n",
       "    <tr>\n",
       "      <th>1</th>\n",
       "      <td>35854</td>\n",
       "      <td>124.022</td>\n",
       "      <td>105.701</td>\n",
       "      <td>3343.142000</td>\n",
       "      <td>NaN</td>\n",
       "      <td>332.1846</td>\n",
       "      <td>NaN</td>\n",
       "      <td>NaN</td>\n",
       "      <td>NaN</td>\n",
       "      <td>NaN</td>\n",
       "      <td>145.464901</td>\n",
       "      <td>4151.048000</td>\n",
       "      <td>102.262869</td>\n",
       "      <td>2946.083000</td>\n",
       "      <td>241.530000</td>\n",
       "      <td>NaN</td>\n",
       "      <td>949.244263</td>\n",
       "    </tr>\n",
       "    <tr>\n",
       "      <th>2</th>\n",
       "      <td>35885</td>\n",
       "      <td>124.730</td>\n",
       "      <td>106.964</td>\n",
       "      <td>3610.708000</td>\n",
       "      <td>NaN</td>\n",
       "      <td>334.4977</td>\n",
       "      <td>NaN</td>\n",
       "      <td>NaN</td>\n",
       "      <td>NaN</td>\n",
       "      <td>NaN</td>\n",
       "      <td>146.135886</td>\n",
       "      <td>4370.304000</td>\n",
       "      <td>104.112292</td>\n",
       "      <td>3099.360000</td>\n",
       "      <td>242.190000</td>\n",
       "      <td>NaN</td>\n",
       "      <td>952.750061</td>\n",
       "    </tr>\n",
       "    <tr>\n",
       "      <th>3</th>\n",
       "      <td>35915</td>\n",
       "      <td>124.940</td>\n",
       "      <td>109.238</td>\n",
       "      <td>3709.847000</td>\n",
       "      <td>NaN</td>\n",
       "      <td>336.1632</td>\n",
       "      <td>NaN</td>\n",
       "      <td>NaN</td>\n",
       "      <td>NaN</td>\n",
       "      <td>NaN</td>\n",
       "      <td>146.872656</td>\n",
       "      <td>4379.814000</td>\n",
       "      <td>105.039546</td>\n",
       "      <td>3136.193000</td>\n",
       "      <td>243.270000</td>\n",
       "      <td>NaN</td>\n",
       "      <td>958.766296</td>\n",
       "    </tr>\n",
       "    <tr>\n",
       "      <th>4</th>\n",
       "      <td>35944</td>\n",
       "      <td>NaN</td>\n",
       "      <td>NaN</td>\n",
       "      <td>3878.258000</td>\n",
       "      <td>NaN</td>\n",
       "      <td>NaN</td>\n",
       "      <td>NaN</td>\n",
       "      <td>NaN</td>\n",
       "      <td>NaN</td>\n",
       "      <td>NaN</td>\n",
       "      <td>NaN</td>\n",
       "      <td>NaN</td>\n",
       "      <td>NaN</td>\n",
       "      <td>NaN</td>\n",
       "      <td>NaN</td>\n",
       "      <td>NaN</td>\n",
       "      <td>NaN</td>\n",
       "    </tr>\n",
       "    <tr>\n",
       "      <th>...</th>\n",
       "      <td>...</td>\n",
       "      <td>...</td>\n",
       "      <td>...</td>\n",
       "      <td>...</td>\n",
       "      <td>...</td>\n",
       "      <td>...</td>\n",
       "      <td>...</td>\n",
       "      <td>...</td>\n",
       "      <td>...</td>\n",
       "      <td>...</td>\n",
       "      <td>...</td>\n",
       "      <td>...</td>\n",
       "      <td>...</td>\n",
       "      <td>...</td>\n",
       "      <td>...</td>\n",
       "      <td>...</td>\n",
       "      <td>...</td>\n",
       "    </tr>\n",
       "    <tr>\n",
       "      <th>2617</th>\n",
       "      <td>45160</td>\n",
       "      <td>365.741</td>\n",
       "      <td>455.961</td>\n",
       "      <td>13779.223853</td>\n",
       "      <td>312.383430</td>\n",
       "      <td>844.5036</td>\n",
       "      <td>5091.385814</td>\n",
       "      <td>NaN</td>\n",
       "      <td>NaN</td>\n",
       "      <td>NaN</td>\n",
       "      <td>120.416750</td>\n",
       "      <td>9868.529302</td>\n",
       "      <td>253.346038</td>\n",
       "      <td>19537.023755</td>\n",
       "      <td>580.271813</td>\n",
       "      <td>490.214</td>\n",
       "      <td>2992.667990</td>\n",
       "    </tr>\n",
       "    <tr>\n",
       "      <th>2618</th>\n",
       "      <td>45161</td>\n",
       "      <td>367.725</td>\n",
       "      <td>456.467</td>\n",
       "      <td>13833.668180</td>\n",
       "      <td>315.354005</td>\n",
       "      <td>850.3725</td>\n",
       "      <td>5167.731061</td>\n",
       "      <td>NaN</td>\n",
       "      <td>NaN</td>\n",
       "      <td>NaN</td>\n",
       "      <td>NaN</td>\n",
       "      <td>9894.270122</td>\n",
       "      <td>257.123708</td>\n",
       "      <td>19756.605945</td>\n",
       "      <td>584.867544</td>\n",
       "      <td>492.373</td>\n",
       "      <td>3025.278091</td>\n",
       "    </tr>\n",
       "    <tr>\n",
       "      <th>2619</th>\n",
       "      <td>45169</td>\n",
       "      <td>NaN</td>\n",
       "      <td>NaN</td>\n",
       "      <td>NaN</td>\n",
       "      <td>NaN</td>\n",
       "      <td>NaN</td>\n",
       "      <td>NaN</td>\n",
       "      <td>2263.99</td>\n",
       "      <td>NaN</td>\n",
       "      <td>NaN</td>\n",
       "      <td>NaN</td>\n",
       "      <td>NaN</td>\n",
       "      <td>NaN</td>\n",
       "      <td>NaN</td>\n",
       "      <td>NaN</td>\n",
       "      <td>NaN</td>\n",
       "      <td>NaN</td>\n",
       "    </tr>\n",
       "    <tr>\n",
       "      <th>2620</th>\n",
       "      <td>45199</td>\n",
       "      <td>NaN</td>\n",
       "      <td>NaN</td>\n",
       "      <td>NaN</td>\n",
       "      <td>NaN</td>\n",
       "      <td>NaN</td>\n",
       "      <td>NaN</td>\n",
       "      <td>2255.04</td>\n",
       "      <td>NaN</td>\n",
       "      <td>NaN</td>\n",
       "      <td>NaN</td>\n",
       "      <td>NaN</td>\n",
       "      <td>NaN</td>\n",
       "      <td>NaN</td>\n",
       "      <td>NaN</td>\n",
       "      <td>NaN</td>\n",
       "      <td>NaN</td>\n",
       "    </tr>\n",
       "    <tr>\n",
       "      <th>2621</th>\n",
       "      <td>45230</td>\n",
       "      <td>NaN</td>\n",
       "      <td>NaN</td>\n",
       "      <td>NaN</td>\n",
       "      <td>NaN</td>\n",
       "      <td>NaN</td>\n",
       "      <td>NaN</td>\n",
       "      <td>2253.84</td>\n",
       "      <td>NaN</td>\n",
       "      <td>NaN</td>\n",
       "      <td>NaN</td>\n",
       "      <td>NaN</td>\n",
       "      <td>NaN</td>\n",
       "      <td>NaN</td>\n",
       "      <td>NaN</td>\n",
       "      <td>NaN</td>\n",
       "      <td>NaN</td>\n",
       "    </tr>\n",
       "  </tbody>\n",
       "</table>\n",
       "<p>2622 rows × 17 columns</p>\n",
       "</div>"
      ],
      "text/plain": [
       "ASSETNAME  VALUEDATE  EUR Corporate Bond - USD Hedged  \\\n",
       "0              35853                              NaN   \n",
       "1              35854                          124.022   \n",
       "2              35885                          124.730   \n",
       "3              35915                          124.940   \n",
       "4              35944                              NaN   \n",
       "...              ...                              ...   \n",
       "2617           45160                          365.741   \n",
       "2618           45161                          367.725   \n",
       "2619           45169                              NaN   \n",
       "2620           45199                              NaN   \n",
       "2621           45230                              NaN   \n",
       "\n",
       "ASSETNAME  Euro High Yield Bond BB-B - USD Hedged  \\\n",
       "0                                             NaN   \n",
       "1                                         105.701   \n",
       "2                                         106.964   \n",
       "3                                         109.238   \n",
       "4                                             NaN   \n",
       "...                                           ...   \n",
       "2617                                      455.961   \n",
       "2618                                      456.467   \n",
       "2619                                          NaN   \n",
       "2620                                          NaN   \n",
       "2621                                          NaN   \n",
       "\n",
       "ASSETNAME  Europe ex UK Equity - USD Unhedged  \\\n",
       "0                                 3343.142000   \n",
       "1                                 3343.142000   \n",
       "2                                 3610.708000   \n",
       "3                                 3709.847000   \n",
       "4                                 3878.258000   \n",
       "...                                       ...   \n",
       "2617                             13779.223853   \n",
       "2618                             13833.668180   \n",
       "2619                                      NaN   \n",
       "2620                                      NaN   \n",
       "2621                                      NaN   \n",
       "\n",
       "ASSETNAME  GBP Corporate Bond - USD Hedged  Global Government Bond USD Hedged  \\\n",
       "0                                      NaN                                NaN   \n",
       "1                                      NaN                           332.1846   \n",
       "2                                      NaN                           334.4977   \n",
       "3                                      NaN                           336.1632   \n",
       "4                                      NaN                                NaN   \n",
       "...                                    ...                                ...   \n",
       "2617                            312.383430                           844.5036   \n",
       "2618                            315.354005                           850.3725   \n",
       "2619                                   NaN                                NaN   \n",
       "2620                                   NaN                                NaN   \n",
       "2621                                   NaN                                NaN   \n",
       "\n",
       "ASSETNAME  Global Property USD Unhedged  Infrastructure Debt - USD Unhedged  \\\n",
       "0                                   NaN                                 NaN   \n",
       "1                                   NaN                                 NaN   \n",
       "2                                   NaN                                 NaN   \n",
       "3                                   NaN                                 NaN   \n",
       "4                                   NaN                                 NaN   \n",
       "...                                 ...                                 ...   \n",
       "2617                        5091.385814                                 NaN   \n",
       "2618                        5167.731061                                 NaN   \n",
       "2619                                NaN                             2263.99   \n",
       "2620                                NaN                             2255.04   \n",
       "2621                                NaN                             2253.84   \n",
       "\n",
       "ASSETNAME  Liquidity EUR Unhedged in USD  Liquidity GBP Unhedged in USD  \\\n",
       "0                                    NaN                            NaN   \n",
       "1                                    NaN                            NaN   \n",
       "2                                    NaN                            NaN   \n",
       "3                                    NaN                            NaN   \n",
       "4                                    NaN                            NaN   \n",
       "...                                  ...                            ...   \n",
       "2617                                 NaN                            NaN   \n",
       "2618                                 NaN                            NaN   \n",
       "2619                                 NaN                            NaN   \n",
       "2620                                 NaN                            NaN   \n",
       "2621                                 NaN                            NaN   \n",
       "\n",
       "ASSETNAME  Liquidity USD Unhedged  UK Equity - USD Unhedged  \\\n",
       "0                             NaN                       NaN   \n",
       "1                      145.464901               4151.048000   \n",
       "2                      146.135886               4370.304000   \n",
       "3                      146.872656               4379.814000   \n",
       "4                             NaN                       NaN   \n",
       "...                           ...                       ...   \n",
       "2617                   120.416750               9868.529302   \n",
       "2618                          NaN               9894.270122   \n",
       "2619                          NaN                       NaN   \n",
       "2620                          NaN                       NaN   \n",
       "2621                          NaN                       NaN   \n",
       "\n",
       "ASSETNAME  UK Government Bond - USD Hedged  US Equity USD Unhedged  \\\n",
       "0                                      NaN                     NaN   \n",
       "1                               102.262869             2946.083000   \n",
       "2                               104.112292             3099.360000   \n",
       "3                               105.039546             3136.193000   \n",
       "4                                      NaN                     NaN   \n",
       "...                                    ...                     ...   \n",
       "2617                            253.346038            19537.023755   \n",
       "2618                            257.123708            19756.605945   \n",
       "2619                                   NaN                     NaN   \n",
       "2620                                   NaN                     NaN   \n",
       "2621                                   NaN                     NaN   \n",
       "\n",
       "ASSETNAME  US Government Bond USD Unhedged  US High Yield Bond - USD Unhedged  \\\n",
       "0                                      NaN                                NaN   \n",
       "1                               241.530000                                NaN   \n",
       "2                               242.190000                                NaN   \n",
       "3                               243.270000                                NaN   \n",
       "4                                      NaN                                NaN   \n",
       "...                                    ...                                ...   \n",
       "2617                            580.271813                            490.214   \n",
       "2618                            584.867544                            492.373   \n",
       "2619                                   NaN                                NaN   \n",
       "2620                                   NaN                                NaN   \n",
       "2621                                   NaN                                NaN   \n",
       "\n",
       "ASSETNAME  USD Corporate Bond - USD Unhedged  \n",
       "0                                        NaN  \n",
       "1                                 949.244263  \n",
       "2                                 952.750061  \n",
       "3                                 958.766296  \n",
       "4                                        NaN  \n",
       "...                                      ...  \n",
       "2617                             2992.667990  \n",
       "2618                             3025.278091  \n",
       "2619                                     NaN  \n",
       "2620                                     NaN  \n",
       "2621                                     NaN  \n",
       "\n",
       "[2622 rows x 17 columns]"
      ]
     },
     "execution_count": 14,
     "metadata": {},
     "output_type": "execute_result"
    }
   ],
   "source": [
    "pivot_df"
   ]
  },
  {
   "cell_type": "code",
   "execution_count": 15,
   "metadata": {},
   "outputs": [
    {
     "name": "stdout",
     "output_type": "stream",
     "text": [
      "2507\n",
      "224\n",
      "2503\n",
      "2495\n",
      "2439\n",
      "2572\n",
      "2514\n",
      "2519\n",
      "2085\n",
      "1899\n",
      "2483\n",
      "2528\n",
      "2528\n",
      "2483\n",
      "2332\n",
      "2429\n"
     ]
    }
   ],
   "source": [
    "for i in tseries : \n",
    "    print(len(df[df[\"ASSETNAME\"] == i]))\n"
   ]
  },
  {
   "cell_type": "code",
   "execution_count": 16,
   "metadata": {},
   "outputs": [
    {
     "data": {
      "text/html": [
       "<div>\n",
       "<style scoped>\n",
       "    .dataframe tbody tr th:only-of-type {\n",
       "        vertical-align: middle;\n",
       "    }\n",
       "\n",
       "    .dataframe tbody tr th {\n",
       "        vertical-align: top;\n",
       "    }\n",
       "\n",
       "    .dataframe thead th {\n",
       "        text-align: right;\n",
       "    }\n",
       "</style>\n",
       "<table border=\"1\" class=\"dataframe\">\n",
       "  <thead>\n",
       "    <tr style=\"text-align: right;\">\n",
       "      <th></th>\n",
       "      <th>ASSETTYPE</th>\n",
       "      <th>ASSETSUBTYPE</th>\n",
       "      <th>ASSETNAME</th>\n",
       "      <th>ISHEDGED</th>\n",
       "      <th>INDEXPROXYNAME</th>\n",
       "      <th>VALUEDATE</th>\n",
       "      <th>PRICE</th>\n",
       "    </tr>\n",
       "  </thead>\n",
       "  <tbody>\n",
       "    <tr>\n",
       "      <th>0</th>\n",
       "      <td>Alternative</td>\n",
       "      <td>Property</td>\n",
       "      <td>Global Property USD Unhedged</td>\n",
       "      <td>False</td>\n",
       "      <td>FTSE Russell FTSE EPRA Nareit Developed Index ...</td>\n",
       "      <td>36219</td>\n",
       "      <td>889.64</td>\n",
       "    </tr>\n",
       "    <tr>\n",
       "      <th>1</th>\n",
       "      <td>Alternative</td>\n",
       "      <td>Property</td>\n",
       "      <td>Global Property USD Unhedged</td>\n",
       "      <td>False</td>\n",
       "      <td>FTSE Russell FTSE EPRA Nareit Developed Index ...</td>\n",
       "      <td>36250</td>\n",
       "      <td>916.07</td>\n",
       "    </tr>\n",
       "    <tr>\n",
       "      <th>2</th>\n",
       "      <td>Alternative</td>\n",
       "      <td>Property</td>\n",
       "      <td>Global Property USD Unhedged</td>\n",
       "      <td>False</td>\n",
       "      <td>FTSE Russell FTSE EPRA Nareit Developed Index ...</td>\n",
       "      <td>36280</td>\n",
       "      <td>1006.43</td>\n",
       "    </tr>\n",
       "    <tr>\n",
       "      <th>3</th>\n",
       "      <td>Alternative</td>\n",
       "      <td>Property</td>\n",
       "      <td>Global Property USD Unhedged</td>\n",
       "      <td>False</td>\n",
       "      <td>FTSE Russell FTSE EPRA Nareit Developed Index ...</td>\n",
       "      <td>36311</td>\n",
       "      <td>983.72</td>\n",
       "    </tr>\n",
       "    <tr>\n",
       "      <th>4</th>\n",
       "      <td>Alternative</td>\n",
       "      <td>Property</td>\n",
       "      <td>Global Property USD Unhedged</td>\n",
       "      <td>False</td>\n",
       "      <td>FTSE Russell FTSE EPRA Nareit Developed Index ...</td>\n",
       "      <td>36341</td>\n",
       "      <td>1005.67</td>\n",
       "    </tr>\n",
       "  </tbody>\n",
       "</table>\n",
       "</div>"
      ],
      "text/plain": [
       "     ASSETTYPE ASSETSUBTYPE                     ASSETNAME  ISHEDGED  \\\n",
       "0  Alternative     Property  Global Property USD Unhedged     False   \n",
       "1  Alternative     Property  Global Property USD Unhedged     False   \n",
       "2  Alternative     Property  Global Property USD Unhedged     False   \n",
       "3  Alternative     Property  Global Property USD Unhedged     False   \n",
       "4  Alternative     Property  Global Property USD Unhedged     False   \n",
       "\n",
       "                                      INDEXPROXYNAME  VALUEDATE    PRICE  \n",
       "0  FTSE Russell FTSE EPRA Nareit Developed Index ...      36219   889.64  \n",
       "1  FTSE Russell FTSE EPRA Nareit Developed Index ...      36250   916.07  \n",
       "2  FTSE Russell FTSE EPRA Nareit Developed Index ...      36280  1006.43  \n",
       "3  FTSE Russell FTSE EPRA Nareit Developed Index ...      36311   983.72  \n",
       "4  FTSE Russell FTSE EPRA Nareit Developed Index ...      36341  1005.67  "
      ]
     },
     "execution_count": 16,
     "metadata": {},
     "output_type": "execute_result"
    }
   ],
   "source": [
    "df_asset_1 = df[df[\"ASSETNAME\"] == tseries[0]]\n",
    "df_asset_1.head()"
   ]
  },
  {
   "cell_type": "code",
   "execution_count": 17,
   "metadata": {},
   "outputs": [
    {
     "data": {
      "text/html": [
       "<div>\n",
       "<style scoped>\n",
       "    .dataframe tbody tr th:only-of-type {\n",
       "        vertical-align: middle;\n",
       "    }\n",
       "\n",
       "    .dataframe tbody tr th {\n",
       "        vertical-align: top;\n",
       "    }\n",
       "\n",
       "    .dataframe thead th {\n",
       "        text-align: right;\n",
       "    }\n",
       "</style>\n",
       "<table border=\"1\" class=\"dataframe\">\n",
       "  <thead>\n",
       "    <tr style=\"text-align: right;\">\n",
       "      <th>ASSETNAME</th>\n",
       "      <th>VALUEDATE</th>\n",
       "      <th>Global Property USD Unhedged</th>\n",
       "    </tr>\n",
       "  </thead>\n",
       "  <tbody>\n",
       "    <tr>\n",
       "      <th>0</th>\n",
       "      <td>36219</td>\n",
       "      <td>889.64</td>\n",
       "    </tr>\n",
       "    <tr>\n",
       "      <th>1</th>\n",
       "      <td>36250</td>\n",
       "      <td>916.07</td>\n",
       "    </tr>\n",
       "    <tr>\n",
       "      <th>2</th>\n",
       "      <td>36280</td>\n",
       "      <td>1006.43</td>\n",
       "    </tr>\n",
       "    <tr>\n",
       "      <th>3</th>\n",
       "      <td>36311</td>\n",
       "      <td>983.72</td>\n",
       "    </tr>\n",
       "    <tr>\n",
       "      <th>4</th>\n",
       "      <td>36341</td>\n",
       "      <td>1005.67</td>\n",
       "    </tr>\n",
       "  </tbody>\n",
       "</table>\n",
       "</div>"
      ],
      "text/plain": [
       "ASSETNAME  VALUEDATE  Global Property USD Unhedged\n",
       "0              36219                        889.64\n",
       "1              36250                        916.07\n",
       "2              36280                       1006.43\n",
       "3              36311                        983.72\n",
       "4              36341                       1005.67"
      ]
     },
     "execution_count": 17,
     "metadata": {},
     "output_type": "execute_result"
    }
   ],
   "source": [
    "df_asset_1 = df_asset_1.pivot_table(index='VALUEDATE', columns='ASSETNAME', values='PRICE').reset_index()\n",
    "df_asset_1.head()"
   ]
  },
  {
   "cell_type": "code",
   "execution_count": 18,
   "metadata": {},
   "outputs": [],
   "source": [
    "df_asset_1.drop(columns =[\"VALUEDATE\"], inplace = True)"
   ]
  },
  {
   "cell_type": "code",
   "execution_count": 19,
   "metadata": {},
   "outputs": [
    {
     "data": {
      "text/html": [
       "<div>\n",
       "<style scoped>\n",
       "    .dataframe tbody tr th:only-of-type {\n",
       "        vertical-align: middle;\n",
       "    }\n",
       "\n",
       "    .dataframe tbody tr th {\n",
       "        vertical-align: top;\n",
       "    }\n",
       "\n",
       "    .dataframe thead th {\n",
       "        text-align: right;\n",
       "    }\n",
       "</style>\n",
       "<table border=\"1\" class=\"dataframe\">\n",
       "  <thead>\n",
       "    <tr style=\"text-align: right;\">\n",
       "      <th>ASSETNAME</th>\n",
       "      <th>Global Property USD Unhedged</th>\n",
       "    </tr>\n",
       "  </thead>\n",
       "  <tbody>\n",
       "    <tr>\n",
       "      <th>0</th>\n",
       "      <td>889.640000</td>\n",
       "    </tr>\n",
       "    <tr>\n",
       "      <th>1</th>\n",
       "      <td>916.070000</td>\n",
       "    </tr>\n",
       "    <tr>\n",
       "      <th>2</th>\n",
       "      <td>1006.430000</td>\n",
       "    </tr>\n",
       "    <tr>\n",
       "      <th>3</th>\n",
       "      <td>983.720000</td>\n",
       "    </tr>\n",
       "    <tr>\n",
       "      <th>4</th>\n",
       "      <td>1005.670000</td>\n",
       "    </tr>\n",
       "    <tr>\n",
       "      <th>...</th>\n",
       "      <td>...</td>\n",
       "    </tr>\n",
       "    <tr>\n",
       "      <th>2502</th>\n",
       "      <td>5124.047938</td>\n",
       "    </tr>\n",
       "    <tr>\n",
       "      <th>2503</th>\n",
       "      <td>5116.900747</td>\n",
       "    </tr>\n",
       "    <tr>\n",
       "      <th>2504</th>\n",
       "      <td>5063.070159</td>\n",
       "    </tr>\n",
       "    <tr>\n",
       "      <th>2505</th>\n",
       "      <td>5091.385814</td>\n",
       "    </tr>\n",
       "    <tr>\n",
       "      <th>2506</th>\n",
       "      <td>5167.731061</td>\n",
       "    </tr>\n",
       "  </tbody>\n",
       "</table>\n",
       "<p>2507 rows × 1 columns</p>\n",
       "</div>"
      ],
      "text/plain": [
       "ASSETNAME  Global Property USD Unhedged\n",
       "0                            889.640000\n",
       "1                            916.070000\n",
       "2                           1006.430000\n",
       "3                            983.720000\n",
       "4                           1005.670000\n",
       "...                                 ...\n",
       "2502                        5124.047938\n",
       "2503                        5116.900747\n",
       "2504                        5063.070159\n",
       "2505                        5091.385814\n",
       "2506                        5167.731061\n",
       "\n",
       "[2507 rows x 1 columns]"
      ]
     },
     "execution_count": 19,
     "metadata": {},
     "output_type": "execute_result"
    }
   ],
   "source": [
    "df_asset_1"
   ]
  },
  {
   "cell_type": "code",
   "execution_count": 20,
   "metadata": {},
   "outputs": [],
   "source": [
    "df_asset_1['Global Property USD Unhedged'] = df_asset_1['Global Property USD Unhedged'].div(df_asset_1['Global Property USD Unhedged'].iloc[0])"
   ]
  },
  {
   "cell_type": "code",
   "execution_count": 21,
   "metadata": {},
   "outputs": [
    {
     "data": {
      "text/html": [
       "<div>\n",
       "<style scoped>\n",
       "    .dataframe tbody tr th:only-of-type {\n",
       "        vertical-align: middle;\n",
       "    }\n",
       "\n",
       "    .dataframe tbody tr th {\n",
       "        vertical-align: top;\n",
       "    }\n",
       "\n",
       "    .dataframe thead th {\n",
       "        text-align: right;\n",
       "    }\n",
       "</style>\n",
       "<table border=\"1\" class=\"dataframe\">\n",
       "  <thead>\n",
       "    <tr style=\"text-align: right;\">\n",
       "      <th>ASSETNAME</th>\n",
       "      <th>Global Property USD Unhedged</th>\n",
       "    </tr>\n",
       "  </thead>\n",
       "  <tbody>\n",
       "    <tr>\n",
       "      <th>0</th>\n",
       "      <td>1.000000</td>\n",
       "    </tr>\n",
       "    <tr>\n",
       "      <th>1</th>\n",
       "      <td>1.029709</td>\n",
       "    </tr>\n",
       "    <tr>\n",
       "      <th>2</th>\n",
       "      <td>1.131278</td>\n",
       "    </tr>\n",
       "    <tr>\n",
       "      <th>3</th>\n",
       "      <td>1.105751</td>\n",
       "    </tr>\n",
       "    <tr>\n",
       "      <th>4</th>\n",
       "      <td>1.130424</td>\n",
       "    </tr>\n",
       "    <tr>\n",
       "      <th>...</th>\n",
       "      <td>...</td>\n",
       "    </tr>\n",
       "    <tr>\n",
       "      <th>2502</th>\n",
       "      <td>5.759687</td>\n",
       "    </tr>\n",
       "    <tr>\n",
       "      <th>2503</th>\n",
       "      <td>5.751653</td>\n",
       "    </tr>\n",
       "    <tr>\n",
       "      <th>2504</th>\n",
       "      <td>5.691145</td>\n",
       "    </tr>\n",
       "    <tr>\n",
       "      <th>2505</th>\n",
       "      <td>5.722973</td>\n",
       "    </tr>\n",
       "    <tr>\n",
       "      <th>2506</th>\n",
       "      <td>5.808789</td>\n",
       "    </tr>\n",
       "  </tbody>\n",
       "</table>\n",
       "<p>2507 rows × 1 columns</p>\n",
       "</div>"
      ],
      "text/plain": [
       "ASSETNAME  Global Property USD Unhedged\n",
       "0                              1.000000\n",
       "1                              1.029709\n",
       "2                              1.131278\n",
       "3                              1.105751\n",
       "4                              1.130424\n",
       "...                                 ...\n",
       "2502                           5.759687\n",
       "2503                           5.751653\n",
       "2504                           5.691145\n",
       "2505                           5.722973\n",
       "2506                           5.808789\n",
       "\n",
       "[2507 rows x 1 columns]"
      ]
     },
     "execution_count": 21,
     "metadata": {},
     "output_type": "execute_result"
    }
   ],
   "source": [
    "df_asset_1"
   ]
  },
  {
   "cell_type": "code",
   "execution_count": 22,
   "metadata": {},
   "outputs": [
    {
     "name": "stderr",
     "output_type": "stream",
     "text": [
      "No artists with labels found to put in legend.  Note that artists whose label start with an underscore are ignored when legend() is called with no argument.\n"
     ]
    },
    {
     "data": {
      "image/png": "[encoded data removed]",
      "text/plain": [
       "<Figure size 640x480 with 1 Axes>"
      ]
     },
     "metadata": {},
     "output_type": "display_data"
    }
   ],
   "source": [
    "simple_plot(df_asset_1['Global Property USD Unhedged'], \"Global Property USD Unhedged\")"
   ]
  },
  {
   "cell_type": "markdown",
   "metadata": {},
   "source": [
    "## Normalize Data"
   ]
  },
  {
   "cell_type": "markdown",
   "metadata": {},
   "source": [
    "We scale each series to the range [0, 1] using scikit-learn’s `MinMaxScaler` that we later use to rescale the synthetic data."
   ]
  },
  {
   "cell_type": "code",
   "execution_count": 23,
   "metadata": {
    "ExecuteTime": {
     "end_time": "2020-06-22T14:16:51.112479Z",
     "start_time": "2020-06-22T14:16:51.106154Z"
    }
   },
   "outputs": [],
   "source": [
    "scaler = MinMaxScaler()\n",
    "scaled_df_asset1 = scaler.fit_transform(df_asset_1).astype(np.float32)"
   ]
  },
  {
   "cell_type": "markdown",
   "metadata": {},
   "source": [
    "## Create rolling window sequences"
   ]
  },
  {
   "cell_type": "markdown",
   "metadata": {},
   "source": [
    "In the next step, we create rolling windows containing overlapping sequences of 24 consecutive data points for the six series:"
   ]
  },
  {
   "cell_type": "code",
   "execution_count": 24,
   "metadata": {
    "ExecuteTime": {
     "end_time": "2020-06-22T14:16:51.124689Z",
     "start_time": "2020-06-22T14:16:51.114092Z"
    }
   },
   "outputs": [],
   "source": [
    "data = []\n",
    "for i in range(len(df_asset_1) - seq_len):\n",
    "    data.append(scaled_df_asset1[i:i + seq_len])\n",
    "\n",
    "n_windows = len(data)"
   ]
  },
  {
   "cell_type": "markdown",
   "metadata": {},
   "source": [
    "## Create tf.data.Dataset"
   ]
  },
  {
   "cell_type": "code",
   "execution_count": 25,
   "metadata": {
    "ExecuteTime": {
     "end_time": "2020-06-22T14:16:51.460479Z",
     "start_time": "2020-06-22T14:16:51.127466Z"
    }
   },
   "outputs": [],
   "source": [
    "real_series = (tf.data.Dataset\n",
    "               .from_tensor_slices(data)\n",
    "               .shuffle(buffer_size=n_windows)\n",
    "               .batch(batch_size))\n",
    "real_series_iter = iter(real_series.repeat())"
   ]
  },
  {
   "cell_type": "code",
   "execution_count": 26,
   "metadata": {},
   "outputs": [
    {
     "name": "stdout",
     "output_type": "stream",
     "text": [
      "<_BatchDataset element_spec=TensorSpec(shape=(None, 24, 1), dtype=tf.float32, name=None)>\n"
     ]
    }
   ],
   "source": [
    "print(real_series)"
   ]
  },
  {
   "cell_type": "code",
   "execution_count": 27,
   "metadata": {},
   "outputs": [
    {
     "name": "stdout",
     "output_type": "stream",
     "text": [
      "<tensorflow.python.data.ops.iterator_ops.OwnedIterator object at 0x7f5a04684fa0>\n"
     ]
    }
   ],
   "source": [
    "print(real_series_iter)"
   ]
  },
  {
   "cell_type": "markdown",
   "metadata": {},
   "source": [
    "## Set up random series generator"
   ]
  },
  {
   "cell_type": "markdown",
   "metadata": {},
   "source": [
    "We also need a random time series generator that produces simulated data with 24 observations on the six series as long as the training continues.\n",
    "\n",
    "To this end, we create a generator that draws the requisite data uniform at random and feed the result into a second `tf.data.Dataset`. We set this `Dataset` to produce batches of the desired size and to repeat the process as long as necessary:"
   ]
  },
  {
   "cell_type": "code",
   "execution_count": 28,
   "metadata": {
    "ExecuteTime": {
     "end_time": "2020-06-22T14:16:51.465137Z",
     "start_time": "2020-06-22T14:16:51.462655Z"
    }
   },
   "outputs": [],
   "source": [
    "def make_random_data():\n",
    "    while True:\n",
    "        yield np.random.uniform(low=0, high=1, size=(seq_len, n_seq))"
   ]
  },
  {
   "cell_type": "markdown",
   "metadata": {},
   "source": [
    "We use the Python generator to feed a `tf.data.Dataset` that continues to call the random number generator as long as necessary and produces the desired batch size."
   ]
  },
  {
   "cell_type": "code",
   "execution_count": 29,
   "metadata": {
    "ExecuteTime": {
     "end_time": "2020-06-22T14:16:51.501020Z",
     "start_time": "2020-06-22T14:16:51.466315Z"
    }
   },
   "outputs": [],
   "source": [
    "random_series = iter(tf.data.Dataset\n",
    "                     .from_generator(make_random_data, output_types=tf.float32)\n",
    "                     .batch(batch_size)\n",
    "                     .repeat())"
   ]
  },
  {
   "cell_type": "markdown",
   "metadata": {},
   "source": [
    "# TimeGAN Setup"
   ]
  },
  {
   "cell_type": "markdown",
   "metadata": {},
   "source": [
    "We’ll now create the two autoencoder components and the two adversarial network elements, as well as the supervisor that encourages the generator to learn the temporal dynamic of the historical price series."
   ]
  },
  {
   "cell_type": "markdown",
   "metadata": {},
   "source": [
    "##  Network Parameters"
   ]
  },
  {
   "cell_type": "markdown",
   "metadata": {},
   "source": [
    "We follow the authors’ sample code in creating RNNs with three hidden layers with 24 GRU units each, except for the supervisor that only uses two hidden layers."
   ]
  },
  {
   "cell_type": "code",
   "execution_count": 30,
   "metadata": {
    "ExecuteTime": {
     "end_time": "2020-06-22T14:16:51.504888Z",
     "start_time": "2020-06-22T14:16:51.502406Z"
    }
   },
   "outputs": [],
   "source": [
    "hidden_dim = 24\n",
    "num_layers = 3"
   ]
  },
  {
   "cell_type": "markdown",
   "metadata": {
    "ExecuteTime": {
     "end_time": "2020-06-11T21:00:46.029497Z",
     "start_time": "2020-06-11T21:00:46.027650Z"
    }
   },
   "source": [
    "## Set up logger"
   ]
  },
  {
   "cell_type": "code",
   "execution_count": 31,
   "metadata": {
    "ExecuteTime": {
     "end_time": "2020-06-22T14:16:51.514147Z",
     "start_time": "2020-06-22T14:16:51.506392Z"
    }
   },
   "outputs": [],
   "source": [
    "writer = tf.summary.create_file_writer(log_dir.as_posix())"
   ]
  },
  {
   "cell_type": "markdown",
   "metadata": {
    "ExecuteTime": {
     "end_time": "2020-06-11T21:01:03.536533Z",
     "start_time": "2020-06-11T21:01:03.534324Z"
    }
   },
   "source": [
    "## Input place holders"
   ]
  },
  {
   "cell_type": "code",
   "execution_count": 32,
   "metadata": {
    "ExecuteTime": {
     "end_time": "2020-06-22T14:16:51.539209Z",
     "start_time": "2020-06-22T14:16:51.515706Z"
    }
   },
   "outputs": [],
   "source": [
    "X = Input(shape=[seq_len, n_seq], name='RealData')\n",
    "Z = Input(shape=[seq_len, n_seq], name='RandomData')"
   ]
  },
  {
   "cell_type": "markdown",
   "metadata": {},
   "source": [
    "## RNN block generator"
   ]
  },
  {
   "cell_type": "markdown",
   "metadata": {},
   "source": [
    "We keep it simple and use a very similar architecture for all four components. For a real-world application, they should be tailored to the data."
   ]
  },
  {
   "cell_type": "markdown",
   "metadata": {},
   "source": [
    "The following `make_rnn` function automates the network creation:"
   ]
  },
  {
   "cell_type": "code",
   "execution_count": 33,
   "metadata": {
    "ExecuteTime": {
     "end_time": "2020-06-22T14:16:51.547728Z",
     "start_time": "2020-06-22T14:16:51.542460Z"
    }
   },
   "outputs": [],
   "source": [
    "def make_rnn(n_layers, hidden_units, output_units, name):\n",
    "    return Sequential([GRU(units=hidden_units,\n",
    "                           return_sequences=True,\n",
    "                           name=f'GRU_{i + 1}') for i in range(n_layers)] +\n",
    "                      [Dense(units=output_units,\n",
    "                             activation='sigmoid',\n",
    "                             name='OUT')], name=name)"
   ]
  },
  {
   "cell_type": "markdown",
   "metadata": {},
   "source": [
    "## Embedder & Recovery"
   ]
  },
  {
   "cell_type": "markdown",
   "metadata": {},
   "source": [
    "The autoencoder consists of the embedder and the recovery networks that we instantiate here:"
   ]
  },
  {
   "cell_type": "code",
   "execution_count": 34,
   "metadata": {
    "ExecuteTime": {
     "end_time": "2020-06-22T14:16:51.594039Z",
     "start_time": "2020-06-22T14:16:51.549914Z"
    }
   },
   "outputs": [],
   "source": [
    "embedder = make_rnn(n_layers=3, \n",
    "                    hidden_units=hidden_dim, \n",
    "                    output_units=hidden_dim, \n",
    "                    name='Embedder')\n",
    "recovery = make_rnn(n_layers=3, \n",
    "                    hidden_units=hidden_dim, \n",
    "                    output_units=n_seq, \n",
    "                    name='Recovery')"
   ]
  },
  {
   "cell_type": "markdown",
   "metadata": {
    "ExecuteTime": {
     "end_time": "2020-06-11T21:02:03.263130Z",
     "start_time": "2020-06-11T21:02:03.260572Z"
    }
   },
   "source": [
    "## Generator & Discriminator"
   ]
  },
  {
   "cell_type": "markdown",
   "metadata": {
    "ExecuteTime": {
     "end_time": "2020-11-18T15:45:29.621203Z",
     "start_time": "2020-11-18T15:45:29.618574Z"
    }
   },
   "source": [
    "We then create the generator, the discriminator, and the supervisor like so:"
   ]
  },
  {
   "cell_type": "code",
   "execution_count": 35,
   "metadata": {
    "ExecuteTime": {
     "end_time": "2020-06-22T14:16:51.646017Z",
     "start_time": "2020-06-22T14:16:51.595598Z"
    }
   },
   "outputs": [],
   "source": [
    "generator = make_rnn(n_layers=3, \n",
    "                     hidden_units=hidden_dim, \n",
    "                     output_units=hidden_dim, \n",
    "                     name='Generator')\n",
    "discriminator = make_rnn(n_layers=3, \n",
    "                         hidden_units=hidden_dim, \n",
    "                         output_units=1, \n",
    "                         name='Discriminator')\n",
    "supervisor = make_rnn(n_layers=2, \n",
    "                      hidden_units=hidden_dim, \n",
    "                      output_units=hidden_dim, \n",
    "                      name='Supervisor')"
   ]
  },
  {
   "cell_type": "markdown",
   "metadata": {},
   "source": [
    "# TimeGAN Training"
   ]
  },
  {
   "cell_type": "markdown",
   "metadata": {},
   "source": [
    "## Settings"
   ]
  },
  {
   "cell_type": "code",
   "execution_count": 36,
   "metadata": {
    "ExecuteTime": {
     "end_time": "2020-06-22T14:16:51.654925Z",
     "start_time": "2020-06-22T14:16:51.647411Z"
    }
   },
   "outputs": [],
   "source": [
    "train_steps = 10000\n",
    "gamma = 1"
   ]
  },
  {
   "cell_type": "markdown",
   "metadata": {},
   "source": [
    "## Generic Loss Functions"
   ]
  },
  {
   "cell_type": "markdown",
   "metadata": {},
   "source": [
    "We also define two generic loss functions, namely `MeanSquaredError` and `BinaryCrossEntropy` that we will use later to create the various specific loss functions during the three phases:"
   ]
  },
  {
   "cell_type": "code",
   "execution_count": 37,
   "metadata": {
    "ExecuteTime": {
     "end_time": "2020-06-22T14:16:51.668710Z",
     "start_time": "2020-06-22T14:16:51.656698Z"
    }
   },
   "outputs": [],
   "source": [
    "mse = MeanSquaredError()\n",
    "bce = BinaryCrossentropy()"
   ]
  },
  {
   "cell_type": "markdown",
   "metadata": {},
   "source": [
    "# Phase 1: Autoencoder Training"
   ]
  },
  {
   "cell_type": "markdown",
   "metadata": {},
   "source": [
    "## Architecture"
   ]
  },
  {
   "cell_type": "markdown",
   "metadata": {},
   "source": [
    "The autoencoder integrates the embedder and the recovery functions:"
   ]
  },
  {
   "cell_type": "code",
   "execution_count": 38,
   "metadata": {
    "ExecuteTime": {
     "end_time": "2020-06-22T14:16:53.289403Z",
     "start_time": "2020-06-22T14:16:51.670765Z"
    }
   },
   "outputs": [],
   "source": [
    "H = embedder(X)\n",
    "X_tilde = recovery(H)\n",
    "\n",
    "autoencoder = Model(inputs=X,\n",
    "                    outputs=X_tilde,\n",
    "                    name='Autoencoder')"
   ]
  },
  {
   "cell_type": "code",
   "execution_count": 39,
   "metadata": {
    "ExecuteTime": {
     "end_time": "2020-06-22T14:16:53.294438Z",
     "start_time": "2020-06-22T14:16:53.290299Z"
    }
   },
   "outputs": [
    {
     "name": "stdout",
     "output_type": "stream",
     "text": [
      "Model: \"Autoencoder\"\n",
      "_________________________________________________________________\n",
      " Layer (type)                Output Shape              Param #   \n",
      "=================================================================\n",
      " RealData (InputLayer)       [(None, 24, 1)]           0         \n",
      "                                                                 \n",
      " Embedder (Sequential)       (None, 24, 24)            9744      \n",
      "                                                                 \n",
      " Recovery (Sequential)       (None, 24, 1)             10825     \n",
      "                                                                 \n",
      "=================================================================\n",
      "Total params: 20569 (80.35 KB)\n",
      "Trainable params: 20569 (80.35 KB)\n",
      "Non-trainable params: 0 (0.00 Byte)\n",
      "_________________________________________________________________\n"
     ]
    }
   ],
   "source": [
    "autoencoder.summary()"
   ]
  },
  {
   "cell_type": "markdown",
   "metadata": {},
   "source": [
    "We next instantiate the optimizer for this training phase and define the training step. It follows the pattern introduced with the DCGAN example, using tf.GradientTape to record the operations that generate the reconstruction loss. This allows us to rely on the automatic differentiation engine to obtain the gradients with respect to the trainable embedder and recovery network weights that drive backpropagation:"
   ]
  },
  {
   "cell_type": "markdown",
   "metadata": {},
   "source": [
    "## Autoencoder Optimizer"
   ]
  },
  {
   "cell_type": "code",
   "execution_count": 40,
   "metadata": {
    "ExecuteTime": {
     "end_time": "2020-06-22T14:16:53.447696Z",
     "start_time": "2020-06-22T14:16:53.444030Z"
    }
   },
   "outputs": [],
   "source": [
    "autoencoder_optimizer = Adam()"
   ]
  },
  {
   "cell_type": "markdown",
   "metadata": {},
   "source": [
    "## Autoencoder Training Step"
   ]
  },
  {
   "cell_type": "code",
   "execution_count": 41,
   "metadata": {
    "ExecuteTime": {
     "end_time": "2020-06-22T14:16:53.459708Z",
     "start_time": "2020-06-22T14:16:53.450198Z"
    }
   },
   "outputs": [],
   "source": [
    "@tf.function\n",
    "def train_autoencoder_init(x):\n",
    "    with tf.GradientTape() as tape:\n",
    "        x_tilde = autoencoder(x)\n",
    "        embedding_loss_t0 = mse(x, x_tilde)\n",
    "        e_loss_0 = 10 * tf.sqrt(embedding_loss_t0)\n",
    "\n",
    "    var_list = embedder.trainable_variables + recovery.trainable_variables\n",
    "    gradients = tape.gradient(e_loss_0, var_list)\n",
    "    autoencoder_optimizer.apply_gradients(zip(gradients, var_list))\n",
    "    return tf.sqrt(embedding_loss_t0)"
   ]
  },
  {
   "cell_type": "markdown",
   "metadata": {},
   "source": [
    "## Autoencoder Training Loop"
   ]
  },
  {
   "cell_type": "markdown",
   "metadata": {},
   "source": [
    "The reconstruction loss simply compares the autoencoder outputs with its inputs. We train for 10,000 steps in a little over one minute using this training loop that records the step loss for monitoring with TensorBoard:"
   ]
  },
  {
   "cell_type": "code",
   "execution_count": 42,
   "metadata": {
    "ExecuteTime": {
     "end_time": "2020-06-22T14:18:21.132545Z",
     "start_time": "2020-06-22T14:16:53.461372Z"
    }
   },
   "outputs": [
    {
     "name": "stderr",
     "output_type": "stream",
     "text": [
      "100%|██████████| 10000/10000 [10:08<00:00, 16.45it/s]\n"
     ]
    }
   ],
   "source": [
    "for step in tqdm(range(train_steps)):\n",
    "    X_ = next(real_series_iter)\n",
    "    step_e_loss_t0 = train_autoencoder_init(X_)\n",
    "    with writer.as_default():\n",
    "        tf.summary.scalar('Loss Autoencoder Init', step_e_loss_t0, step=step)"
   ]
  },
  {
   "cell_type": "markdown",
   "metadata": {},
   "source": [
    "## Persist model"
   ]
  },
  {
   "cell_type": "code",
   "execution_count": 43,
   "metadata": {
    "ExecuteTime": {
     "end_time": "2020-06-22T14:18:21.135850Z",
     "start_time": "2020-06-22T14:18:21.133941Z"
    }
   },
   "outputs": [
    {
     "name": "stdout",
     "output_type": "stream",
     "text": [
      "WARNING:tensorflow:Compiled the loaded model, but the compiled metrics have yet to be built. `model.compile_metrics` will be empty until you train or evaluate the model.\n"
     ]
    },
    {
     "name": "stdout",
     "output_type": "stream",
     "text": [
      "INFO:tensorflow:Assets written to: time_gan/experiment_00/autoencoder/assets\n"
     ]
    },
    {
     "name": "stderr",
     "output_type": "stream",
     "text": [
      "INFO:tensorflow:Assets written to: time_gan/experiment_00/autoencoder/assets\n"
     ]
    }
   ],
   "source": [
    "autoencoder.save(log_dir / 'autoencoder')"
   ]
  },
  {
   "cell_type": "markdown",
   "metadata": {},
   "source": [
    "# Phase 2: Supervised training"
   ]
  },
  {
   "cell_type": "markdown",
   "metadata": {},
   "source": [
    "We already created the supervisor model so we just need to instantiate the optimizer and define the train step as follows:"
   ]
  },
  {
   "cell_type": "markdown",
   "metadata": {},
   "source": [
    "## Define Optimizer"
   ]
  },
  {
   "cell_type": "code",
   "execution_count": 44,
   "metadata": {
    "ExecuteTime": {
     "end_time": "2020-06-22T14:18:21.150618Z",
     "start_time": "2020-06-22T14:18:21.137038Z"
    }
   },
   "outputs": [],
   "source": [
    "supervisor_optimizer = Adam()"
   ]
  },
  {
   "cell_type": "markdown",
   "metadata": {},
   "source": [
    "## Train Step"
   ]
  },
  {
   "cell_type": "code",
   "execution_count": 45,
   "metadata": {
    "ExecuteTime": {
     "end_time": "2020-06-22T14:18:21.159749Z",
     "start_time": "2020-06-22T14:18:21.152011Z"
    }
   },
   "outputs": [],
   "source": [
    "@tf.function\n",
    "def train_supervisor(x):\n",
    "    with tf.GradientTape() as tape:\n",
    "        h = embedder(x)\n",
    "        h_hat_supervised = supervisor(h)\n",
    "        g_loss_s = mse(h[:, 1:, :], h_hat_supervised[:, 1:, :])\n",
    "\n",
    "    var_list = supervisor.trainable_variables\n",
    "    gradients = tape.gradient(g_loss_s, var_list)\n",
    "    supervisor_optimizer.apply_gradients(zip(gradients, var_list))\n",
    "    return g_loss_s"
   ]
  },
  {
   "cell_type": "markdown",
   "metadata": {},
   "source": [
    "In this case, the loss compares the output of the supervisor with the next timestep for the embedded sequence so that it learns the temporal dynamics of the historical price sequences; the training loop works similarly to the autoencoder example."
   ]
  },
  {
   "cell_type": "markdown",
   "metadata": {},
   "source": [
    "## Training Loop"
   ]
  },
  {
   "cell_type": "code",
   "execution_count": 46,
   "metadata": {
    "ExecuteTime": {
     "end_time": "2020-06-22T14:21:43.864154Z",
     "start_time": "2020-06-22T14:18:21.161919Z"
    }
   },
   "outputs": [
    {
     "name": "stderr",
     "output_type": "stream",
     "text": [
      "100%|██████████| 10000/10000 [06:27<00:00, 25.79it/s]\n"
     ]
    }
   ],
   "source": [
    "for step in tqdm(range(train_steps)):\n",
    "    X_ = next(real_series_iter)\n",
    "    step_g_loss_s = train_supervisor(X_)\n",
    "    with writer.as_default():\n",
    "        tf.summary.scalar('Loss Generator Supervised Init', step_g_loss_s, step=step)"
   ]
  },
  {
   "cell_type": "markdown",
   "metadata": {},
   "source": [
    "## Persist Model"
   ]
  },
  {
   "cell_type": "code",
   "execution_count": 47,
   "metadata": {
    "ExecuteTime": {
     "end_time": "2020-06-22T14:21:43.866414Z",
     "start_time": "2020-06-22T14:21:43.865006Z"
    }
   },
   "outputs": [
    {
     "name": "stdout",
     "output_type": "stream",
     "text": [
      "WARNING:tensorflow:Compiled the loaded model, but the compiled metrics have yet to be built. `model.compile_metrics` will be empty until you train or evaluate the model.\n"
     ]
    },
    {
     "name": "stderr",
     "output_type": "stream",
     "text": [
      "WARNING:tensorflow:Compiled the loaded model, but the compiled metrics have yet to be built. `model.compile_metrics` will be empty until you train or evaluate the model.\n"
     ]
    },
    {
     "name": "stdout",
     "output_type": "stream",
     "text": [
      "INFO:tensorflow:Assets written to: time_gan/experiment_00/supervisor/assets\n"
     ]
    },
    {
     "name": "stderr",
     "output_type": "stream",
     "text": [
      "INFO:tensorflow:Assets written to: time_gan/experiment_00/supervisor/assets\n"
     ]
    }
   ],
   "source": [
    "supervisor.save(log_dir / 'supervisor')"
   ]
  },
  {
   "cell_type": "markdown",
   "metadata": {},
   "source": [
    "# Joint Training"
   ]
  },
  {
   "cell_type": "markdown",
   "metadata": {},
   "source": [
    "The joint training involves all four network components as well as the supervisor. It uses multiple loss functions and combinations of the base components to achieve the simultaneous learning of latent space embeddings, transition dynamics, and synthetic data generation. "
   ]
  },
  {
   "cell_type": "markdown",
   "metadata": {},
   "source": [
    "## Generator"
   ]
  },
  {
   "cell_type": "markdown",
   "metadata": {},
   "source": [
    "### Adversarial Architecture - Supervised"
   ]
  },
  {
   "cell_type": "code",
   "execution_count": 48,
   "metadata": {
    "ExecuteTime": {
     "end_time": "2020-06-22T14:21:44.759375Z",
     "start_time": "2020-06-22T14:21:43.867138Z"
    }
   },
   "outputs": [],
   "source": [
    "E_hat = generator(Z)\n",
    "H_hat = supervisor(E_hat)\n",
    "Y_fake = discriminator(H_hat)\n",
    "\n",
    "adversarial_supervised = Model(inputs=Z,\n",
    "                               outputs=Y_fake,\n",
    "                               name='AdversarialNetSupervised')"
   ]
  },
  {
   "cell_type": "code",
   "execution_count": 49,
   "metadata": {
    "ExecuteTime": {
     "end_time": "2020-06-22T14:21:44.765189Z",
     "start_time": "2020-06-22T14:21:44.760237Z"
    }
   },
   "outputs": [
    {
     "name": "stdout",
     "output_type": "stream",
     "text": [
      "Model: \"AdversarialNetSupervised\"\n",
      "_________________________________________________________________\n",
      " Layer (type)                Output Shape              Param #   \n",
      "=================================================================\n",
      " RandomData (InputLayer)     [(None, 24, 1)]           0         \n",
      "                                                                 \n",
      " Generator (Sequential)      (None, 24, 24)            9744      \n",
      "                                                                 \n",
      " Supervisor (Sequential)     (None, 24, 24)            7800      \n",
      "                                                                 \n",
      " Discriminator (Sequential)  (None, 24, 1)             10825     \n",
      "                                                                 \n",
      "=================================================================\n",
      "Total params: 28369 (110.82 KB)\n",
      "Trainable params: 28369 (110.82 KB)\n",
      "Non-trainable params: 0 (0.00 Byte)\n",
      "_________________________________________________________________\n"
     ]
    }
   ],
   "source": [
    "adversarial_supervised.summary()"
   ]
  },
  {
   "cell_type": "code",
   "execution_count": 50,
   "metadata": {
    "ExecuteTime": {
     "end_time": "2020-06-22T14:21:44.891013Z",
     "start_time": "2020-06-22T14:21:44.766236Z"
    }
   },
   "outputs": [
    {
     "name": "stdout",
     "output_type": "stream",
     "text": [
      "You must install pydot (`pip install pydot`) and install graphviz (see instructions at https://graphviz.gitlab.io/download/) for plot_model to work.\n"
     ]
    }
   ],
   "source": [
    "plot_model(adversarial_supervised, show_shapes=True)"
   ]
  },
  {
   "cell_type": "markdown",
   "metadata": {},
   "source": [
    "### Adversarial Architecture in Latent Space"
   ]
  },
  {
   "cell_type": "code",
   "execution_count": 51,
   "metadata": {
    "ExecuteTime": {
     "end_time": "2020-06-22T14:21:45.207968Z",
     "start_time": "2020-06-22T14:21:44.892152Z"
    }
   },
   "outputs": [],
   "source": [
    "Y_fake_e = discriminator(E_hat)\n",
    "\n",
    "adversarial_emb = Model(inputs=Z,\n",
    "                    outputs=Y_fake_e,\n",
    "                    name='AdversarialNet')"
   ]
  },
  {
   "cell_type": "code",
   "execution_count": 52,
   "metadata": {
    "ExecuteTime": {
     "end_time": "2020-06-22T14:21:45.213528Z",
     "start_time": "2020-06-22T14:21:45.208923Z"
    }
   },
   "outputs": [
    {
     "name": "stdout",
     "output_type": "stream",
     "text": [
      "Model: \"AdversarialNet\"\n",
      "_________________________________________________________________\n",
      " Layer (type)                Output Shape              Param #   \n",
      "=================================================================\n",
      " RandomData (InputLayer)     [(None, 24, 1)]           0         \n",
      "                                                                 \n",
      " Generator (Sequential)      (None, 24, 24)            9744      \n",
      "                                                                 \n",
      " Discriminator (Sequential)  (None, 24, 1)             10825     \n",
      "                                                                 \n",
      "=================================================================\n",
      "Total params: 20569 (80.35 KB)\n",
      "Trainable params: 20569 (80.35 KB)\n",
      "Non-trainable params: 0 (0.00 Byte)\n",
      "_________________________________________________________________\n"
     ]
    }
   ],
   "source": [
    "adversarial_emb.summary()"
   ]
  },
  {
   "cell_type": "code",
   "execution_count": 53,
   "metadata": {
    "ExecuteTime": {
     "end_time": "2020-06-22T14:21:45.339928Z",
     "start_time": "2020-06-22T14:21:45.214560Z"
    }
   },
   "outputs": [
    {
     "name": "stdout",
     "output_type": "stream",
     "text": [
      "You must install pydot (`pip install pydot`) and install graphviz (see instructions at https://graphviz.gitlab.io/download/) for plot_model to work.\n"
     ]
    }
   ],
   "source": [
    "plot_model(adversarial_emb, show_shapes=True)"
   ]
  },
  {
   "cell_type": "markdown",
   "metadata": {},
   "source": [
    "### Mean & Variance Loss"
   ]
  },
  {
   "cell_type": "markdown",
   "metadata": {},
   "source": [
    "To ensure that the generator faithfully reproduces the time series, TimeGAN includes a moment loss that penalizes when mean and variance of the synthetic data deviate from the real version:"
   ]
  },
  {
   "cell_type": "code",
   "execution_count": 54,
   "metadata": {
    "ExecuteTime": {
     "end_time": "2020-06-22T14:21:45.675612Z",
     "start_time": "2020-06-22T14:21:45.341343Z"
    }
   },
   "outputs": [],
   "source": [
    "X_hat = recovery(H_hat)\n",
    "synthetic_data = Model(inputs=Z,\n",
    "                       outputs=X_hat,\n",
    "                       name='SyntheticData')"
   ]
  },
  {
   "cell_type": "markdown",
   "metadata": {},
   "source": [
    "The end-to-end model that produces synthetic data involves the generator, supervisor, and recovery component. It is defined as follows and has close to 30,000 trainable paramters:"
   ]
  },
  {
   "cell_type": "code",
   "execution_count": 55,
   "metadata": {
    "ExecuteTime": {
     "end_time": "2020-06-22T14:21:45.682769Z",
     "start_time": "2020-06-22T14:21:45.676682Z"
    }
   },
   "outputs": [
    {
     "name": "stdout",
     "output_type": "stream",
     "text": [
      "Model: \"SyntheticData\"\n",
      "_________________________________________________________________\n",
      " Layer (type)                Output Shape              Param #   \n",
      "=================================================================\n",
      " RandomData (InputLayer)     [(None, 24, 1)]           0         \n",
      "                                                                 \n",
      " Generator (Sequential)      (None, 24, 24)            9744      \n",
      "                                                                 \n",
      " Supervisor (Sequential)     (None, 24, 24)            7800      \n",
      "                                                                 \n",
      " Recovery (Sequential)       (None, 24, 1)             10825     \n",
      "                                                                 \n",
      "=================================================================\n",
      "Total params: 28369 (110.82 KB)\n",
      "Trainable params: 28369 (110.82 KB)\n",
      "Non-trainable params: 0 (0.00 Byte)\n",
      "_________________________________________________________________\n"
     ]
    }
   ],
   "source": [
    "synthetic_data.summary()"
   ]
  },
  {
   "cell_type": "code",
   "execution_count": 56,
   "metadata": {
    "ExecuteTime": {
     "end_time": "2020-06-22T14:21:45.808849Z",
     "start_time": "2020-06-22T14:21:45.683931Z"
    }
   },
   "outputs": [
    {
     "name": "stdout",
     "output_type": "stream",
     "text": [
      "You must install pydot (`pip install pydot`) and install graphviz (see instructions at https://graphviz.gitlab.io/download/) for plot_model to work.\n"
     ]
    }
   ],
   "source": [
    "plot_model(synthetic_data, show_shapes=True)"
   ]
  },
  {
   "cell_type": "code",
   "execution_count": 57,
   "metadata": {
    "ExecuteTime": {
     "end_time": "2020-06-22T14:21:45.813915Z",
     "start_time": "2020-06-22T14:21:45.810248Z"
    }
   },
   "outputs": [],
   "source": [
    "def get_generator_moment_loss(y_true, y_pred):\n",
    "    y_true_mean, y_true_var = tf.nn.moments(x=y_true, axes=[0])\n",
    "    y_pred_mean, y_pred_var = tf.nn.moments(x=y_pred, axes=[0])\n",
    "    g_loss_mean = tf.reduce_mean(tf.abs(y_true_mean - y_pred_mean))\n",
    "    g_loss_var = tf.reduce_mean(tf.abs(tf.sqrt(y_true_var + 1e-6) - tf.sqrt(y_pred_var + 1e-6)))\n",
    "    return g_loss_mean + g_loss_var"
   ]
  },
  {
   "cell_type": "markdown",
   "metadata": {},
   "source": [
    "## Discriminator"
   ]
  },
  {
   "cell_type": "markdown",
   "metadata": {},
   "source": [
    "### Architecture: Real Data"
   ]
  },
  {
   "cell_type": "code",
   "execution_count": 58,
   "metadata": {
    "ExecuteTime": {
     "end_time": "2020-06-22T14:21:46.138938Z",
     "start_time": "2020-06-22T14:21:45.815300Z"
    }
   },
   "outputs": [],
   "source": [
    "Y_real = discriminator(H)\n",
    "discriminator_model = Model(inputs=X,\n",
    "                            outputs=Y_real,\n",
    "                            name='DiscriminatorReal')"
   ]
  },
  {
   "cell_type": "code",
   "execution_count": 59,
   "metadata": {
    "ExecuteTime": {
     "end_time": "2020-06-22T14:21:46.145727Z",
     "start_time": "2020-06-22T14:21:46.141825Z"
    }
   },
   "outputs": [
    {
     "name": "stdout",
     "output_type": "stream",
     "text": [
      "Model: \"DiscriminatorReal\"\n",
      "_________________________________________________________________\n",
      " Layer (type)                Output Shape              Param #   \n",
      "=================================================================\n",
      " RealData (InputLayer)       [(None, 24, 1)]           0         \n",
      "                                                                 \n",
      " Embedder (Sequential)       (None, 24, 24)            9744      \n",
      "                                                                 \n",
      " Discriminator (Sequential)  (None, 24, 1)             10825     \n",
      "                                                                 \n",
      "=================================================================\n",
      "Total params: 20569 (80.35 KB)\n",
      "Trainable params: 20569 (80.35 KB)\n",
      "Non-trainable params: 0 (0.00 Byte)\n",
      "_________________________________________________________________\n"
     ]
    }
   ],
   "source": [
    "discriminator_model.summary()"
   ]
  },
  {
   "cell_type": "code",
   "execution_count": 60,
   "metadata": {
    "ExecuteTime": {
     "end_time": "2020-06-22T14:21:46.271876Z",
     "start_time": "2020-06-22T14:21:46.146811Z"
    }
   },
   "outputs": [
    {
     "name": "stdout",
     "output_type": "stream",
     "text": [
      "You must install pydot (`pip install pydot`) and install graphviz (see instructions at https://graphviz.gitlab.io/download/) for plot_model to work.\n"
     ]
    }
   ],
   "source": [
    "plot_model(discriminator_model, show_shapes=True)"
   ]
  },
  {
   "cell_type": "markdown",
   "metadata": {},
   "source": [
    "## Optimizers"
   ]
  },
  {
   "cell_type": "markdown",
   "metadata": {},
   "source": [
    "The joint training involves three optimizers for the autoencoder, the generator and the discriminator:"
   ]
  },
  {
   "cell_type": "code",
   "execution_count": 61,
   "metadata": {
    "ExecuteTime": {
     "end_time": "2020-06-22T14:21:46.275281Z",
     "start_time": "2020-06-22T14:21:46.273098Z"
    }
   },
   "outputs": [],
   "source": [
    "generator_optimizer = Adam()\n",
    "discriminator_optimizer = Adam()\n",
    "embedding_optimizer = Adam()"
   ]
  },
  {
   "cell_type": "markdown",
   "metadata": {},
   "source": [
    "## Generator Train Step"
   ]
  },
  {
   "cell_type": "markdown",
   "metadata": {},
   "source": [
    "The train step for the generator illustrates the use of four loss functions and corresponding combinations of network components to achieve the desired learning outlined at the beginning of this section:"
   ]
  },
  {
   "cell_type": "code",
   "execution_count": 62,
   "metadata": {
    "ExecuteTime": {
     "end_time": "2020-06-22T14:21:46.284057Z",
     "start_time": "2020-06-22T14:21:46.276232Z"
    }
   },
   "outputs": [],
   "source": [
    "@tf.function\n",
    "def train_generator(x, z):\n",
    "    with tf.GradientTape() as tape:\n",
    "        y_fake = adversarial_supervised(z)\n",
    "        generator_loss_unsupervised = bce(y_true=tf.ones_like(y_fake),\n",
    "                                          y_pred=y_fake)\n",
    "\n",
    "        y_fake_e = adversarial_emb(z)\n",
    "        generator_loss_unsupervised_e = bce(y_true=tf.ones_like(y_fake_e),\n",
    "                                            y_pred=y_fake_e)\n",
    "        h = embedder(x)\n",
    "        h_hat_supervised = supervisor(h)\n",
    "        generator_loss_supervised = mse(h[:, 1:, :], h_hat_supervised[:, 1:, :])\n",
    "\n",
    "        x_hat = synthetic_data(z)\n",
    "        generator_moment_loss = get_generator_moment_loss(x, x_hat)\n",
    "\n",
    "        generator_loss = (generator_loss_unsupervised +\n",
    "                          generator_loss_unsupervised_e +\n",
    "                          100 * tf.sqrt(generator_loss_supervised) +\n",
    "                          100 * generator_moment_loss)\n",
    "\n",
    "    var_list = generator.trainable_variables + supervisor.trainable_variables\n",
    "    gradients = tape.gradient(generator_loss, var_list)\n",
    "    generator_optimizer.apply_gradients(zip(gradients, var_list))\n",
    "    return generator_loss_unsupervised, generator_loss_supervised, generator_moment_loss"
   ]
  },
  {
   "cell_type": "markdown",
   "metadata": {},
   "source": [
    "## Embedding Train Step"
   ]
  },
  {
   "cell_type": "code",
   "execution_count": 63,
   "metadata": {
    "ExecuteTime": {
     "end_time": "2020-06-22T14:21:46.295232Z",
     "start_time": "2020-06-22T14:21:46.284920Z"
    }
   },
   "outputs": [],
   "source": [
    "@tf.function\n",
    "def train_embedder(x):\n",
    "    with tf.GradientTape() as tape:\n",
    "        h = embedder(x)\n",
    "        h_hat_supervised = supervisor(h)\n",
    "        generator_loss_supervised = mse(h[:, 1:, :], h_hat_supervised[:, 1:, :])\n",
    "\n",
    "        x_tilde = autoencoder(x)\n",
    "        embedding_loss_t0 = mse(x, x_tilde)\n",
    "        e_loss = 10 * tf.sqrt(embedding_loss_t0) + 0.1 * generator_loss_supervised\n",
    "\n",
    "    var_list = embedder.trainable_variables + recovery.trainable_variables\n",
    "    gradients = tape.gradient(e_loss, var_list)\n",
    "    embedding_optimizer.apply_gradients(zip(gradients, var_list))\n",
    "    return tf.sqrt(embedding_loss_t0)"
   ]
  },
  {
   "cell_type": "markdown",
   "metadata": {},
   "source": [
    "## Discriminator Train Step"
   ]
  },
  {
   "cell_type": "code",
   "execution_count": 64,
   "metadata": {
    "ExecuteTime": {
     "end_time": "2020-06-22T14:21:46.303397Z",
     "start_time": "2020-06-22T14:21:46.296151Z"
    }
   },
   "outputs": [],
   "source": [
    "@tf.function\n",
    "def get_discriminator_loss(x, z):\n",
    "    y_real = discriminator_model(x)\n",
    "    discriminator_loss_real = bce(y_true=tf.ones_like(y_real),\n",
    "                                  y_pred=y_real)\n",
    "\n",
    "    y_fake = adversarial_supervised(z)\n",
    "    discriminator_loss_fake = bce(y_true=tf.zeros_like(y_fake),\n",
    "                                  y_pred=y_fake)\n",
    "\n",
    "    y_fake_e = adversarial_emb(z)\n",
    "    discriminator_loss_fake_e = bce(y_true=tf.zeros_like(y_fake_e),\n",
    "                                    y_pred=y_fake_e)\n",
    "    return (discriminator_loss_real +\n",
    "            discriminator_loss_fake +\n",
    "            gamma * discriminator_loss_fake_e)"
   ]
  },
  {
   "cell_type": "code",
   "execution_count": 65,
   "metadata": {
    "ExecuteTime": {
     "end_time": "2020-06-22T14:21:46.314283Z",
     "start_time": "2020-06-22T14:21:46.304404Z"
    }
   },
   "outputs": [],
   "source": [
    "@tf.function\n",
    "def train_discriminator(x, z):\n",
    "    with tf.GradientTape() as tape:\n",
    "        discriminator_loss = get_discriminator_loss(x, z)\n",
    "\n",
    "    var_list = discriminator.trainable_variables\n",
    "    gradients = tape.gradient(discriminator_loss, var_list)\n",
    "    discriminator_optimizer.apply_gradients(zip(gradients, var_list))\n",
    "    return discriminator_loss"
   ]
  },
  {
   "cell_type": "markdown",
   "metadata": {},
   "source": [
    "## Training Loop"
   ]
  },
  {
   "cell_type": "markdown",
   "metadata": {},
   "source": [
    "Finally, the joint training loop pulls the various training steps together and builds on the learning from phase 1 and 2 to train the TimeGAN components on both real and random data. We run the loop for 10,000 iterations in under 50 minutes:"
   ]
  },
  {
   "cell_type": "code",
   "execution_count": 66,
   "metadata": {
    "ExecuteTime": {
     "end_time": "2020-06-22T15:11:24.409536Z",
     "start_time": "2020-06-22T14:21:46.315280Z"
    }
   },
   "outputs": [
    {
     "name": "stdout",
     "output_type": "stream",
     "text": [
      "     0 | d_loss: 2.2936 | g_loss_u: 0.5409 | g_loss_s: 0.0006 | g_loss_v: 0.1601 | e_loss_t0: 0.0436\n",
      " 1,000 | d_loss: 1.7504 | g_loss_u: 1.1610 | g_loss_s: 0.0001 | g_loss_v: 0.1228 | e_loss_t0: 0.0022\n",
      " 2,000 | d_loss: 1.6838 | g_loss_u: 1.3016 | g_loss_s: 0.0001 | g_loss_v: 0.0434 | e_loss_t0: 0.0014\n",
      " 3,000 | d_loss: 1.1264 | g_loss_u: 4.0246 | g_loss_s: 0.0002 | g_loss_v: 0.0587 | e_loss_t0: 0.0029\n",
      " 4,000 | d_loss: 0.4485 | g_loss_u: 5.9818 | g_loss_s: 0.0001 | g_loss_v: 0.0343 | e_loss_t0: 0.0016\n",
      " 5,000 | d_loss: 1.1727 | g_loss_u: 1.8945 | g_loss_s: 0.0001 | g_loss_v: 0.0156 | e_loss_t0: 0.0014\n",
      " 6,000 | d_loss: 1.3705 | g_loss_u: 1.3615 | g_loss_s: 0.0001 | g_loss_v: 0.0447 | e_loss_t0: 0.0021\n",
      " 7,000 | d_loss: 1.5622 | g_loss_u: 1.3525 | g_loss_s: 0.0000 | g_loss_v: 0.0112 | e_loss_t0: 0.0006\n",
      " 8,000 | d_loss: 1.5470 | g_loss_u: 1.3802 | g_loss_s: 0.0000 | g_loss_v: 0.0372 | e_loss_t0: 0.0011\n",
      " 9,000 | d_loss: 1.5759 | g_loss_u: 1.4750 | g_loss_s: 0.0000 | g_loss_v: 0.0323 | e_loss_t0: 0.0010\n"
     ]
    }
   ],
   "source": [
    "step_g_loss_u = step_g_loss_s = step_g_loss_v = step_e_loss_t0 = step_d_loss = 0\n",
    "for step in range(train_steps):\n",
    "    # Train generator (twice as often as discriminator)\n",
    "    for kk in range(2):\n",
    "        X_ = next(real_series_iter)\n",
    "        Z_ = next(random_series)\n",
    "\n",
    "        # Train generator\n",
    "        step_g_loss_u, step_g_loss_s, step_g_loss_v = train_generator(X_, Z_)\n",
    "        # Train embedder\n",
    "        step_e_loss_t0 = train_embedder(X_)\n",
    "\n",
    "    X_ = next(real_series_iter)\n",
    "    Z_ = next(random_series)\n",
    "    step_d_loss = get_discriminator_loss(X_, Z_)\n",
    "    if step_d_loss > 0.15:\n",
    "        step_d_loss = train_discriminator(X_, Z_)\n",
    "\n",
    "    if step % 1000 == 0:\n",
    "        print(f'{step:6,.0f} | d_loss: {step_d_loss:6.4f} | g_loss_u: {step_g_loss_u:6.4f} | '\n",
    "              f'g_loss_s: {step_g_loss_s:6.4f} | g_loss_v: {step_g_loss_v:6.4f} | e_loss_t0: {step_e_loss_t0:6.4f}')\n",
    "\n",
    "    with writer.as_default():\n",
    "        tf.summary.scalar('G Loss S', step_g_loss_s, step=step)\n",
    "        tf.summary.scalar('G Loss U', step_g_loss_u, step=step)\n",
    "        tf.summary.scalar('G Loss V', step_g_loss_v, step=step)\n",
    "        tf.summary.scalar('E Loss T0', step_e_loss_t0, step=step)\n",
    "        tf.summary.scalar('D Loss', step_d_loss, step=step)"
   ]
  },
  {
   "cell_type": "markdown",
   "metadata": {},
   "source": [
    "## Persist Synthetic Data Generator"
   ]
  },
  {
   "cell_type": "code",
   "execution_count": 67,
   "metadata": {
    "ExecuteTime": {
     "end_time": "2020-06-22T15:11:40.412907Z",
     "start_time": "2020-06-22T15:11:24.410409Z"
    }
   },
   "outputs": [
    {
     "name": "stdout",
     "output_type": "stream",
     "text": [
      "WARNING:tensorflow:Compiled the loaded model, but the compiled metrics have yet to be built. `model.compile_metrics` will be empty until you train or evaluate the model.\n"
     ]
    },
    {
     "name": "stderr",
     "output_type": "stream",
     "text": [
      "WARNING:tensorflow:Compiled the loaded model, but the compiled metrics have yet to be built. `model.compile_metrics` will be empty until you train or evaluate the model.\n"
     ]
    },
    {
     "name": "stdout",
     "output_type": "stream",
     "text": [
      "INFO:tensorflow:Assets written to: time_gan/experiment_00/synthetic_data/assets\n"
     ]
    },
    {
     "name": "stderr",
     "output_type": "stream",
     "text": [
      "INFO:tensorflow:Assets written to: time_gan/experiment_00/synthetic_data/assets\n"
     ]
    }
   ],
   "source": [
    "synthetic_data.save(log_dir / 'synthetic_data')"
   ]
  },
  {
   "cell_type": "markdown",
   "metadata": {},
   "source": [
    "# Generate Synthetic Data"
   ]
  },
  {
   "cell_type": "markdown",
   "metadata": {},
   "source": [
    "To evaluate the TimeGAN results, we generate synthetic by drawing random inputs and feeding them to the `synthetic_data` network just described. \n",
    "\n",
    "More specifically, we’ll create roughly as many artificial series with 24 observations on the six tickers as there are overlapping windows in the real dataset:"
   ]
  },
  {
   "cell_type": "code",
   "execution_count": 68,
   "metadata": {
    "ExecuteTime": {
     "end_time": "2020-06-22T15:11:42.825347Z",
     "start_time": "2020-06-22T15:11:40.433334Z"
    }
   },
   "outputs": [],
   "source": [
    "generated_data = []\n",
    "for i in range(int(n_windows / batch_size)):\n",
    "    Z_ = next(random_series)\n",
    "    d = synthetic_data(Z_)\n",
    "    generated_data.append(d)"
   ]
  },
  {
   "cell_type": "code",
   "execution_count": 69,
   "metadata": {
    "ExecuteTime": {
     "end_time": "2020-06-22T15:11:42.830084Z",
     "start_time": "2020-06-22T15:11:42.826463Z"
    }
   },
   "outputs": [
    {
     "data": {
      "text/plain": [
       "19"
      ]
     },
     "execution_count": 69,
     "metadata": {},
     "output_type": "execute_result"
    }
   ],
   "source": [
    "len(generated_data)"
   ]
  },
  {
   "cell_type": "markdown",
   "metadata": {},
   "source": [
    "The result is 19 batches containing 128 samples with dimensions 24⨉1 each that we stack like so:"
   ]
  },
  {
   "cell_type": "code",
   "execution_count": 70,
   "metadata": {
    "ExecuteTime": {
     "end_time": "2020-06-22T15:11:42.852034Z",
     "start_time": "2020-06-22T15:11:42.831084Z"
    }
   },
   "outputs": [
    {
     "data": {
      "text/plain": [
       "(2432, 24, 1)"
      ]
     },
     "execution_count": 70,
     "metadata": {},
     "output_type": "execute_result"
    }
   ],
   "source": [
    "generated_data = np.array(np.vstack(generated_data))\n",
    "generated_data.shape"
   ]
  },
  {
   "cell_type": "code",
   "execution_count": 71,
   "metadata": {
    "ExecuteTime": {
     "end_time": "2020-06-22T15:11:42.857797Z",
     "start_time": "2020-06-22T15:11:42.853108Z"
    }
   },
   "outputs": [],
   "source": [
    "np.save(log_dir / 'generated_data.npy', generated_data)"
   ]
  },
  {
   "cell_type": "markdown",
   "metadata": {},
   "source": [
    "## Rescale"
   ]
  },
  {
   "cell_type": "markdown",
   "metadata": {},
   "source": [
    "We can use the trained MinMaxScaler to revert the synthetic to the scale of the input series:"
   ]
  },
  {
   "cell_type": "code",
   "execution_count": 72,
   "metadata": {
    "ExecuteTime": {
     "end_time": "2020-06-22T15:11:42.872876Z",
     "start_time": "2020-06-22T15:11:42.858811Z"
    }
   },
   "outputs": [
    {
     "data": {
      "text/plain": [
       "(2432, 24, 1)"
      ]
     },
     "execution_count": 72,
     "metadata": {},
     "output_type": "execute_result"
    }
   ],
   "source": [
    "generated_data = (scaler.inverse_transform(generated_data\n",
    "                                           .reshape(-1, n_seq))\n",
    "                  .reshape(-1, seq_len, n_seq))\n",
    "generated_data.shape"
   ]
  },
  {
   "cell_type": "code",
   "execution_count": 90,
   "metadata": {},
   "outputs": [
    {
     "data": {
      "text/plain": [
       "array([[[6.5310054],\n",
       "        [6.4619184],\n",
       "        [6.566861 ],\n",
       "        ...,\n",
       "        [6.747222 ],\n",
       "        [6.6159644],\n",
       "        [6.3833823]],\n",
       "\n",
       "       [[6.528237 ],\n",
       "        [6.53723  ],\n",
       "        [6.5743346],\n",
       "        ...,\n",
       "        [5.9849706],\n",
       "        [5.9982433],\n",
       "        [6.0599313]],\n",
       "\n",
       "       [[6.3618913],\n",
       "        [6.374332 ],\n",
       "        [6.4004827],\n",
       "        ...,\n",
       "        [6.4714556],\n",
       "        [6.4712744],\n",
       "        [6.4719434]],\n",
       "\n",
       "       ...,\n",
       "\n",
       "       [[4.4402533],\n",
       "        [4.44189  ],\n",
       "        [4.4583693],\n",
       "        ...,\n",
       "        [4.608374 ],\n",
       "        [4.6121225],\n",
       "        [4.6151166]],\n",
       "\n",
       "       [[6.8732133],\n",
       "        [6.91133  ],\n",
       "        [6.9502416],\n",
       "        ...,\n",
       "        [7.0315356],\n",
       "        [7.0237713],\n",
       "        [7.015379 ]],\n",
       "\n",
       "       [[5.0111995],\n",
       "        [5.108886 ],\n",
       "        [5.0869956],\n",
       "        ...,\n",
       "        [5.1476865],\n",
       "        [5.1458583],\n",
       "        [5.149211 ]]], dtype=float32)"
      ]
     },
     "execution_count": 90,
     "metadata": {},
     "output_type": "execute_result"
    }
   ],
   "source": [
    "generated_data"
   ]
  },
  {
   "cell_type": "markdown",
   "metadata": {},
   "source": [
    "## Plot sample Series"
   ]
  },
  {
   "cell_type": "markdown",
   "metadata": {},
   "source": [
    "The below figure displays samples of the six synthetic series and the corresponding real series. The synthetic data generally reflect a variation of behavior not unlike their real counterparts and, after rescaling, roughly (due to the random input) match their range."
   ]
  },
  {
   "cell_type": "code",
   "execution_count": 124,
   "metadata": {},
   "outputs": [
    {
     "data": {
      "text/plain": [
       "array([[0.        ],\n",
       "       [0.00445239],\n",
       "       [0.01967443],\n",
       "       ...,\n",
       "       [0.70305544],\n",
       "       [0.7078255 ],\n",
       "       [0.72068655]], dtype=float32)"
      ]
     },
     "execution_count": 124,
     "metadata": {},
     "output_type": "execute_result"
    }
   ],
   "source": [
    "scaled_df_asset1"
   ]
  },
  {
   "cell_type": "code",
   "execution_count": 123,
   "metadata": {},
   "outputs": [
    {
     "ename": "TypeError",
     "evalue": "unhashable type: 'numpy.ndarray'",
     "output_type": "error",
     "traceback": [
      "\u001b[0;31m---------------------------------------------------------------------------\u001b[0m",
      "\u001b[0;31mTypeError\u001b[0m                                 Traceback (most recent call last)",
      "\u001b[1;32m/home/onyxia/statapp-hsbc/01_TimeGAN_TF2.ipynb Cell 150\u001b[0m line \u001b[0;36m7\n\u001b[1;32m      <a href='vscode-notebook-cell://user-thabib13-610738-0.user.lab.sspcloud.fr/home/onyxia/statapp-hsbc/01_TimeGAN_TF2.ipynb#Y313sdnNjb2RlLXJlbW90ZQ%3D%3D?line=3'>4</a>\u001b[0m idx \u001b[39m=\u001b[39m np\u001b[39m.\u001b[39mrandom\u001b[39m.\u001b[39mrandint(\u001b[39mlen\u001b[39m(df) \u001b[39m-\u001b[39m seq_len)\n\u001b[1;32m      <a href='vscode-notebook-cell://user-thabib13-610738-0.user.lab.sspcloud.fr/home/onyxia/statapp-hsbc/01_TimeGAN_TF2.ipynb#Y313sdnNjb2RlLXJlbW90ZQ%3D%3D?line=4'>5</a>\u001b[0m real \u001b[39m=\u001b[39m df\u001b[39m.\u001b[39miloc[idx: idx \u001b[39m+\u001b[39m seq_len]\n\u001b[0;32m----> <a href='vscode-notebook-cell://user-thabib13-610738-0.user.lab.sspcloud.fr/home/onyxia/statapp-hsbc/01_TimeGAN_TF2.ipynb#Y313sdnNjb2RlLXJlbW90ZQ%3D%3D?line=6'>7</a>\u001b[0m plt\u001b[39m.\u001b[39;49mplot(index, real, color\u001b[39m=\u001b[39;49m\u001b[39m'\u001b[39;49m\u001b[39mblue\u001b[39;49m\u001b[39m'\u001b[39;49m)\n\u001b[1;32m      <a href='vscode-notebook-cell://user-thabib13-610738-0.user.lab.sspcloud.fr/home/onyxia/statapp-hsbc/01_TimeGAN_TF2.ipynb#Y313sdnNjb2RlLXJlbW90ZQ%3D%3D?line=7'>8</a>\u001b[0m plt\u001b[39m.\u001b[39mplot(index, synthetic, color\u001b[39m=\u001b[39m\u001b[39m'\u001b[39m\u001b[39mred\u001b[39m\u001b[39m'\u001b[39m)\n",
      "File \u001b[0;32m~/statapp-hsbc/.venv/lib/python3.10/site-packages/matplotlib/pyplot.py:3575\u001b[0m, in \u001b[0;36mplot\u001b[0;34m(scalex, scaley, data, *args, **kwargs)\u001b[0m\n\u001b[1;32m   3567\u001b[0m \u001b[39m@_copy_docstring_and_deprecators\u001b[39m(Axes\u001b[39m.\u001b[39mplot)\n\u001b[1;32m   3568\u001b[0m \u001b[39mdef\u001b[39;00m \u001b[39mplot\u001b[39m(\n\u001b[1;32m   3569\u001b[0m     \u001b[39m*\u001b[39margs: \u001b[39mfloat\u001b[39m \u001b[39m|\u001b[39m ArrayLike \u001b[39m|\u001b[39m \u001b[39mstr\u001b[39m,\n\u001b[0;32m   (...)\u001b[0m\n\u001b[1;32m   3573\u001b[0m     \u001b[39m*\u001b[39m\u001b[39m*\u001b[39mkwargs,\n\u001b[1;32m   3574\u001b[0m ) \u001b[39m-\u001b[39m\u001b[39m>\u001b[39m \u001b[39mlist\u001b[39m[Line2D]:\n\u001b[0;32m-> 3575\u001b[0m     \u001b[39mreturn\u001b[39;00m gca()\u001b[39m.\u001b[39;49mplot(\n\u001b[1;32m   3576\u001b[0m         \u001b[39m*\u001b[39;49margs,\n\u001b[1;32m   3577\u001b[0m         scalex\u001b[39m=\u001b[39;49mscalex,\n\u001b[1;32m   3578\u001b[0m         scaley\u001b[39m=\u001b[39;49mscaley,\n\u001b[1;32m   3579\u001b[0m         \u001b[39m*\u001b[39;49m\u001b[39m*\u001b[39;49m({\u001b[39m\"\u001b[39;49m\u001b[39mdata\u001b[39;49m\u001b[39m\"\u001b[39;49m: data} \u001b[39mif\u001b[39;49;00m data \u001b[39mis\u001b[39;49;00m \u001b[39mnot\u001b[39;49;00m \u001b[39mNone\u001b[39;49;00m \u001b[39melse\u001b[39;49;00m {}),\n\u001b[1;32m   3580\u001b[0m         \u001b[39m*\u001b[39;49m\u001b[39m*\u001b[39;49mkwargs,\n\u001b[1;32m   3581\u001b[0m     )\n",
      "File \u001b[0;32m~/statapp-hsbc/.venv/lib/python3.10/site-packages/matplotlib/axes/_axes.py:1721\u001b[0m, in \u001b[0;36mAxes.plot\u001b[0;34m(self, scalex, scaley, data, *args, **kwargs)\u001b[0m\n\u001b[1;32m   1478\u001b[0m \u001b[39m\u001b[39m\u001b[39m\"\"\"\u001b[39;00m\n\u001b[1;32m   1479\u001b[0m \u001b[39mPlot y versus x as lines and/or markers.\u001b[39;00m\n\u001b[1;32m   1480\u001b[0m \n\u001b[0;32m   (...)\u001b[0m\n\u001b[1;32m   1718\u001b[0m \u001b[39m(``'green'``) or hex strings (``'#008000'``).\u001b[39;00m\n\u001b[1;32m   1719\u001b[0m \u001b[39m\"\"\"\u001b[39;00m\n\u001b[1;32m   1720\u001b[0m kwargs \u001b[39m=\u001b[39m cbook\u001b[39m.\u001b[39mnormalize_kwargs(kwargs, mlines\u001b[39m.\u001b[39mLine2D)\n\u001b[0;32m-> 1721\u001b[0m lines \u001b[39m=\u001b[39m [\u001b[39m*\u001b[39m\u001b[39mself\u001b[39m\u001b[39m.\u001b[39m_get_lines(\u001b[39mself\u001b[39m, \u001b[39m*\u001b[39margs, data\u001b[39m=\u001b[39mdata, \u001b[39m*\u001b[39m\u001b[39m*\u001b[39mkwargs)]\n\u001b[1;32m   1722\u001b[0m \u001b[39mfor\u001b[39;00m line \u001b[39min\u001b[39;00m lines:\n\u001b[1;32m   1723\u001b[0m     \u001b[39mself\u001b[39m\u001b[39m.\u001b[39madd_line(line)\n",
      "File \u001b[0;32m~/statapp-hsbc/.venv/lib/python3.10/site-packages/matplotlib/axes/_base.py:303\u001b[0m, in \u001b[0;36m_process_plot_var_args.__call__\u001b[0;34m(self, axes, data, *args, **kwargs)\u001b[0m\n\u001b[1;32m    301\u001b[0m     this \u001b[39m+\u001b[39m\u001b[39m=\u001b[39m args[\u001b[39m0\u001b[39m],\n\u001b[1;32m    302\u001b[0m     args \u001b[39m=\u001b[39m args[\u001b[39m1\u001b[39m:]\n\u001b[0;32m--> 303\u001b[0m \u001b[39myield from\u001b[39;00m \u001b[39mself\u001b[39;49m\u001b[39m.\u001b[39;49m_plot_args(\n\u001b[1;32m    304\u001b[0m     axes, this, kwargs, ambiguous_fmt_datakey\u001b[39m=\u001b[39;49mambiguous_fmt_datakey)\n",
      "File \u001b[0;32m~/statapp-hsbc/.venv/lib/python3.10/site-packages/matplotlib/axes/_base.py:496\u001b[0m, in \u001b[0;36m_process_plot_var_args._plot_args\u001b[0;34m(self, axes, tup, kwargs, return_kwargs, ambiguous_fmt_datakey)\u001b[0m\n\u001b[1;32m    494\u001b[0m     axes\u001b[39m.\u001b[39mxaxis\u001b[39m.\u001b[39mupdate_units(x)\n\u001b[1;32m    495\u001b[0m \u001b[39mif\u001b[39;00m axes\u001b[39m.\u001b[39myaxis \u001b[39mis\u001b[39;00m \u001b[39mnot\u001b[39;00m \u001b[39mNone\u001b[39;00m:\n\u001b[0;32m--> 496\u001b[0m     axes\u001b[39m.\u001b[39;49myaxis\u001b[39m.\u001b[39;49mupdate_units(y)\n\u001b[1;32m    498\u001b[0m \u001b[39mif\u001b[39;00m x\u001b[39m.\u001b[39mshape[\u001b[39m0\u001b[39m] \u001b[39m!=\u001b[39m y\u001b[39m.\u001b[39mshape[\u001b[39m0\u001b[39m]:\n\u001b[1;32m    499\u001b[0m     \u001b[39mraise\u001b[39;00m \u001b[39mValueError\u001b[39;00m(\u001b[39mf\u001b[39m\u001b[39m\"\u001b[39m\u001b[39mx and y must have same first dimension, but \u001b[39m\u001b[39m\"\u001b[39m\n\u001b[1;32m    500\u001b[0m                      \u001b[39mf\u001b[39m\u001b[39m\"\u001b[39m\u001b[39mhave shapes \u001b[39m\u001b[39m{\u001b[39;00mx\u001b[39m.\u001b[39mshape\u001b[39m}\u001b[39;00m\u001b[39m and \u001b[39m\u001b[39m{\u001b[39;00my\u001b[39m.\u001b[39mshape\u001b[39m}\u001b[39;00m\u001b[39m\"\u001b[39m)\n",
      "File \u001b[0;32m~/statapp-hsbc/.venv/lib/python3.10/site-packages/matplotlib/axis.py:1712\u001b[0m, in \u001b[0;36mAxis.update_units\u001b[0;34m(self, data)\u001b[0m\n\u001b[1;32m   1710\u001b[0m neednew \u001b[39m=\u001b[39m \u001b[39mself\u001b[39m\u001b[39m.\u001b[39mconverter \u001b[39m!=\u001b[39m converter\n\u001b[1;32m   1711\u001b[0m \u001b[39mself\u001b[39m\u001b[39m.\u001b[39mconverter \u001b[39m=\u001b[39m converter\n\u001b[0;32m-> 1712\u001b[0m default \u001b[39m=\u001b[39m \u001b[39mself\u001b[39;49m\u001b[39m.\u001b[39;49mconverter\u001b[39m.\u001b[39;49mdefault_units(data, \u001b[39mself\u001b[39;49m)\n\u001b[1;32m   1713\u001b[0m \u001b[39mif\u001b[39;00m default \u001b[39mis\u001b[39;00m \u001b[39mnot\u001b[39;00m \u001b[39mNone\u001b[39;00m \u001b[39mand\u001b[39;00m \u001b[39mself\u001b[39m\u001b[39m.\u001b[39munits \u001b[39mis\u001b[39;00m \u001b[39mNone\u001b[39;00m:\n\u001b[1;32m   1714\u001b[0m     \u001b[39mself\u001b[39m\u001b[39m.\u001b[39mset_units(default)\n",
      "File \u001b[0;32m~/statapp-hsbc/.venv/lib/python3.10/site-packages/matplotlib/category.py:105\u001b[0m, in \u001b[0;36mStrCategoryConverter.default_units\u001b[0;34m(data, axis)\u001b[0m\n\u001b[1;32m    103\u001b[0m \u001b[39m# the conversion call stack is default_units -> axis_info -> convert\u001b[39;00m\n\u001b[1;32m    104\u001b[0m \u001b[39mif\u001b[39;00m axis\u001b[39m.\u001b[39munits \u001b[39mis\u001b[39;00m \u001b[39mNone\u001b[39;00m:\n\u001b[0;32m--> 105\u001b[0m     axis\u001b[39m.\u001b[39mset_units(UnitData(data))\n\u001b[1;32m    106\u001b[0m \u001b[39melse\u001b[39;00m:\n\u001b[1;32m    107\u001b[0m     axis\u001b[39m.\u001b[39munits\u001b[39m.\u001b[39mupdate(data)\n",
      "File \u001b[0;32m~/statapp-hsbc/.venv/lib/python3.10/site-packages/matplotlib/category.py:181\u001b[0m, in \u001b[0;36mUnitData.__init__\u001b[0;34m(self, data)\u001b[0m\n\u001b[1;32m    179\u001b[0m \u001b[39mself\u001b[39m\u001b[39m.\u001b[39m_counter \u001b[39m=\u001b[39m itertools\u001b[39m.\u001b[39mcount()\n\u001b[1;32m    180\u001b[0m \u001b[39mif\u001b[39;00m data \u001b[39mis\u001b[39;00m \u001b[39mnot\u001b[39;00m \u001b[39mNone\u001b[39;00m:\n\u001b[0;32m--> 181\u001b[0m     \u001b[39mself\u001b[39;49m\u001b[39m.\u001b[39;49mupdate(data)\n",
      "File \u001b[0;32m~/statapp-hsbc/.venv/lib/python3.10/site-packages/matplotlib/category.py:214\u001b[0m, in \u001b[0;36mUnitData.update\u001b[0;34m(self, data)\u001b[0m\n\u001b[1;32m    212\u001b[0m \u001b[39m# check if convertible to number:\u001b[39;00m\n\u001b[1;32m    213\u001b[0m convertible \u001b[39m=\u001b[39m \u001b[39mTrue\u001b[39;00m\n\u001b[0;32m--> 214\u001b[0m \u001b[39mfor\u001b[39;00m val \u001b[39min\u001b[39;00m OrderedDict\u001b[39m.\u001b[39;49mfromkeys(data):\n\u001b[1;32m    215\u001b[0m     \u001b[39m# OrderedDict just iterates over unique values in data.\u001b[39;00m\n\u001b[1;32m    216\u001b[0m     _api\u001b[39m.\u001b[39mcheck_isinstance((\u001b[39mstr\u001b[39m, \u001b[39mbytes\u001b[39m), value\u001b[39m=\u001b[39mval)\n\u001b[1;32m    217\u001b[0m     \u001b[39mif\u001b[39;00m convertible:\n\u001b[1;32m    218\u001b[0m         \u001b[39m# this will only be called so long as convertible is True.\u001b[39;00m\n",
      "\u001b[0;31mTypeError\u001b[0m: unhashable type: 'numpy.ndarray'"
     ]
    },
    {
     "data": {
      "image/png": "[encoded data removed]",
      "text/plain": [
       "<Figure size 640x480 with 1 Axes>"
      ]
     },
     "metadata": {},
     "output_type": "display_data"
    }
   ],
   "source": [
    "index = list(range(1, 25))\n",
    "synthetic = generated_data[np.random.randint(n_windows)]\n",
    "\n",
    "idx = np.random.randint(len(df) - seq_len)\n",
    "real = df.iloc[idx: idx + seq_len]\n",
    "\n",
    "plt.plot(index, real, color='blue')\n",
    "plt.plot(index, synthetic, color='red')\n"
   ]
  },
  {
   "cell_type": "code",
   "execution_count": 119,
   "metadata": {},
   "outputs": [
    {
     "name": "stderr",
     "output_type": "stream",
     "text": [
      "WARNING:matplotlib.legend:No artists with labels found to put in legend.  Note that artists whose label start with an underscore are ignored when legend() is called with no argument.\n"
     ]
    },
    {
     "data": {
      "image/png": "[encoded data removed]",
      "text/plain": [
       "<Figure size 640x480 with 1 Axes>"
      ]
     },
     "metadata": {},
     "output_type": "display_data"
    }
   ],
   "source": [
    "import matplotlib.pyplot as plt\n",
    "import numpy as np\n",
    "import pandas as pd\n",
    "\n",
    "index = list(range(1, 25))\n",
    "\n",
    "# Initialize an array to store synthetic data\n",
    "synthetic_data_all = []\n",
    "\n",
    "# Set the number of synthetic series you want to plot\n",
    "num_synthetic_series = 20\n",
    "\n",
    "for i in range(num_synthetic_series):\n",
    "    # Ensure that the random index is within bounds\n",
    "    random_index = np.random.randint(len(generated_data))\n",
    "    synthetic = generated_data[random_index]\n",
    "\n",
    "\n",
    "    idx = np.random.randint(len(df_asset_1) - seq_len)\n",
    "    real = pd.DataFrame(scaled_df_asset1).iloc[idx: idx + seq_len]\n",
    "\n",
    "    scaled_synthetic = scaler.fit_transform(synthetic).astype(np.float32)\n",
    "    synthetic_data_all.append(scaled_synthetic.flatten())\n",
    "\n",
    "# Plot real data\n",
    "plt.plot(index, real, color='blue')\n",
    "\n",
    "# Define a color list for synthetic series\n",
    "colors = ['red', 'green', 'orange', 'purple', 'cyan', 'magenta', 'yellow', 'black', 'brown', 'lime', 'pink', 'teal', 'coral', 'lavender', 'navy', 'silver', 'gold', 'olive', 'orchid', 'indigo']\n",
    "\n",
    "# Plot synthetic data as lines \n",
    "for i, synthetic_data in enumerate(synthetic_data_all):\n",
    "    \n",
    "\n",
    "    plt.plot(index, synthetic_data/6 , alpha = 0.5, color=colors[i])\n",
    "plt.legend()\n",
    "plt.title('Real vs Synthetic Data')\n",
    "plt.xlabel('Time')\n",
    "plt.ylabel('Value')\n",
    "plt.show()\n",
    "\n"
   ]
  },
  {
   "cell_type": "code",
   "execution_count": 108,
   "metadata": {},
   "outputs": [
    {
     "name": "stderr",
     "output_type": "stream",
     "text": [
      "WARNING:matplotlib.legend:No artists with labels found to put in legend.  Note that artists whose label start with an underscore are ignored when legend() is called with no argument.\n"
     ]
    },
    {
     "data": {
      "image/png": "[encoded data removed]",
      "text/plain": [
       "<Figure size 640x480 with 1 Axes>"
      ]
     },
     "metadata": {},
     "output_type": "display_data"
    }
   ],
   "source": [
    "import matplotlib.pyplot as plt\n",
    "import numpy as np\n",
    "import pandas as pd\n",
    "\n",
    "index = list(range(1, 25))\n",
    "\n",
    "# Initialize an array to store synthetic data\n",
    "synthetic_data_all = []\n",
    "\n",
    "# Set the number of synthetic series you want to plot\n",
    "num_synthetic_series = 20\n",
    "\n",
    "for i in range(num_synthetic_series):\n",
    "    # Ensure that the random index is within bounds\n",
    "    random_index = np.random.randint(len(generated_data))\n",
    "    synthetic = generated_data[random_index]\n",
    "\n",
    "\n",
    "    idx = np.random.randint(len(df_asset_1) - seq_len)\n",
    "    real = pd.DataFrame(df_asset_1).iloc[idx: idx + seq_len]\n",
    "\n",
    "    scaled_synthetic = scaler.fit_transform(synthetic).astype(np.float32)\n",
    "    synthetic_data_all.append(scaled_synthetic.flatten())\n",
    "\n",
    "# Plot real data\n",
    "plt.plot(index, real, color='blue')\n",
    "\n",
    "# Define a color list for synthetic series\n",
    "colors = ['red', 'green', 'orange', 'purple', 'cyan', 'magenta', 'yellow', 'black', 'brown', 'lime', 'pink', 'teal', 'coral', 'lavender', 'navy', 'silver', 'gold', 'olive', 'orchid', 'indigo']\n",
    "\n",
    "# Plot synthetic data as lines \n",
    "for i, synthetic_data in enumerate(synthetic_data_all):\n",
    "    \n",
    "\n",
    "    plt.plot(index, synthetic_data/10 + 0.5, alpha = 0.5, color=colors[i])\n",
    "plt.legend()\n",
    "plt.title('Real vs Synthetic Data')\n",
    "plt.xlabel('Time')\n",
    "plt.ylabel('Value')\n",
    "plt.show()"
   ]
  },
  {
   "cell_type": "code",
   "execution_count": 105,
   "metadata": {},
   "outputs": [
    {
     "data": {
      "text/plain": [
       "[array([0.47893333, 0.        , 0.14306259, 0.08736038, 0.21767044,\n",
       "        0.33255386, 0.42369843, 0.5020313 , 0.5628967 , 0.60744095,\n",
       "        0.6479168 , 0.6751251 , 0.69851494, 0.72348595, 0.7688942 ,\n",
       "        0.7931671 , 0.82982635, 0.87109184, 0.89897156, 0.91057396,\n",
       "        0.9356022 , 0.9659157 , 0.9719906 , 1.        ], dtype=float32),\n",
       " array([0.15886307, 0.8802986 , 0.75827026, 0.969532  , 0.86029434,\n",
       "        0.791172  , 0.37390518, 0.26252365, 0.        , 0.14253616,\n",
       "        0.34319305, 0.43701553, 0.48259354, 0.68185425, 0.7025986 ,\n",
       "        0.7577019 , 0.82349014, 0.76633453, 0.7510147 , 0.8423004 ,\n",
       "        0.9208183 , 0.88829803, 0.9799423 , 1.        ], dtype=float32),\n",
       " array([1.        , 0.65621185, 0.5957012 , 0.62690735, 0.69846153,\n",
       "        0.73121834, 0.7410507 , 0.74076843, 0.72657204, 0.7060509 ,\n",
       "        0.7010479 , 0.69065857, 0.69244576, 0.7199421 , 0.7448349 ,\n",
       "        0.69713783, 0.492548  , 0.09374428, 0.        , 0.32274246,\n",
       "        0.7632637 , 0.874176  , 0.8974762 , 0.89603996], dtype=float32),\n",
       " array([0.2990036 , 0.        , 0.11615753, 0.25798416, 0.4536705 ,\n",
       "        0.5149765 , 0.51114655, 0.49457932, 0.50281525, 0.38132858,\n",
       "        0.5950775 , 0.7685013 , 0.84659195, 0.8683586 , 0.8232765 ,\n",
       "        0.76584244, 0.8511162 , 0.9466667 , 0.9270668 , 0.96704483,\n",
       "        1.        , 0.99440765, 0.9569435 , 0.98319626], dtype=float32),\n",
       " array([0.        , 0.33984756, 0.5324116 , 0.3770752 , 0.41898727,\n",
       "        0.31207848, 0.17282486, 0.18494797, 0.06342697, 0.15653038,\n",
       "        0.30846786, 0.26972198, 0.5094757 , 0.53904724, 0.5922985 ,\n",
       "        0.5858536 , 0.6975136 , 0.85040474, 0.9450302 , 0.95560455,\n",
       "        0.9879875 , 1.        , 0.9560833 , 0.8798332 ], dtype=float32),\n",
       " array([0.60604095, 0.50676537, 0.60870075, 0.5662012 , 0.6328182 ,\n",
       "        0.71093655, 0.76241684, 0.8118391 , 0.8747196 , 0.88280106,\n",
       "        0.9685612 , 1.        , 0.9760895 , 0.8719511 , 0.69661236,\n",
       "        0.5621481 , 0.2863493 , 0.11579227, 0.        , 0.00716686,\n",
       "        0.12892151, 0.22754383, 0.28940392, 0.41258717], dtype=float32),\n",
       " array([0.00104904, 0.        , 0.20669365, 0.14717484, 0.32291603,\n",
       "        0.32115746, 0.34949875, 0.23410606, 0.17337418, 0.2673378 ,\n",
       "        0.4042225 , 0.51893044, 0.62329674, 0.70375824, 0.7394619 ,\n",
       "        0.75391006, 0.72094727, 0.67362785, 0.80509186, 0.7751522 ,\n",
       "        0.8297272 , 0.8895321 , 0.953804  , 1.        ], dtype=float32),\n",
       " array([0.        , 0.04356956, 0.18912697, 0.1829071 , 0.3466549 ,\n",
       "        0.4661293 , 0.5205326 , 0.6213951 , 0.7010765 , 0.7494221 ,\n",
       "        0.8150234 , 0.8195896 , 0.86245537, 0.87804794, 0.92009735,\n",
       "        0.9414635 , 0.96180916, 0.9772606 , 0.979023  , 0.97566223,\n",
       "        0.9884052 , 0.99738693, 1.        , 0.9891701 ], dtype=float32),\n",
       " array([0.        , 0.3229828 , 0.46772957, 0.45326233, 0.5121746 ,\n",
       "        0.5089226 , 0.6471348 , 0.6926365 , 0.71427345, 0.7955799 ,\n",
       "        0.77635956, 0.7830639 , 0.6771164 , 0.7503185 , 0.8295193 ,\n",
       "        0.85557365, 0.908617  , 0.93826866, 0.90644646, 0.868309  ,\n",
       "        0.9395504 , 0.95685005, 0.96796227, 1.        ], dtype=float32),\n",
       " array([0.84757376, 0.8818793 , 0.891624  , 0.82346773, 0.6680608 ,\n",
       "        0.505064  , 0.31019115, 0.13955069, 0.04049587, 0.0388937 ,\n",
       "        0.        , 0.00277519, 0.04173231, 0.16534233, 0.26275396,\n",
       "        0.25663185, 0.39255285, 0.4900875 , 0.58220243, 0.81591034,\n",
       "        0.85602283, 0.91221046, 0.9538288 , 1.        ], dtype=float32),\n",
       " array([0.6552906 , 0.65813065, 0.75153923, 0.73240566, 0.749321  ,\n",
       "        0.6836834 , 0.71486855, 0.5393553 , 0.35304356, 0.27303123,\n",
       "        0.117836  , 0.        , 0.1107378 , 0.18295765, 0.33173943,\n",
       "        0.40485764, 0.5369177 , 0.623353  , 0.6991148 , 0.731287  ,\n",
       "        0.8078251 , 0.87489796, 0.93527794, 1.        ], dtype=float32),\n",
       " array([0.6333399 , 0.79172516, 0.88584137, 0.94074345, 0.95275974,\n",
       "        0.96354485, 0.9695444 , 1.        , 0.9995012 , 0.98681355,\n",
       "        0.9160385 , 0.8443785 , 0.84132004, 0.8820381 , 0.79197216,\n",
       "        0.86938477, 0.803339  , 0.6702366 , 0.36680698, 0.10155106,\n",
       "        0.        , 0.10073757, 0.16987133, 0.15008163], dtype=float32),\n",
       " array([0.7961168 , 0.76021385, 0.8421507 , 0.8304062 , 0.8937073 ,\n",
       "        0.94061947, 0.96956444, 0.9927864 , 1.        , 0.99433136,\n",
       "        0.9487543 , 0.78393936, 0.6010256 , 0.51295185, 0.4139719 ,\n",
       "        0.2920847 , 0.1592865 , 0.        , 0.11485863, 0.26926517,\n",
       "        0.3755312 , 0.5783205 , 0.7224989 , 0.79211235], dtype=float32),\n",
       " array([0.84982777, 1.        , 0.98408794, 0.94780827, 0.8554201 ,\n",
       "        0.79312325, 0.60437393, 0.54548836, 0.4208994 , 0.33127117,\n",
       "        0.37017632, 0.32479763, 0.16994476, 0.01181889, 0.        ,\n",
       "        0.15922642, 0.15789986, 0.42732143, 0.62269306, 0.70513153,\n",
       "        0.6823597 , 0.78388023, 0.79893684, 0.855443  ], dtype=float32),\n",
       " array([0.        , 0.2746029 , 0.5133858 , 0.5013046 , 0.64297485,\n",
       "        0.77960014, 0.83296776, 0.8990936 , 0.95197105, 0.96450424,\n",
       "        0.9786396 , 0.99103165, 0.9829426 , 1.        , 0.99580765,\n",
       "        0.955986  , 0.91789055, 0.8881664 , 0.69501495, 0.4234848 ,\n",
       "        0.48143768, 0.24714279, 0.18151474, 0.12907791], dtype=float32),\n",
       " array([0.        , 0.33877182, 0.42878532, 0.3580265 , 0.3937111 ,\n",
       "        0.3975277 , 0.48223114, 0.5381336 , 0.4476738 , 0.5937519 ,\n",
       "        0.6038799 , 0.66160965, 0.62480736, 0.73405266, 0.6885052 ,\n",
       "        0.7346115 , 0.81165123, 0.8692303 , 0.9128113 , 0.9233761 ,\n",
       "        0.9634476 , 0.9815178 , 0.9847851 , 1.        ], dtype=float32),\n",
       " array([0.18148994, 0.06479073, 0.        , 0.11824417, 0.03820038,\n",
       "        0.15498352, 0.22620964, 0.36746407, 0.4464817 , 0.6390991 ,\n",
       "        0.6750431 , 0.74487495, 0.7673149 , 0.91124916, 0.95853424,\n",
       "        0.97084427, 1.        , 0.96512794, 0.9523392 , 0.96977425,\n",
       "        0.95567894, 0.9314041 , 0.9309902 , 0.96782875], dtype=float32),\n",
       " array([0.851449  , 0.9057026 , 0.93870354, 0.94285965, 0.89843273,\n",
       "        0.8531265 , 0.73692894, 0.6934824 , 0.8188238 , 0.870018  ,\n",
       "        0.77163315, 0.42813492, 0.        , 0.09118843, 0.41552067,\n",
       "        0.5475111 , 0.49309635, 0.5960598 , 0.7840071 , 0.975605  ,\n",
       "        1.        , 0.97947025, 0.9279442 , 0.8812523 ], dtype=float32),\n",
       " array([0.85461426, 0.9128809 , 1.        , 0.9395752 , 0.9962206 ,\n",
       "        0.9375324 , 0.8430567 , 0.70993805, 0.40972137, 0.27273083,\n",
       "        0.15240479, 0.01924419, 0.10273075, 0.11107159, 0.06653595,\n",
       "        0.04094696, 0.27684498, 0.46389008, 0.6785908 , 0.7643595 ,\n",
       "        0.5539255 , 0.30113316, 0.09093285, 0.        ], dtype=float32),\n",
       " array([0.413105  , 0.40852547, 0.46874237, 0.4929409 , 0.60790443,\n",
       "        0.6273861 , 0.61232376, 0.5429802 , 0.41489792, 0.18909836,\n",
       "        0.        , 0.12257576, 0.34482574, 0.4374237 , 0.516016  ,\n",
       "        0.7162876 , 0.79179955, 0.76540375, 0.8679199 , 0.9550247 ,\n",
       "        0.983778  , 1.        , 0.9942837 , 0.9875984 ], dtype=float32)]"
      ]
     },
     "execution_count": 105,
     "metadata": {},
     "output_type": "execute_result"
    }
   ],
   "source": [
    "synthetic_data_all"
   ]
  },
  {
   "cell_type": "code",
   "execution_count": 96,
   "metadata": {},
   "outputs": [
    {
     "name": "stdout",
     "output_type": "stream",
     "text": [
      "[array([0.        , 0.8247299 , 0.4613037 , 0.73651886, 0.80947113,\n",
      "       0.8455124 , 0.86979675, 0.75045013, 0.6847992 , 0.75388336,\n",
      "       0.7644577 , 0.67196655, 0.7876816 , 0.72898865, 0.7451172 ,\n",
      "       0.78791046, 0.8420563 , 0.86307526, 0.90595245, 0.90473175,\n",
      "       0.95713806, 0.9829788 , 0.9738388 , 1.        ], dtype=float32), array([0.06920624, 0.6687355 , 0.9217682 , 0.779232  , 0.74271774,\n",
      "       0.67630005, 0.6613693 , 0.5194473 , 0.75400925, 0.7704315 ,\n",
      "       0.60982513, 0.8113289 , 0.5762253 , 0.09239197, 0.        ,\n",
      "       0.05754471, 0.2186966 , 0.4041443 , 0.62947464, 0.7982292 ,\n",
      "       0.8642502 , 0.9937935 , 1.        , 0.9817352 ], dtype=float32), array([0.17297363, 0.        , 0.18864822, 0.11925125, 0.22867775,\n",
      "       0.29561806, 0.37212944, 0.5105095 , 0.5910969 , 0.66877747,\n",
      "       0.71920204, 0.74811745, 0.7834587 , 0.8307018 , 0.8659382 ,\n",
      "       0.8874054 , 0.90330505, 0.917963  , 0.94207954, 0.95973206,\n",
      "       0.96482277, 0.98363113, 0.97530365, 1.        ], dtype=float32), array([0.        , 0.14892578, 0.26743317, 0.23248291, 0.38835907,\n",
      "       0.5577221 , 0.6239414 , 0.6920681 , 0.8154259 , 0.8352432 ,\n",
      "       0.8456383 , 0.8012352 , 0.77994347, 0.6954613 , 0.649704  ,\n",
      "       0.7155056 , 0.73355293, 0.7869587 , 0.7070732 , 0.7956734 ,\n",
      "       0.8397026 , 0.9229202 , 0.92738914, 1.        ], dtype=float32), array([0.84280586, 0.79789925, 0.8049202 , 0.8567238 , 0.8836212 ,\n",
      "       0.84659576, 0.7178974 , 0.53284454, 0.4352703 , 0.63955116,\n",
      "       0.71993446, 0.8439827 , 0.88664246, 0.968071  , 1.        ,\n",
      "       0.98103523, 0.8914776 , 0.8541012 , 0.839447  , 0.86523056,\n",
      "       0.86346436, 0.77892303, 0.5231266 , 0.        ], dtype=float32), array([0.7066164 , 0.74046993, 0.64765453, 0.71607304, 0.69068813,\n",
      "       0.48221016, 0.11478329, 0.        , 0.14279461, 0.32317352,\n",
      "       0.49706554, 0.5667782 , 0.65353394, 0.7188616 , 0.791131  ,\n",
      "       0.7482271 , 0.7834101 , 0.7884712 , 0.8796177 , 0.9146309 ,\n",
      "       0.9283962 , 0.91543674, 0.9792385 , 1.        ], dtype=float32), array([0.77754974, 0.6899452 , 0.76327896, 0.7786293 , 0.8880863 ,\n",
      "       0.92902756, 0.9318638 , 0.9583168 , 0.97719574, 0.994936  ,\n",
      "       1.        , 0.9877033 , 0.9035797 , 0.5685005 , 0.21499825,\n",
      "       0.14734459, 0.        , 0.10445976, 0.30410385, 0.35655975,\n",
      "       0.19742775, 0.48229408, 0.69337463, 0.9280262 ], dtype=float32), array([0.2226677 , 0.        , 0.16552734, 0.10717964, 0.22661018,\n",
      "       0.33661842, 0.42728233, 0.5206814 , 0.594677  , 0.65340805,\n",
      "       0.70474243, 0.73031616, 0.7493706 , 0.76686096, 0.7940197 ,\n",
      "       0.8236141 , 0.8234463 , 0.83748627, 0.9039593 , 0.95305634,\n",
      "       0.9280281 , 1.        , 0.95952415, 0.9109268 ], dtype=float32), array([0.1824913 , 0.        , 0.2042408 , 0.15318489, 0.31113243,\n",
      "       0.44943047, 0.5418644 , 0.6302986 , 0.690279  , 0.7451248 ,\n",
      "       0.760746  , 0.7902317 , 0.6897869 , 0.80042076, 0.72201157,\n",
      "       0.81840897, 0.77822113, 0.8692417 , 0.9167423 , 0.952446  ,\n",
      "       0.9726181 , 0.97872543, 0.979084  , 1.        ], dtype=float32), array([0.        , 0.756958  , 0.6159134 , 0.81641006, 0.86416626,\n",
      "       0.9094658 , 0.96588135, 0.9550476 , 0.9825554 , 1.        ,\n",
      "       0.9645157 , 0.9443016 , 0.93935776, 0.86906433, 0.82258224,\n",
      "       0.73976135, 0.8102455 , 0.87672424, 0.8371773 , 0.8066406 ,\n",
      "       0.8630371 , 0.9267616 , 0.93793106, 0.9669647 ], dtype=float32), array([0.75499725, 0.93453693, 0.8949833 , 0.9364662 , 0.96159935,\n",
      "       0.95563126, 1.        , 0.9818764 , 0.9839897 , 0.9795208 ,\n",
      "       0.9255934 , 0.94440746, 0.8813038 , 0.7348623 , 0.56765556,\n",
      "       0.27030468, 0.04088497, 0.02848911, 0.0940237 , 0.        ,\n",
      "       0.0914669 , 0.27527142, 0.35738468, 0.30067158], dtype=float32), array([0.8500271 , 0.78999615, 0.8608427 , 0.8268137 , 0.8886404 ,\n",
      "       0.97279644, 1.        , 0.88596344, 0.6528654 , 0.5502701 ,\n",
      "       0.48051548, 0.42659187, 0.23075008, 0.05283356, 0.        ,\n",
      "       0.06838512, 0.26796722, 0.41108227, 0.44789314, 0.5866146 ,\n",
      "       0.7234373 , 0.8220854 , 0.8642807 , 0.9482956 ], dtype=float32), array([0.6035023 , 0.24201965, 0.40815353, 0.34284973, 0.46223068,\n",
      "       0.58597565, 0.6694412 , 0.7422161 , 0.8125    , 0.86982346,\n",
      "       0.96671295, 1.        , 0.9657383 , 0.83503723, 0.37812996,\n",
      "       0.18688965, 0.01377869, 0.        , 0.06523895, 0.16392899,\n",
      "       0.32393646, 0.44173622, 0.5474739 , 0.66332436], dtype=float32), array([0.62427425, 0.8296509 , 0.8557167 , 0.8553705 , 0.9198923 ,\n",
      "       0.9653206 , 0.9929857 , 1.        , 0.9603615 , 0.9556427 ,\n",
      "       0.95253086, 0.93914986, 0.900259  , 0.8612242 , 0.73257923,\n",
      "       0.7102175 , 0.55284595, 0.25403595, 0.12675762, 0.05587387,\n",
      "       0.        , 0.0770731 , 0.2034998 , 0.30466557], dtype=float32), array([0.        , 0.15115738, 0.21440506, 0.15763092, 0.2693329 ,\n",
      "       0.39735794, 0.44852066, 0.55620575, 0.61631393, 0.63731   ,\n",
      "       0.6631813 , 0.6769562 , 0.7341614 , 0.75528336, 0.7993927 ,\n",
      "       0.856205  , 0.8760643 , 0.9065933 , 0.9408188 , 0.9529381 ,\n",
      "       0.96930695, 0.98036194, 0.99493027, 1.        ], dtype=float32), array([0.92034245, 0.9832268 , 0.9512663 , 1.        , 0.95935917,\n",
      "       0.8210983 , 0.6664381 , 0.46822262, 0.3285122 , 0.22929955,\n",
      "       0.11106014, 0.13532448, 0.11475563, 0.20049381, 0.18886852,\n",
      "       0.05962658, 0.0128355 , 0.00531483, 0.10428333, 0.05588245,\n",
      "       0.01039124, 0.        , 0.03577614, 0.02750206], dtype=float32), array([0.3164215 , 0.43634033, 0.30215073, 0.5072365 , 0.5464363 ,\n",
      "       0.5930748 , 0.6494713 , 0.70235443, 0.69890213, 0.7497444 ,\n",
      "       0.728035  , 0.628109  , 0.42494965, 0.13148499, 0.        ,\n",
      "       0.1675911 , 0.03456116, 0.16408539, 0.5106201 , 0.5264778 ,\n",
      "       0.75273895, 0.82577133, 1.        , 0.9500427 ], dtype=float32), array([0.        , 0.19135284, 0.28557587, 0.20848274, 0.31599617,\n",
      "       0.4103241 , 0.51023865, 0.5734825 , 0.61914253, 0.66918945,\n",
      "       0.6816921 , 0.7536545 , 0.812212  , 0.81591034, 0.8659191 ,\n",
      "       0.8761864 , 0.9010792 , 0.9352665 , 0.9634838 , 0.97410583,\n",
      "       0.9939518 , 0.9983368 , 0.99627876, 1.        ], dtype=float32), array([0.        , 0.63194275, 0.55213165, 0.53339005, 0.59324646,\n",
      "       0.638607  , 0.6733322 , 0.69887924, 0.665596  , 0.6535759 ,\n",
      "       0.7161293 , 0.6776428 , 0.7166786 , 0.7206688 , 0.6849022 ,\n",
      "       0.6084099 , 0.70010376, 0.68753815, 0.7169075 , 0.8324661 ,\n",
      "       0.830204  , 0.8685913 , 0.94412994, 1.        ], dtype=float32), array([0.88735485, 0.9579377 , 1.        , 0.97405577, 0.99043036,\n",
      "       0.94148254, 0.94981146, 0.9455166 , 0.8801713 , 0.71329737,\n",
      "       0.56772614, 0.36534882, 0.22041321, 0.106215  , 0.05034161,\n",
      "       0.        , 0.05433416, 0.01568651, 0.15058994, 0.11728382,\n",
      "       0.2678032 , 0.44083118, 0.6009126 , 0.8021841 ], dtype=float32)]\n"
     ]
    }
   ],
   "source": [
    "print(synthetic_data_all)"
   ]
  },
  {
   "cell_type": "code",
   "execution_count": 80,
   "metadata": {},
   "outputs": [
    {
     "ename": "NameError",
     "evalue": "name 'real_array' is not defined",
     "output_type": "error",
     "traceback": [
      "\u001b[0;31m---------------------------------------------------------------------------\u001b[0m",
      "\u001b[0;31mNameError\u001b[0m                                 Traceback (most recent call last)",
      "\u001b[1;32m/home/onyxia/statapp-hsbc/01_TimeGAN_TF2.ipynb Cell 151\u001b[0m line \u001b[0;36m2\n\u001b[1;32m      <a href='vscode-notebook-cell://user-thabib13-610738-0.user.lab.sspcloud.fr/home/onyxia/statapp-hsbc/01_TimeGAN_TF2.ipynb#Y305sdnNjb2RlLXJlbW90ZQ%3D%3D?line=0'>1</a>\u001b[0m \u001b[39mfrom\u001b[39;00m \u001b[39mutils\u001b[39;00m\u001b[39m.\u001b[39;00m\u001b[39mmetrics\u001b[39;00m \u001b[39mimport\u001b[39;00m plot_tsne\n\u001b[0;32m----> <a href='vscode-notebook-cell://user-thabib13-610738-0.user.lab.sspcloud.fr/home/onyxia/statapp-hsbc/01_TimeGAN_TF2.ipynb#Y305sdnNjb2RlLXJlbW90ZQ%3D%3D?line=1'>2</a>\u001b[0m plot_tsne(real_array, fake_array, random\u001b[39m=\u001b[39m\u001b[39mFalse\u001b[39;00m)\n",
      "\u001b[0;31mNameError\u001b[0m: name 'real_array' is not defined"
     ]
    }
   ],
   "source": [
    "from utils.metrics import plot_tsne\n",
    "plot_tsne(real_array, fake_array, random=False)"
   ]
  },
  {
   "cell_type": "code",
   "execution_count": 77,
   "metadata": {
    "ExecuteTime": {
     "end_time": "2020-06-22T15:11:45.421814Z",
     "start_time": "2020-06-22T15:11:42.890793Z"
    }
   },
   "outputs": [
    {
     "data": {
      "image/png": "[encoded data removed]",
      "text/plain": [
       "<Figure size 640x480 with 1 Axes>"
      ]
     },
     "metadata": {},
     "output_type": "display_data"
    },
    {
     "data": {
      "image/png": "[encoded data removed]",
      "text/plain": [
       "<Figure size 640x480 with 1 Axes>"
      ]
     },
     "metadata": {},
     "output_type": "display_data"
    },
    {
     "data": {
      "image/png": "[encoded data removed]",
      "text/plain": [
       "<Figure size 640x480 with 1 Axes>"
      ]
     },
     "metadata": {},
     "output_type": "display_data"
    },
    {
     "data": {
      "image/png": "[encoded data removed]",
      "text/plain": [
       "<Figure size 640x480 with 1 Axes>"
      ]
     },
     "metadata": {},
     "output_type": "display_data"
    },
    {
     "data": {
      "image/png": "[encoded data removed]",
      "text/plain": [
       "<Figure size 640x480 with 1 Axes>"
      ]
     },
     "metadata": {},
     "output_type": "display_data"
    },
    {
     "data": {
      "image/png": "[encoded data removed]",
      "text/plain": [
       "<Figure size 640x480 with 1 Axes>"
      ]
     },
     "metadata": {},
     "output_type": "display_data"
    },
    {
     "data": {
      "image/png": "[encoded data removed]",
      "text/plain": [
       "<Figure size 640x480 with 1 Axes>"
      ]
     },
     "metadata": {},
     "output_type": "display_data"
    },
    {
     "data": {
      "image/png": "[encoded data removed]",
      "text/plain": [
       "<Figure size 640x480 with 1 Axes>"
      ]
     },
     "metadata": {},
     "output_type": "display_data"
    },
    {
     "data": {
      "image/png": "[encoded data removed]",
      "text/plain": [
       "<Figure size 640x480 with 1 Axes>"
      ]
     },
     "metadata": {},
     "output_type": "display_data"
    },
    {
     "data": {
      "image/png": "[encoded data removed]",
      "text/plain": [
       "<Figure size 640x480 with 1 Axes>"
      ]
     },
     "metadata": {},
     "output_type": "display_data"
    }
   ],
   "source": [
    "index = list(range(1, 25))\n",
    "\n",
    "for i in range(10):\n",
    "    plt.figure()\n",
    "    \n",
    "    synthetic = generated_data[np.random.randint(n_windows)]\n",
    "\n",
    "    idx = np.random.randint(len(df_asset_1) - seq_len)\n",
    "    real = pd.DataFrame(scaled_df_asset1).iloc[idx: idx + seq_len]\n",
    "\n",
    "    scaled_synthetic = scaler.fit_transform(synthetic).astype(np.float32)\n",
    "\n",
    "    plt.plot(index, real, label='Real', color='blue')\n",
    "    plt.plot(index, scaled_synthetic/10, label='Synthetic', color='red')\n",
    "\n",
    "    plt.legend()\n",
    "\n",
    "    plt.title(f'Example {i+1}: Real vs Synthetic Data')\n",
    "    plt.xlabel('Time')\n",
    "    plt.ylabel('Value')\n",
    "\n",
    "    plt.show()\n",
    "\n"
   ]
  }
 ],
 "metadata": {
  "kernelspec": {
   "display_name": "Python 3",
   "language": "python",
   "name": "python3"
  },
  "language_info": {
   "codemirror_mode": {
    "name": "ipython",
    "version": 3
   },
   "file_extension": ".py",
   "mimetype": "text/x-python",
   "name": "python",
   "nbconvert_exporter": "python",
   "pygments_lexer": "ipython3",
   "version": "3.10.12"
  },
  "toc": {
   "base_numbering": 1,
   "nav_menu": {},
   "number_sections": true,
   "sideBar": true,
   "skip_h1_title": false,
   "title_cell": "Table of Contents",
   "title_sidebar": "Contents",
   "toc_cell": false,
   "toc_position": {},
   "toc_section_display": true,
   "toc_window_display": true
  },
  "toc-autonumbering": true
 },
 "nbformat": 4,
 "nbformat_minor": 4
}
