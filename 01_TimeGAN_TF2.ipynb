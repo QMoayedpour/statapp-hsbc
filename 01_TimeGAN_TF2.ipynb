{
 "cells": [
  {
   "cell_type": "markdown",
   "metadata": {},
   "source": [
    "<font size=\"+3\">Time-series Generative Adversarial Network (TimeGAN)</font>"
   ]
  },
  {
   "cell_type": "markdown",
   "metadata": {},
   "source": [
    "# Imports & Settings"
   ]
  },
  {
   "cell_type": "code",
   "execution_count": 2,
   "metadata": {
    "ExecuteTime": {
     "end_time": "2020-06-22T14:16:41.928523Z",
     "start_time": "2020-06-22T14:16:41.926684Z"
    }
   },
   "outputs": [],
   "source": [
    "import warnings\n",
    "warnings.filterwarnings('ignore')"
   ]
  },
  {
   "cell_type": "code",
   "execution_count": 3,
   "metadata": {
    "ExecuteTime": {
     "end_time": "2020-06-22T14:16:43.536398Z",
     "start_time": "2020-06-22T14:16:41.930419Z"
    }
   },
   "outputs": [
    {
     "name": "stderr",
     "output_type": "stream",
     "text": [
      "2024-02-07 19:44:50.468025: I tensorflow/core/util/port.cc:113] oneDNN custom operations are on. You may see slightly different numerical results due to floating-point round-off errors from different computation orders. To turn them off, set the environment variable `TF_ENABLE_ONEDNN_OPTS=0`.\n",
      "2024-02-07 19:44:50.516789: E external/local_xla/xla/stream_executor/cuda/cuda_dnn.cc:9261] Unable to register cuDNN factory: Attempting to register factory for plugin cuDNN when one has already been registered\n",
      "2024-02-07 19:44:50.516824: E external/local_xla/xla/stream_executor/cuda/cuda_fft.cc:607] Unable to register cuFFT factory: Attempting to register factory for plugin cuFFT when one has already been registered\n",
      "2024-02-07 19:44:50.518019: E external/local_xla/xla/stream_executor/cuda/cuda_blas.cc:1515] Unable to register cuBLAS factory: Attempting to register factory for plugin cuBLAS when one has already been registered\n",
      "2024-02-07 19:44:50.526765: I tensorflow/core/platform/cpu_feature_guard.cc:182] This TensorFlow binary is optimized to use available CPU instructions in performance-critical operations.\n",
      "To enable the following instructions: AVX2 AVX512F AVX512_VNNI AVX512_BF16 AVX_VNNI AMX_TILE AMX_INT8 AMX_BF16 FMA, in other operations, rebuild TensorFlow with the appropriate compiler flags.\n",
      "2024-02-07 19:44:51.374627: W tensorflow/compiler/tf2tensorrt/utils/py_utils.cc:38] TF-TRT Warning: Could not find TensorRT\n"
     ]
    }
   ],
   "source": [
    "import pandas as pd\n",
    "import numpy as np\n",
    "from sklearn.preprocessing import MinMaxScaler\n",
    "import tensorflow as tf\n",
    "from pathlib import Path\n",
    "from tqdm import tqdm\n",
    "\n",
    "from tensorflow.keras.models import Sequential, Model\n",
    "from tensorflow.keras.layers import GRU, Dense, RNN, GRUCell, Input\n",
    "from tensorflow.keras.losses import BinaryCrossentropy, MeanSquaredError\n",
    "from tensorflow.keras.optimizers import Adam\n",
    "from tensorflow.keras.callbacks import TensorBoard\n",
    "from tensorflow.keras.utils import plot_model\n",
    "\n",
    "import matplotlib.pyplot as plt\n",
    "import seaborn as sns"
   ]
  },
  {
   "cell_type": "code",
   "execution_count": 4,
   "metadata": {
    "ExecuteTime": {
     "end_time": "2020-06-22T14:16:43.563985Z",
     "start_time": "2020-06-22T14:16:43.537366Z"
    }
   },
   "outputs": [
    {
     "name": "stdout",
     "output_type": "stream",
     "text": [
      "Using CPU\n"
     ]
    }
   ],
   "source": [
    "gpu_devices = tf.config.experimental.list_physical_devices('GPU')\n",
    "if gpu_devices:\n",
    "    print('Using GPU')\n",
    "    tf.config.experimental.set_memory_growth(gpu_devices[0], True)\n",
    "else:\n",
    "    print('Using CPU')"
   ]
  },
  {
   "cell_type": "code",
   "execution_count": 5,
   "metadata": {
    "ExecuteTime": {
     "end_time": "2020-06-22T14:16:43.574151Z",
     "start_time": "2020-06-22T14:16:43.565253Z"
    }
   },
   "outputs": [],
   "source": [
    "sns.set_style('white')"
   ]
  },
  {
   "cell_type": "code",
   "execution_count": 6,
   "metadata": {},
   "outputs": [],
   "source": [
    "np.random.seed(42)\n",
    "tf.random.set_seed(1234)"
   ]
  },
  {
   "cell_type": "markdown",
   "metadata": {},
   "source": [
    "## Experiment Path"
   ]
  },
  {
   "cell_type": "code",
   "execution_count": 7,
   "metadata": {
    "ExecuteTime": {
     "end_time": "2020-06-22T14:16:43.583055Z",
     "start_time": "2020-06-22T14:16:43.575523Z"
    }
   },
   "outputs": [],
   "source": [
    "results_path = Path('time_gan')\n",
    "if not results_path.exists():\n",
    "    results_path.mkdir()"
   ]
  },
  {
   "cell_type": "code",
   "execution_count": 8,
   "metadata": {
    "ExecuteTime": {
     "end_time": "2020-06-22T14:16:43.596178Z",
     "start_time": "2020-06-22T14:16:43.585768Z"
    }
   },
   "outputs": [],
   "source": [
    "experiment = 0"
   ]
  },
  {
   "cell_type": "code",
   "execution_count": 9,
   "metadata": {
    "ExecuteTime": {
     "end_time": "2020-06-22T14:16:43.604235Z",
     "start_time": "2020-06-22T14:16:43.598416Z"
    }
   },
   "outputs": [],
   "source": [
    "log_dir = results_path / f'experiment_{experiment:02}'\n",
    "if not log_dir.exists():\n",
    "    log_dir.mkdir(parents=True)"
   ]
  },
  {
   "cell_type": "code",
   "execution_count": 10,
   "metadata": {
    "ExecuteTime": {
     "end_time": "2020-06-22T14:16:43.624581Z",
     "start_time": "2020-06-22T14:16:43.605204Z"
    }
   },
   "outputs": [],
   "source": [
    "hdf_store = results_path / 'TimeSeriesGAN.h5'"
   ]
  },
  {
   "cell_type": "markdown",
   "metadata": {},
   "source": [
    "# TimeGAN Architecture and Training"
   ]
  },
  {
   "cell_type": "markdown",
   "metadata": {},
   "source": [
    "# Prepare Data"
   ]
  },
  {
   "cell_type": "markdown",
   "metadata": {},
   "source": [
    "The authors demonstrate the applicability of TimeGAN to financial data using 15 years of daily Google stock prices downloaded from Yahoo Finance with six features, namely open, high, low, close and adjusted close price, and volume. We’ll use instead close to 20 years of adjusted close prices for six different tickers because it introduces somewhat higher variability. We follow the original paper in targeting synthetic series with 24 time steps. "
   ]
  },
  {
   "cell_type": "code",
   "execution_count": 11,
   "metadata": {},
   "outputs": [
    {
     "name": "stdout",
     "output_type": "stream",
     "text": [
      "<class 'pandas.core.frame.DataFrame'>\n",
      "RangeIndex: 36540 entries, 0 to 36539\n",
      "Data columns (total 7 columns):\n",
      " #   Column          Non-Null Count  Dtype  \n",
      "---  ------          --------------  -----  \n",
      " 0   ASSETTYPE       36540 non-null  object \n",
      " 1   ASSETSUBTYPE    36540 non-null  object \n",
      " 2   ASSETNAME       36540 non-null  object \n",
      " 3   ISHEDGED        36540 non-null  bool   \n",
      " 4   INDEXPROXYNAME  36540 non-null  object \n",
      " 5   VALUEDATE       36540 non-null  int64  \n",
      " 6   PRICE           36540 non-null  float64\n",
      "dtypes: bool(1), float64(1), int64(1), object(4)\n",
      "memory usage: 1.7+ MB\n"
     ]
    }
   ],
   "source": [
    "df = pd.read_csv('../statapp-hsbc/data/GANData.csv')\n",
    "df.info()"
   ]
  },
  {
   "cell_type": "markdown",
   "metadata": {},
   "source": [
    "## Parameters"
   ]
  },
  {
   "cell_type": "code",
   "execution_count": 12,
   "metadata": {
    "ExecuteTime": {
     "end_time": "2020-06-22T14:16:43.640257Z",
     "start_time": "2020-06-22T14:16:43.625482Z"
    }
   },
   "outputs": [],
   "source": [
    "seq_len = 24\n",
    "n_seq = 1\n",
    "batch_size = 128"
   ]
  },
  {
   "cell_type": "code",
   "execution_count": 13,
   "metadata": {
    "ExecuteTime": {
     "end_time": "2020-06-22T14:16:43.653909Z",
     "start_time": "2020-06-22T14:16:43.641409Z"
    }
   },
   "outputs": [
    {
     "name": "stdout",
     "output_type": "stream",
     "text": [
      "16\n",
      "['Global Property USD Unhedged', 'Infrastructure Debt - USD Unhedged', 'Global Government Bond USD Hedged', 'UK Government Bond - USD Hedged', 'US Government Bond USD Unhedged', 'Europe ex UK Equity - USD Unhedged', 'UK Equity - USD Unhedged', 'US Equity USD Unhedged', 'Liquidity EUR Unhedged in USD', 'Liquidity GBP Unhedged in USD', 'Liquidity USD Unhedged', 'EUR Corporate Bond - USD Hedged', 'Euro High Yield Bond BB-B - USD Hedged', 'GBP Corporate Bond - USD Hedged', 'US High Yield Bond - USD Unhedged', 'USD Corporate Bond - USD Unhedged']\n"
     ]
    }
   ],
   "source": [
    "tickers = [i for i in df.ASSETNAME.unique()]\n",
    "print(len(tickers))\n",
    "print(tickers)"
   ]
  },
  {
   "cell_type": "markdown",
   "metadata": {},
   "source": [
    "## Plot Series"
   ]
  },
  {
   "cell_type": "markdown",
   "metadata": {},
   "source": [
    "Among the stocks with the longest history in the Quandl Wiki dataset are those displayed in normalized format, i.e., starting at 1.0, in the following Figure 21.5. We retrieve the adjusted close from 2000-2017 and obtain over 4,000 observations. The correlation coefficient among the series ranges from 0.01 for GE and CAT. to 0.94 for DIS and KO."
   ]
  },
  {
   "cell_type": "code",
   "execution_count": 14,
   "metadata": {
    "ExecuteTime": {
     "end_time": "2020-06-22T14:16:50.655004Z",
     "start_time": "2020-06-22T14:16:48.811967Z"
    }
   },
   "outputs": [],
   "source": [
    "from utils.network import *\n",
    "from utils.create_data import *\n",
    "from utils.data import Data"
   ]
  },
  {
   "cell_type": "code",
   "execution_count": 15,
   "metadata": {},
   "outputs": [],
   "source": [
    "pivot_df = df.pivot_table(index='VALUEDATE', columns='ASSETNAME', values='PRICE').reset_index()\n"
   ]
  },
  {
   "cell_type": "code",
   "execution_count": 16,
   "metadata": {},
   "outputs": [
    {
     "data": {
      "text/html": [
       "<div>\n",
       "<style scoped>\n",
       "    .dataframe tbody tr th:only-of-type {\n",
       "        vertical-align: middle;\n",
       "    }\n",
       "\n",
       "    .dataframe tbody tr th {\n",
       "        vertical-align: top;\n",
       "    }\n",
       "\n",
       "    .dataframe thead th {\n",
       "        text-align: right;\n",
       "    }\n",
       "</style>\n",
       "<table border=\"1\" class=\"dataframe\">\n",
       "  <thead>\n",
       "    <tr style=\"text-align: right;\">\n",
       "      <th>ASSETNAME</th>\n",
       "      <th>VALUEDATE</th>\n",
       "      <th>EUR Corporate Bond - USD Hedged</th>\n",
       "      <th>Euro High Yield Bond BB-B - USD Hedged</th>\n",
       "      <th>Europe ex UK Equity - USD Unhedged</th>\n",
       "      <th>GBP Corporate Bond - USD Hedged</th>\n",
       "      <th>Global Government Bond USD Hedged</th>\n",
       "      <th>Global Property USD Unhedged</th>\n",
       "      <th>Infrastructure Debt - USD Unhedged</th>\n",
       "      <th>Liquidity EUR Unhedged in USD</th>\n",
       "      <th>Liquidity GBP Unhedged in USD</th>\n",
       "      <th>Liquidity USD Unhedged</th>\n",
       "      <th>UK Equity - USD Unhedged</th>\n",
       "      <th>UK Government Bond - USD Hedged</th>\n",
       "      <th>US Equity USD Unhedged</th>\n",
       "      <th>US Government Bond USD Unhedged</th>\n",
       "      <th>US High Yield Bond - USD Unhedged</th>\n",
       "      <th>USD Corporate Bond - USD Unhedged</th>\n",
       "    </tr>\n",
       "  </thead>\n",
       "  <tbody>\n",
       "    <tr>\n",
       "      <th>0</th>\n",
       "      <td>35853</td>\n",
       "      <td>NaN</td>\n",
       "      <td>NaN</td>\n",
       "      <td>3343.142000</td>\n",
       "      <td>NaN</td>\n",
       "      <td>NaN</td>\n",
       "      <td>NaN</td>\n",
       "      <td>NaN</td>\n",
       "      <td>NaN</td>\n",
       "      <td>NaN</td>\n",
       "      <td>NaN</td>\n",
       "      <td>NaN</td>\n",
       "      <td>NaN</td>\n",
       "      <td>NaN</td>\n",
       "      <td>NaN</td>\n",
       "      <td>NaN</td>\n",
       "      <td>NaN</td>\n",
       "    </tr>\n",
       "    <tr>\n",
       "      <th>1</th>\n",
       "      <td>35854</td>\n",
       "      <td>124.022</td>\n",
       "      <td>105.701</td>\n",
       "      <td>3343.142000</td>\n",
       "      <td>NaN</td>\n",
       "      <td>332.1846</td>\n",
       "      <td>NaN</td>\n",
       "      <td>NaN</td>\n",
       "      <td>NaN</td>\n",
       "      <td>NaN</td>\n",
       "      <td>145.464901</td>\n",
       "      <td>4151.048000</td>\n",
       "      <td>102.262869</td>\n",
       "      <td>2946.083000</td>\n",
       "      <td>241.530000</td>\n",
       "      <td>NaN</td>\n",
       "      <td>949.244263</td>\n",
       "    </tr>\n",
       "    <tr>\n",
       "      <th>2</th>\n",
       "      <td>35885</td>\n",
       "      <td>124.730</td>\n",
       "      <td>106.964</td>\n",
       "      <td>3610.708000</td>\n",
       "      <td>NaN</td>\n",
       "      <td>334.4977</td>\n",
       "      <td>NaN</td>\n",
       "      <td>NaN</td>\n",
       "      <td>NaN</td>\n",
       "      <td>NaN</td>\n",
       "      <td>146.135886</td>\n",
       "      <td>4370.304000</td>\n",
       "      <td>104.112292</td>\n",
       "      <td>3099.360000</td>\n",
       "      <td>242.190000</td>\n",
       "      <td>NaN</td>\n",
       "      <td>952.750061</td>\n",
       "    </tr>\n",
       "    <tr>\n",
       "      <th>3</th>\n",
       "      <td>35915</td>\n",
       "      <td>124.940</td>\n",
       "      <td>109.238</td>\n",
       "      <td>3709.847000</td>\n",
       "      <td>NaN</td>\n",
       "      <td>336.1632</td>\n",
       "      <td>NaN</td>\n",
       "      <td>NaN</td>\n",
       "      <td>NaN</td>\n",
       "      <td>NaN</td>\n",
       "      <td>146.872656</td>\n",
       "      <td>4379.814000</td>\n",
       "      <td>105.039546</td>\n",
       "      <td>3136.193000</td>\n",
       "      <td>243.270000</td>\n",
       "      <td>NaN</td>\n",
       "      <td>958.766296</td>\n",
       "    </tr>\n",
       "    <tr>\n",
       "      <th>4</th>\n",
       "      <td>35944</td>\n",
       "      <td>NaN</td>\n",
       "      <td>NaN</td>\n",
       "      <td>3878.258000</td>\n",
       "      <td>NaN</td>\n",
       "      <td>NaN</td>\n",
       "      <td>NaN</td>\n",
       "      <td>NaN</td>\n",
       "      <td>NaN</td>\n",
       "      <td>NaN</td>\n",
       "      <td>NaN</td>\n",
       "      <td>NaN</td>\n",
       "      <td>NaN</td>\n",
       "      <td>NaN</td>\n",
       "      <td>NaN</td>\n",
       "      <td>NaN</td>\n",
       "      <td>NaN</td>\n",
       "    </tr>\n",
       "    <tr>\n",
       "      <th>...</th>\n",
       "      <td>...</td>\n",
       "      <td>...</td>\n",
       "      <td>...</td>\n",
       "      <td>...</td>\n",
       "      <td>...</td>\n",
       "      <td>...</td>\n",
       "      <td>...</td>\n",
       "      <td>...</td>\n",
       "      <td>...</td>\n",
       "      <td>...</td>\n",
       "      <td>...</td>\n",
       "      <td>...</td>\n",
       "      <td>...</td>\n",
       "      <td>...</td>\n",
       "      <td>...</td>\n",
       "      <td>...</td>\n",
       "      <td>...</td>\n",
       "    </tr>\n",
       "    <tr>\n",
       "      <th>2617</th>\n",
       "      <td>45160</td>\n",
       "      <td>365.741</td>\n",
       "      <td>455.961</td>\n",
       "      <td>13779.223853</td>\n",
       "      <td>312.383430</td>\n",
       "      <td>844.5036</td>\n",
       "      <td>5091.385814</td>\n",
       "      <td>NaN</td>\n",
       "      <td>NaN</td>\n",
       "      <td>NaN</td>\n",
       "      <td>120.416750</td>\n",
       "      <td>9868.529302</td>\n",
       "      <td>253.346038</td>\n",
       "      <td>19537.023755</td>\n",
       "      <td>580.271813</td>\n",
       "      <td>490.214</td>\n",
       "      <td>2992.667990</td>\n",
       "    </tr>\n",
       "    <tr>\n",
       "      <th>2618</th>\n",
       "      <td>45161</td>\n",
       "      <td>367.725</td>\n",
       "      <td>456.467</td>\n",
       "      <td>13833.668180</td>\n",
       "      <td>315.354005</td>\n",
       "      <td>850.3725</td>\n",
       "      <td>5167.731061</td>\n",
       "      <td>NaN</td>\n",
       "      <td>NaN</td>\n",
       "      <td>NaN</td>\n",
       "      <td>NaN</td>\n",
       "      <td>9894.270122</td>\n",
       "      <td>257.123708</td>\n",
       "      <td>19756.605945</td>\n",
       "      <td>584.867544</td>\n",
       "      <td>492.373</td>\n",
       "      <td>3025.278091</td>\n",
       "    </tr>\n",
       "    <tr>\n",
       "      <th>2619</th>\n",
       "      <td>45169</td>\n",
       "      <td>NaN</td>\n",
       "      <td>NaN</td>\n",
       "      <td>NaN</td>\n",
       "      <td>NaN</td>\n",
       "      <td>NaN</td>\n",
       "      <td>NaN</td>\n",
       "      <td>2263.99</td>\n",
       "      <td>NaN</td>\n",
       "      <td>NaN</td>\n",
       "      <td>NaN</td>\n",
       "      <td>NaN</td>\n",
       "      <td>NaN</td>\n",
       "      <td>NaN</td>\n",
       "      <td>NaN</td>\n",
       "      <td>NaN</td>\n",
       "      <td>NaN</td>\n",
       "    </tr>\n",
       "    <tr>\n",
       "      <th>2620</th>\n",
       "      <td>45199</td>\n",
       "      <td>NaN</td>\n",
       "      <td>NaN</td>\n",
       "      <td>NaN</td>\n",
       "      <td>NaN</td>\n",
       "      <td>NaN</td>\n",
       "      <td>NaN</td>\n",
       "      <td>2255.04</td>\n",
       "      <td>NaN</td>\n",
       "      <td>NaN</td>\n",
       "      <td>NaN</td>\n",
       "      <td>NaN</td>\n",
       "      <td>NaN</td>\n",
       "      <td>NaN</td>\n",
       "      <td>NaN</td>\n",
       "      <td>NaN</td>\n",
       "      <td>NaN</td>\n",
       "    </tr>\n",
       "    <tr>\n",
       "      <th>2621</th>\n",
       "      <td>45230</td>\n",
       "      <td>NaN</td>\n",
       "      <td>NaN</td>\n",
       "      <td>NaN</td>\n",
       "      <td>NaN</td>\n",
       "      <td>NaN</td>\n",
       "      <td>NaN</td>\n",
       "      <td>2253.84</td>\n",
       "      <td>NaN</td>\n",
       "      <td>NaN</td>\n",
       "      <td>NaN</td>\n",
       "      <td>NaN</td>\n",
       "      <td>NaN</td>\n",
       "      <td>NaN</td>\n",
       "      <td>NaN</td>\n",
       "      <td>NaN</td>\n",
       "      <td>NaN</td>\n",
       "    </tr>\n",
       "  </tbody>\n",
       "</table>\n",
       "<p>2622 rows × 17 columns</p>\n",
       "</div>"
      ],
      "text/plain": [
       "ASSETNAME  VALUEDATE  EUR Corporate Bond - USD Hedged  \\\n",
       "0              35853                              NaN   \n",
       "1              35854                          124.022   \n",
       "2              35885                          124.730   \n",
       "3              35915                          124.940   \n",
       "4              35944                              NaN   \n",
       "...              ...                              ...   \n",
       "2617           45160                          365.741   \n",
       "2618           45161                          367.725   \n",
       "2619           45169                              NaN   \n",
       "2620           45199                              NaN   \n",
       "2621           45230                              NaN   \n",
       "\n",
       "ASSETNAME  Euro High Yield Bond BB-B - USD Hedged  \\\n",
       "0                                             NaN   \n",
       "1                                         105.701   \n",
       "2                                         106.964   \n",
       "3                                         109.238   \n",
       "4                                             NaN   \n",
       "...                                           ...   \n",
       "2617                                      455.961   \n",
       "2618                                      456.467   \n",
       "2619                                          NaN   \n",
       "2620                                          NaN   \n",
       "2621                                          NaN   \n",
       "\n",
       "ASSETNAME  Europe ex UK Equity - USD Unhedged  \\\n",
       "0                                 3343.142000   \n",
       "1                                 3343.142000   \n",
       "2                                 3610.708000   \n",
       "3                                 3709.847000   \n",
       "4                                 3878.258000   \n",
       "...                                       ...   \n",
       "2617                             13779.223853   \n",
       "2618                             13833.668180   \n",
       "2619                                      NaN   \n",
       "2620                                      NaN   \n",
       "2621                                      NaN   \n",
       "\n",
       "ASSETNAME  GBP Corporate Bond - USD Hedged  Global Government Bond USD Hedged  \\\n",
       "0                                      NaN                                NaN   \n",
       "1                                      NaN                           332.1846   \n",
       "2                                      NaN                           334.4977   \n",
       "3                                      NaN                           336.1632   \n",
       "4                                      NaN                                NaN   \n",
       "...                                    ...                                ...   \n",
       "2617                            312.383430                           844.5036   \n",
       "2618                            315.354005                           850.3725   \n",
       "2619                                   NaN                                NaN   \n",
       "2620                                   NaN                                NaN   \n",
       "2621                                   NaN                                NaN   \n",
       "\n",
       "ASSETNAME  Global Property USD Unhedged  Infrastructure Debt - USD Unhedged  \\\n",
       "0                                   NaN                                 NaN   \n",
       "1                                   NaN                                 NaN   \n",
       "2                                   NaN                                 NaN   \n",
       "3                                   NaN                                 NaN   \n",
       "4                                   NaN                                 NaN   \n",
       "...                                 ...                                 ...   \n",
       "2617                        5091.385814                                 NaN   \n",
       "2618                        5167.731061                                 NaN   \n",
       "2619                                NaN                             2263.99   \n",
       "2620                                NaN                             2255.04   \n",
       "2621                                NaN                             2253.84   \n",
       "\n",
       "ASSETNAME  Liquidity EUR Unhedged in USD  Liquidity GBP Unhedged in USD  \\\n",
       "0                                    NaN                            NaN   \n",
       "1                                    NaN                            NaN   \n",
       "2                                    NaN                            NaN   \n",
       "3                                    NaN                            NaN   \n",
       "4                                    NaN                            NaN   \n",
       "...                                  ...                            ...   \n",
       "2617                                 NaN                            NaN   \n",
       "2618                                 NaN                            NaN   \n",
       "2619                                 NaN                            NaN   \n",
       "2620                                 NaN                            NaN   \n",
       "2621                                 NaN                            NaN   \n",
       "\n",
       "ASSETNAME  Liquidity USD Unhedged  UK Equity - USD Unhedged  \\\n",
       "0                             NaN                       NaN   \n",
       "1                      145.464901               4151.048000   \n",
       "2                      146.135886               4370.304000   \n",
       "3                      146.872656               4379.814000   \n",
       "4                             NaN                       NaN   \n",
       "...                           ...                       ...   \n",
       "2617                   120.416750               9868.529302   \n",
       "2618                          NaN               9894.270122   \n",
       "2619                          NaN                       NaN   \n",
       "2620                          NaN                       NaN   \n",
       "2621                          NaN                       NaN   \n",
       "\n",
       "ASSETNAME  UK Government Bond - USD Hedged  US Equity USD Unhedged  \\\n",
       "0                                      NaN                     NaN   \n",
       "1                               102.262869             2946.083000   \n",
       "2                               104.112292             3099.360000   \n",
       "3                               105.039546             3136.193000   \n",
       "4                                      NaN                     NaN   \n",
       "...                                    ...                     ...   \n",
       "2617                            253.346038            19537.023755   \n",
       "2618                            257.123708            19756.605945   \n",
       "2619                                   NaN                     NaN   \n",
       "2620                                   NaN                     NaN   \n",
       "2621                                   NaN                     NaN   \n",
       "\n",
       "ASSETNAME  US Government Bond USD Unhedged  US High Yield Bond - USD Unhedged  \\\n",
       "0                                      NaN                                NaN   \n",
       "1                               241.530000                                NaN   \n",
       "2                               242.190000                                NaN   \n",
       "3                               243.270000                                NaN   \n",
       "4                                      NaN                                NaN   \n",
       "...                                    ...                                ...   \n",
       "2617                            580.271813                            490.214   \n",
       "2618                            584.867544                            492.373   \n",
       "2619                                   NaN                                NaN   \n",
       "2620                                   NaN                                NaN   \n",
       "2621                                   NaN                                NaN   \n",
       "\n",
       "ASSETNAME  USD Corporate Bond - USD Unhedged  \n",
       "0                                        NaN  \n",
       "1                                 949.244263  \n",
       "2                                 952.750061  \n",
       "3                                 958.766296  \n",
       "4                                        NaN  \n",
       "...                                      ...  \n",
       "2617                             2992.667990  \n",
       "2618                             3025.278091  \n",
       "2619                                     NaN  \n",
       "2620                                     NaN  \n",
       "2621                                     NaN  \n",
       "\n",
       "[2622 rows x 17 columns]"
      ]
     },
     "execution_count": 16,
     "metadata": {},
     "output_type": "execute_result"
    }
   ],
   "source": [
    "pivot_df"
   ]
  },
  {
   "cell_type": "code",
   "execution_count": 17,
   "metadata": {},
   "outputs": [
    {
     "name": "stdout",
     "output_type": "stream",
     "text": [
      "2507\n",
      "224\n",
      "2503\n",
      "2495\n",
      "2439\n",
      "2572\n",
      "2514\n",
      "2519\n",
      "2085\n",
      "1899\n",
      "2483\n",
      "2528\n",
      "2528\n",
      "2483\n",
      "2332\n",
      "2429\n"
     ]
    }
   ],
   "source": [
    "for i in tickers : \n",
    "    print(len(df[df[\"ASSETNAME\"] == i]))\n"
   ]
  },
  {
   "cell_type": "code",
   "execution_count": 18,
   "metadata": {},
   "outputs": [
    {
     "data": {
      "text/html": [
       "<div>\n",
       "<style scoped>\n",
       "    .dataframe tbody tr th:only-of-type {\n",
       "        vertical-align: middle;\n",
       "    }\n",
       "\n",
       "    .dataframe tbody tr th {\n",
       "        vertical-align: top;\n",
       "    }\n",
       "\n",
       "    .dataframe thead th {\n",
       "        text-align: right;\n",
       "    }\n",
       "</style>\n",
       "<table border=\"1\" class=\"dataframe\">\n",
       "  <thead>\n",
       "    <tr style=\"text-align: right;\">\n",
       "      <th></th>\n",
       "      <th>ASSETTYPE</th>\n",
       "      <th>ASSETSUBTYPE</th>\n",
       "      <th>ASSETNAME</th>\n",
       "      <th>ISHEDGED</th>\n",
       "      <th>INDEXPROXYNAME</th>\n",
       "      <th>VALUEDATE</th>\n",
       "      <th>PRICE</th>\n",
       "    </tr>\n",
       "  </thead>\n",
       "  <tbody>\n",
       "    <tr>\n",
       "      <th>0</th>\n",
       "      <td>Alternative</td>\n",
       "      <td>Property</td>\n",
       "      <td>Global Property USD Unhedged</td>\n",
       "      <td>False</td>\n",
       "      <td>FTSE Russell FTSE EPRA Nareit Developed Index ...</td>\n",
       "      <td>36219</td>\n",
       "      <td>889.64</td>\n",
       "    </tr>\n",
       "    <tr>\n",
       "      <th>1</th>\n",
       "      <td>Alternative</td>\n",
       "      <td>Property</td>\n",
       "      <td>Global Property USD Unhedged</td>\n",
       "      <td>False</td>\n",
       "      <td>FTSE Russell FTSE EPRA Nareit Developed Index ...</td>\n",
       "      <td>36250</td>\n",
       "      <td>916.07</td>\n",
       "    </tr>\n",
       "    <tr>\n",
       "      <th>2</th>\n",
       "      <td>Alternative</td>\n",
       "      <td>Property</td>\n",
       "      <td>Global Property USD Unhedged</td>\n",
       "      <td>False</td>\n",
       "      <td>FTSE Russell FTSE EPRA Nareit Developed Index ...</td>\n",
       "      <td>36280</td>\n",
       "      <td>1006.43</td>\n",
       "    </tr>\n",
       "    <tr>\n",
       "      <th>3</th>\n",
       "      <td>Alternative</td>\n",
       "      <td>Property</td>\n",
       "      <td>Global Property USD Unhedged</td>\n",
       "      <td>False</td>\n",
       "      <td>FTSE Russell FTSE EPRA Nareit Developed Index ...</td>\n",
       "      <td>36311</td>\n",
       "      <td>983.72</td>\n",
       "    </tr>\n",
       "    <tr>\n",
       "      <th>4</th>\n",
       "      <td>Alternative</td>\n",
       "      <td>Property</td>\n",
       "      <td>Global Property USD Unhedged</td>\n",
       "      <td>False</td>\n",
       "      <td>FTSE Russell FTSE EPRA Nareit Developed Index ...</td>\n",
       "      <td>36341</td>\n",
       "      <td>1005.67</td>\n",
       "    </tr>\n",
       "  </tbody>\n",
       "</table>\n",
       "</div>"
      ],
      "text/plain": [
       "     ASSETTYPE ASSETSUBTYPE                     ASSETNAME  ISHEDGED  \\\n",
       "0  Alternative     Property  Global Property USD Unhedged     False   \n",
       "1  Alternative     Property  Global Property USD Unhedged     False   \n",
       "2  Alternative     Property  Global Property USD Unhedged     False   \n",
       "3  Alternative     Property  Global Property USD Unhedged     False   \n",
       "4  Alternative     Property  Global Property USD Unhedged     False   \n",
       "\n",
       "                                      INDEXPROXYNAME  VALUEDATE    PRICE  \n",
       "0  FTSE Russell FTSE EPRA Nareit Developed Index ...      36219   889.64  \n",
       "1  FTSE Russell FTSE EPRA Nareit Developed Index ...      36250   916.07  \n",
       "2  FTSE Russell FTSE EPRA Nareit Developed Index ...      36280  1006.43  \n",
       "3  FTSE Russell FTSE EPRA Nareit Developed Index ...      36311   983.72  \n",
       "4  FTSE Russell FTSE EPRA Nareit Developed Index ...      36341  1005.67  "
      ]
     },
     "execution_count": 18,
     "metadata": {},
     "output_type": "execute_result"
    }
   ],
   "source": [
    "df_asset_1 = df[df[\"ASSETNAME\"] == tickers[0]]\n",
    "df_asset_1.head()"
   ]
  },
  {
   "cell_type": "code",
   "execution_count": 19,
   "metadata": {},
   "outputs": [
    {
     "data": {
      "text/html": [
       "<div>\n",
       "<style scoped>\n",
       "    .dataframe tbody tr th:only-of-type {\n",
       "        vertical-align: middle;\n",
       "    }\n",
       "\n",
       "    .dataframe tbody tr th {\n",
       "        vertical-align: top;\n",
       "    }\n",
       "\n",
       "    .dataframe thead th {\n",
       "        text-align: right;\n",
       "    }\n",
       "</style>\n",
       "<table border=\"1\" class=\"dataframe\">\n",
       "  <thead>\n",
       "    <tr style=\"text-align: right;\">\n",
       "      <th>ASSETNAME</th>\n",
       "      <th>VALUEDATE</th>\n",
       "      <th>Global Property USD Unhedged</th>\n",
       "    </tr>\n",
       "  </thead>\n",
       "  <tbody>\n",
       "    <tr>\n",
       "      <th>0</th>\n",
       "      <td>36219</td>\n",
       "      <td>889.64</td>\n",
       "    </tr>\n",
       "    <tr>\n",
       "      <th>1</th>\n",
       "      <td>36250</td>\n",
       "      <td>916.07</td>\n",
       "    </tr>\n",
       "    <tr>\n",
       "      <th>2</th>\n",
       "      <td>36280</td>\n",
       "      <td>1006.43</td>\n",
       "    </tr>\n",
       "    <tr>\n",
       "      <th>3</th>\n",
       "      <td>36311</td>\n",
       "      <td>983.72</td>\n",
       "    </tr>\n",
       "    <tr>\n",
       "      <th>4</th>\n",
       "      <td>36341</td>\n",
       "      <td>1005.67</td>\n",
       "    </tr>\n",
       "  </tbody>\n",
       "</table>\n",
       "</div>"
      ],
      "text/plain": [
       "ASSETNAME  VALUEDATE  Global Property USD Unhedged\n",
       "0              36219                        889.64\n",
       "1              36250                        916.07\n",
       "2              36280                       1006.43\n",
       "3              36311                        983.72\n",
       "4              36341                       1005.67"
      ]
     },
     "execution_count": 19,
     "metadata": {},
     "output_type": "execute_result"
    }
   ],
   "source": [
    "df_asset_1 = df_asset_1.pivot_table(index='VALUEDATE', columns='ASSETNAME', values='PRICE').reset_index()\n",
    "df_asset_1.head()"
   ]
  },
  {
   "cell_type": "code",
   "execution_count": 20,
   "metadata": {},
   "outputs": [],
   "source": [
    "df_asset_1.drop(columns =[\"VALUEDATE\"], inplace = True)"
   ]
  },
  {
   "cell_type": "code",
   "execution_count": 21,
   "metadata": {},
   "outputs": [
    {
     "data": {
      "text/html": [
       "<div>\n",
       "<style scoped>\n",
       "    .dataframe tbody tr th:only-of-type {\n",
       "        vertical-align: middle;\n",
       "    }\n",
       "\n",
       "    .dataframe tbody tr th {\n",
       "        vertical-align: top;\n",
       "    }\n",
       "\n",
       "    .dataframe thead th {\n",
       "        text-align: right;\n",
       "    }\n",
       "</style>\n",
       "<table border=\"1\" class=\"dataframe\">\n",
       "  <thead>\n",
       "    <tr style=\"text-align: right;\">\n",
       "      <th>ASSETNAME</th>\n",
       "      <th>Global Property USD Unhedged</th>\n",
       "    </tr>\n",
       "  </thead>\n",
       "  <tbody>\n",
       "    <tr>\n",
       "      <th>0</th>\n",
       "      <td>889.640000</td>\n",
       "    </tr>\n",
       "    <tr>\n",
       "      <th>1</th>\n",
       "      <td>916.070000</td>\n",
       "    </tr>\n",
       "    <tr>\n",
       "      <th>2</th>\n",
       "      <td>1006.430000</td>\n",
       "    </tr>\n",
       "    <tr>\n",
       "      <th>3</th>\n",
       "      <td>983.720000</td>\n",
       "    </tr>\n",
       "    <tr>\n",
       "      <th>4</th>\n",
       "      <td>1005.670000</td>\n",
       "    </tr>\n",
       "    <tr>\n",
       "      <th>...</th>\n",
       "      <td>...</td>\n",
       "    </tr>\n",
       "    <tr>\n",
       "      <th>2502</th>\n",
       "      <td>5124.047938</td>\n",
       "    </tr>\n",
       "    <tr>\n",
       "      <th>2503</th>\n",
       "      <td>5116.900747</td>\n",
       "    </tr>\n",
       "    <tr>\n",
       "      <th>2504</th>\n",
       "      <td>5063.070159</td>\n",
       "    </tr>\n",
       "    <tr>\n",
       "      <th>2505</th>\n",
       "      <td>5091.385814</td>\n",
       "    </tr>\n",
       "    <tr>\n",
       "      <th>2506</th>\n",
       "      <td>5167.731061</td>\n",
       "    </tr>\n",
       "  </tbody>\n",
       "</table>\n",
       "<p>2507 rows × 1 columns</p>\n",
       "</div>"
      ],
      "text/plain": [
       "ASSETNAME  Global Property USD Unhedged\n",
       "0                            889.640000\n",
       "1                            916.070000\n",
       "2                           1006.430000\n",
       "3                            983.720000\n",
       "4                           1005.670000\n",
       "...                                 ...\n",
       "2502                        5124.047938\n",
       "2503                        5116.900747\n",
       "2504                        5063.070159\n",
       "2505                        5091.385814\n",
       "2506                        5167.731061\n",
       "\n",
       "[2507 rows x 1 columns]"
      ]
     },
     "execution_count": 21,
     "metadata": {},
     "output_type": "execute_result"
    }
   ],
   "source": [
    "df_asset_1"
   ]
  },
  {
   "cell_type": "code",
   "execution_count": 22,
   "metadata": {},
   "outputs": [],
   "source": [
    "df_asset_1['Global Property USD Unhedged'] = df_asset_1['Global Property USD Unhedged'].div(df_asset_1['Global Property USD Unhedged'].iloc[0])"
   ]
  },
  {
   "cell_type": "code",
   "execution_count": 23,
   "metadata": {},
   "outputs": [
    {
     "data": {
      "text/html": [
       "<div>\n",
       "<style scoped>\n",
       "    .dataframe tbody tr th:only-of-type {\n",
       "        vertical-align: middle;\n",
       "    }\n",
       "\n",
       "    .dataframe tbody tr th {\n",
       "        vertical-align: top;\n",
       "    }\n",
       "\n",
       "    .dataframe thead th {\n",
       "        text-align: right;\n",
       "    }\n",
       "</style>\n",
       "<table border=\"1\" class=\"dataframe\">\n",
       "  <thead>\n",
       "    <tr style=\"text-align: right;\">\n",
       "      <th>ASSETNAME</th>\n",
       "      <th>Global Property USD Unhedged</th>\n",
       "    </tr>\n",
       "  </thead>\n",
       "  <tbody>\n",
       "    <tr>\n",
       "      <th>0</th>\n",
       "      <td>1.000000</td>\n",
       "    </tr>\n",
       "    <tr>\n",
       "      <th>1</th>\n",
       "      <td>1.029709</td>\n",
       "    </tr>\n",
       "    <tr>\n",
       "      <th>2</th>\n",
       "      <td>1.131278</td>\n",
       "    </tr>\n",
       "    <tr>\n",
       "      <th>3</th>\n",
       "      <td>1.105751</td>\n",
       "    </tr>\n",
       "    <tr>\n",
       "      <th>4</th>\n",
       "      <td>1.130424</td>\n",
       "    </tr>\n",
       "    <tr>\n",
       "      <th>...</th>\n",
       "      <td>...</td>\n",
       "    </tr>\n",
       "    <tr>\n",
       "      <th>2502</th>\n",
       "      <td>5.759687</td>\n",
       "    </tr>\n",
       "    <tr>\n",
       "      <th>2503</th>\n",
       "      <td>5.751653</td>\n",
       "    </tr>\n",
       "    <tr>\n",
       "      <th>2504</th>\n",
       "      <td>5.691145</td>\n",
       "    </tr>\n",
       "    <tr>\n",
       "      <th>2505</th>\n",
       "      <td>5.722973</td>\n",
       "    </tr>\n",
       "    <tr>\n",
       "      <th>2506</th>\n",
       "      <td>5.808789</td>\n",
       "    </tr>\n",
       "  </tbody>\n",
       "</table>\n",
       "<p>2507 rows × 1 columns</p>\n",
       "</div>"
      ],
      "text/plain": [
       "ASSETNAME  Global Property USD Unhedged\n",
       "0                              1.000000\n",
       "1                              1.029709\n",
       "2                              1.131278\n",
       "3                              1.105751\n",
       "4                              1.130424\n",
       "...                                 ...\n",
       "2502                           5.759687\n",
       "2503                           5.751653\n",
       "2504                           5.691145\n",
       "2505                           5.722973\n",
       "2506                           5.808789\n",
       "\n",
       "[2507 rows x 1 columns]"
      ]
     },
     "execution_count": 23,
     "metadata": {},
     "output_type": "execute_result"
    }
   ],
   "source": [
    "df_asset_1"
   ]
  },
  {
   "cell_type": "code",
   "execution_count": 24,
   "metadata": {},
   "outputs": [
    {
     "name": "stderr",
     "output_type": "stream",
     "text": [
      "No artists with labels found to put in legend.  Note that artists whose label start with an underscore are ignored when legend() is called with no argument.\n"
     ]
    },
    {
     "data": {
      "image/png": "[encoded data removed]",
      "text/plain": [
       "<Figure size 640x480 with 1 Axes>"
      ]
     },
     "metadata": {},
     "output_type": "display_data"
    }
   ],
   "source": [
    "simple_plot(df_asset_1['Global Property USD Unhedged'], \"Global Property USD Unhedged\")"
   ]
  },
  {
   "cell_type": "markdown",
   "metadata": {},
   "source": [
    "## Normalize Data"
   ]
  },
  {
   "cell_type": "markdown",
   "metadata": {},
   "source": [
    "We scale each series to the range [0, 1] using scikit-learn’s `MinMaxScaler` that we later use to rescale the synthetic data."
   ]
  },
  {
   "cell_type": "code",
   "execution_count": 25,
   "metadata": {
    "ExecuteTime": {
     "end_time": "2020-06-22T14:16:51.112479Z",
     "start_time": "2020-06-22T14:16:51.106154Z"
    }
   },
   "outputs": [],
   "source": [
    "scaler = MinMaxScaler()\n",
    "scaled_df_asset1 = scaler.fit_transform(df_asset_1).astype(np.float32)"
   ]
  },
  {
   "cell_type": "markdown",
   "metadata": {},
   "source": [
    "## Create rolling window sequences"
   ]
  },
  {
   "cell_type": "markdown",
   "metadata": {},
   "source": [
    "In the next step, we create rolling windows containing overlapping sequences of 24 consecutive data points for the six series:"
   ]
  },
  {
   "cell_type": "code",
   "execution_count": 26,
   "metadata": {
    "ExecuteTime": {
     "end_time": "2020-06-22T14:16:51.124689Z",
     "start_time": "2020-06-22T14:16:51.114092Z"
    }
   },
   "outputs": [],
   "source": [
    "data = []\n",
    "for i in range(len(df_asset_1) - seq_len):\n",
    "    data.append(scaled_df_asset1[i:i + seq_len])\n",
    "\n",
    "n_windows = len(data)"
   ]
  },
  {
   "cell_type": "markdown",
   "metadata": {},
   "source": [
    "## Create tf.data.Dataset"
   ]
  },
  {
   "cell_type": "code",
   "execution_count": 27,
   "metadata": {
    "ExecuteTime": {
     "end_time": "2020-06-22T14:16:51.460479Z",
     "start_time": "2020-06-22T14:16:51.127466Z"
    }
   },
   "outputs": [],
   "source": [
    "real_series = (tf.data.Dataset\n",
    "               .from_tensor_slices(data)\n",
    "               .shuffle(buffer_size=n_windows)\n",
    "               .batch(batch_size))\n",
    "real_series_iter = iter(real_series.repeat())"
   ]
  },
  {
   "cell_type": "code",
   "execution_count": 28,
   "metadata": {},
   "outputs": [
    {
     "name": "stdout",
     "output_type": "stream",
     "text": [
      "<_BatchDataset element_spec=TensorSpec(shape=(None, 24, 1), dtype=tf.float32, name=None)>\n"
     ]
    }
   ],
   "source": [
    "print(real_series)"
   ]
  },
  {
   "cell_type": "code",
   "execution_count": 29,
   "metadata": {},
   "outputs": [
    {
     "name": "stdout",
     "output_type": "stream",
     "text": [
      "<tensorflow.python.data.ops.iterator_ops.OwnedIterator object at 0x7f5fe4ec9c60>\n"
     ]
    }
   ],
   "source": [
    "print(real_series_iter)"
   ]
  },
  {
   "cell_type": "markdown",
   "metadata": {},
   "source": [
    "## Set up random series generator"
   ]
  },
  {
   "cell_type": "markdown",
   "metadata": {},
   "source": [
    "We also need a random time series generator that produces simulated data with 24 observations on the six series as long as the training continues.\n",
    "\n",
    "To this end, we create a generator that draws the requisite data uniform at random and feed the result into a second `tf.data.Dataset`. We set this `Dataset` to produce batches of the desired size and to repeat the process as long as necessary:"
   ]
  },
  {
   "cell_type": "code",
   "execution_count": 30,
   "metadata": {
    "ExecuteTime": {
     "end_time": "2020-06-22T14:16:51.465137Z",
     "start_time": "2020-06-22T14:16:51.462655Z"
    }
   },
   "outputs": [],
   "source": [
    "def make_random_data():\n",
    "    while True:\n",
    "        yield np.random.uniform(low=0, high=1, size=(seq_len, n_seq))"
   ]
  },
  {
   "cell_type": "markdown",
   "metadata": {},
   "source": [
    "We use the Python generator to feed a `tf.data.Dataset` that continues to call the random number generator as long as necessary and produces the desired batch size."
   ]
  },
  {
   "cell_type": "code",
   "execution_count": 31,
   "metadata": {
    "ExecuteTime": {
     "end_time": "2020-06-22T14:16:51.501020Z",
     "start_time": "2020-06-22T14:16:51.466315Z"
    }
   },
   "outputs": [],
   "source": [
    "random_series = iter(tf.data.Dataset\n",
    "                     .from_generator(make_random_data, output_types=tf.float32)\n",
    "                     .batch(batch_size)\n",
    "                     .repeat())"
   ]
  },
  {
   "cell_type": "markdown",
   "metadata": {},
   "source": [
    "# TimeGAN Setup"
   ]
  },
  {
   "cell_type": "markdown",
   "metadata": {},
   "source": [
    "We’ll now create the two autoencoder components and the two adversarial network elements, as well as the supervisor that encourages the generator to learn the temporal dynamic of the historical price series."
   ]
  },
  {
   "cell_type": "markdown",
   "metadata": {},
   "source": [
    "##  Network Parameters"
   ]
  },
  {
   "cell_type": "markdown",
   "metadata": {},
   "source": [
    "We follow the authors’ sample code in creating RNNs with three hidden layers with 24 GRU units each, except for the supervisor that only uses two hidden layers."
   ]
  },
  {
   "cell_type": "code",
   "execution_count": 32,
   "metadata": {
    "ExecuteTime": {
     "end_time": "2020-06-22T14:16:51.504888Z",
     "start_time": "2020-06-22T14:16:51.502406Z"
    }
   },
   "outputs": [],
   "source": [
    "hidden_dim = 24\n",
    "num_layers = 3"
   ]
  },
  {
   "cell_type": "markdown",
   "metadata": {
    "ExecuteTime": {
     "end_time": "2020-06-11T21:00:46.029497Z",
     "start_time": "2020-06-11T21:00:46.027650Z"
    }
   },
   "source": [
    "## Set up logger"
   ]
  },
  {
   "cell_type": "code",
   "execution_count": 33,
   "metadata": {
    "ExecuteTime": {
     "end_time": "2020-06-22T14:16:51.514147Z",
     "start_time": "2020-06-22T14:16:51.506392Z"
    }
   },
   "outputs": [],
   "source": [
    "writer = tf.summary.create_file_writer(log_dir.as_posix())"
   ]
  },
  {
   "cell_type": "markdown",
   "metadata": {
    "ExecuteTime": {
     "end_time": "2020-06-11T21:01:03.536533Z",
     "start_time": "2020-06-11T21:01:03.534324Z"
    }
   },
   "source": [
    "## Input place holders"
   ]
  },
  {
   "cell_type": "code",
   "execution_count": 34,
   "metadata": {
    "ExecuteTime": {
     "end_time": "2020-06-22T14:16:51.539209Z",
     "start_time": "2020-06-22T14:16:51.515706Z"
    }
   },
   "outputs": [],
   "source": [
    "X = Input(shape=[seq_len, n_seq], name='RealData')\n",
    "Z = Input(shape=[seq_len, n_seq], name='RandomData')"
   ]
  },
  {
   "cell_type": "markdown",
   "metadata": {},
   "source": [
    "## RNN block generator"
   ]
  },
  {
   "cell_type": "markdown",
   "metadata": {},
   "source": [
    "We keep it simple and use a very similar architecture for all four components. For a real-world application, they should be tailored to the data."
   ]
  },
  {
   "cell_type": "markdown",
   "metadata": {},
   "source": [
    "The following `make_rnn` function automates the network creation:"
   ]
  },
  {
   "cell_type": "code",
   "execution_count": 35,
   "metadata": {
    "ExecuteTime": {
     "end_time": "2020-06-22T14:16:51.547728Z",
     "start_time": "2020-06-22T14:16:51.542460Z"
    }
   },
   "outputs": [],
   "source": [
    "def make_rnn(n_layers, hidden_units, output_units, name):\n",
    "    return Sequential([GRU(units=hidden_units,\n",
    "                           return_sequences=True,\n",
    "                           name=f'GRU_{i + 1}') for i in range(n_layers)] +\n",
    "                      [Dense(units=output_units,\n",
    "                             activation='sigmoid',\n",
    "                             name='OUT')], name=name)"
   ]
  },
  {
   "cell_type": "markdown",
   "metadata": {},
   "source": [
    "## Embedder & Recovery"
   ]
  },
  {
   "cell_type": "markdown",
   "metadata": {},
   "source": [
    "The autoencoder consists of the embedder and the recovery networks that we instantiate here:"
   ]
  },
  {
   "cell_type": "code",
   "execution_count": 36,
   "metadata": {
    "ExecuteTime": {
     "end_time": "2020-06-22T14:16:51.594039Z",
     "start_time": "2020-06-22T14:16:51.549914Z"
    }
   },
   "outputs": [],
   "source": [
    "embedder = make_rnn(n_layers=3, \n",
    "                    hidden_units=hidden_dim, \n",
    "                    output_units=hidden_dim, \n",
    "                    name='Embedder')\n",
    "recovery = make_rnn(n_layers=3, \n",
    "                    hidden_units=hidden_dim, \n",
    "                    output_units=n_seq, \n",
    "                    name='Recovery')"
   ]
  },
  {
   "cell_type": "markdown",
   "metadata": {
    "ExecuteTime": {
     "end_time": "2020-06-11T21:02:03.263130Z",
     "start_time": "2020-06-11T21:02:03.260572Z"
    }
   },
   "source": [
    "## Generator & Discriminator"
   ]
  },
  {
   "cell_type": "markdown",
   "metadata": {
    "ExecuteTime": {
     "end_time": "2020-11-18T15:45:29.621203Z",
     "start_time": "2020-11-18T15:45:29.618574Z"
    }
   },
   "source": [
    "We then create the generator, the discriminator, and the supervisor like so:"
   ]
  },
  {
   "cell_type": "code",
   "execution_count": 37,
   "metadata": {
    "ExecuteTime": {
     "end_time": "2020-06-22T14:16:51.646017Z",
     "start_time": "2020-06-22T14:16:51.595598Z"
    }
   },
   "outputs": [],
   "source": [
    "generator = make_rnn(n_layers=3, \n",
    "                     hidden_units=hidden_dim, \n",
    "                     output_units=hidden_dim, \n",
    "                     name='Generator')\n",
    "discriminator = make_rnn(n_layers=3, \n",
    "                         hidden_units=hidden_dim, \n",
    "                         output_units=1, \n",
    "                         name='Discriminator')\n",
    "supervisor = make_rnn(n_layers=2, \n",
    "                      hidden_units=hidden_dim, \n",
    "                      output_units=hidden_dim, \n",
    "                      name='Supervisor')"
   ]
  },
  {
   "cell_type": "markdown",
   "metadata": {},
   "source": [
    "# TimeGAN Training"
   ]
  },
  {
   "cell_type": "markdown",
   "metadata": {},
   "source": [
    "## Settings"
   ]
  },
  {
   "cell_type": "code",
   "execution_count": 38,
   "metadata": {
    "ExecuteTime": {
     "end_time": "2020-06-22T14:16:51.654925Z",
     "start_time": "2020-06-22T14:16:51.647411Z"
    }
   },
   "outputs": [],
   "source": [
    "train_steps = 10000\n",
    "gamma = 1"
   ]
  },
  {
   "cell_type": "markdown",
   "metadata": {},
   "source": [
    "## Generic Loss Functions"
   ]
  },
  {
   "cell_type": "markdown",
   "metadata": {},
   "source": [
    "We also define two generic loss functions, namely `MeanSquaredError` and `BinaryCrossEntropy` that we will use later to create the various specific loss functions during the three phases:"
   ]
  },
  {
   "cell_type": "code",
   "execution_count": 39,
   "metadata": {
    "ExecuteTime": {
     "end_time": "2020-06-22T14:16:51.668710Z",
     "start_time": "2020-06-22T14:16:51.656698Z"
    }
   },
   "outputs": [],
   "source": [
    "mse = MeanSquaredError()\n",
    "bce = BinaryCrossentropy()"
   ]
  },
  {
   "cell_type": "markdown",
   "metadata": {},
   "source": [
    "# Phase 1: Autoencoder Training"
   ]
  },
  {
   "cell_type": "markdown",
   "metadata": {},
   "source": [
    "## Architecture"
   ]
  },
  {
   "cell_type": "markdown",
   "metadata": {},
   "source": [
    "The autoencoder integrates the embedder and the recovery functions:"
   ]
  },
  {
   "cell_type": "code",
   "execution_count": 40,
   "metadata": {
    "ExecuteTime": {
     "end_time": "2020-06-22T14:16:53.289403Z",
     "start_time": "2020-06-22T14:16:51.670765Z"
    }
   },
   "outputs": [],
   "source": [
    "H = embedder(X)\n",
    "X_tilde = recovery(H)\n",
    "\n",
    "autoencoder = Model(inputs=X,\n",
    "                    outputs=X_tilde,\n",
    "                    name='Autoencoder')"
   ]
  },
  {
   "cell_type": "code",
   "execution_count": 41,
   "metadata": {
    "ExecuteTime": {
     "end_time": "2020-06-22T14:16:53.294438Z",
     "start_time": "2020-06-22T14:16:53.290299Z"
    }
   },
   "outputs": [
    {
     "name": "stdout",
     "output_type": "stream",
     "text": [
      "Model: \"Autoencoder\"\n",
      "_________________________________________________________________\n",
      " Layer (type)                Output Shape              Param #   \n",
      "=================================================================\n",
      " RealData (InputLayer)       [(None, 24, 1)]           0         \n",
      "                                                                 \n",
      " Embedder (Sequential)       (None, 24, 24)            9744      \n",
      "                                                                 \n",
      " Recovery (Sequential)       (None, 24, 1)             10825     \n",
      "                                                                 \n",
      "=================================================================\n",
      "Total params: 20569 (80.35 KB)\n",
      "Trainable params: 20569 (80.35 KB)\n",
      "Non-trainable params: 0 (0.00 Byte)\n",
      "_________________________________________________________________\n"
     ]
    }
   ],
   "source": [
    "autoencoder.summary()"
   ]
  },
  {
   "cell_type": "markdown",
   "metadata": {},
   "source": [
    "We next instantiate the optimizer for this training phase and define the training step. It follows the pattern introduced with the DCGAN example, using tf.GradientTape to record the operations that generate the reconstruction loss. This allows us to rely on the automatic differentiation engine to obtain the gradients with respect to the trainable embedder and recovery network weights that drive backpropagation:"
   ]
  },
  {
   "cell_type": "markdown",
   "metadata": {},
   "source": [
    "## Autoencoder Optimizer"
   ]
  },
  {
   "cell_type": "code",
   "execution_count": 42,
   "metadata": {
    "ExecuteTime": {
     "end_time": "2020-06-22T14:16:53.447696Z",
     "start_time": "2020-06-22T14:16:53.444030Z"
    }
   },
   "outputs": [],
   "source": [
    "autoencoder_optimizer = Adam()"
   ]
  },
  {
   "cell_type": "markdown",
   "metadata": {},
   "source": [
    "## Autoencoder Training Step"
   ]
  },
  {
   "cell_type": "code",
   "execution_count": 43,
   "metadata": {
    "ExecuteTime": {
     "end_time": "2020-06-22T14:16:53.459708Z",
     "start_time": "2020-06-22T14:16:53.450198Z"
    }
   },
   "outputs": [],
   "source": [
    "@tf.function\n",
    "def train_autoencoder_init(x):\n",
    "    with tf.GradientTape() as tape:\n",
    "        x_tilde = autoencoder(x)\n",
    "        embedding_loss_t0 = mse(x, x_tilde)\n",
    "        e_loss_0 = 10 * tf.sqrt(embedding_loss_t0)\n",
    "\n",
    "    var_list = embedder.trainable_variables + recovery.trainable_variables\n",
    "    gradients = tape.gradient(e_loss_0, var_list)\n",
    "    autoencoder_optimizer.apply_gradients(zip(gradients, var_list))\n",
    "    return tf.sqrt(embedding_loss_t0)"
   ]
  },
  {
   "cell_type": "markdown",
   "metadata": {},
   "source": [
    "## Autoencoder Training Loop"
   ]
  },
  {
   "cell_type": "markdown",
   "metadata": {},
   "source": [
    "The reconstruction loss simply compares the autoencoder outputs with its inputs. We train for 10,000 steps in a little over one minute using this training loop that records the step loss for monitoring with TensorBoard:"
   ]
  },
  {
   "cell_type": "code",
   "execution_count": 44,
   "metadata": {
    "ExecuteTime": {
     "end_time": "2020-06-22T14:18:21.132545Z",
     "start_time": "2020-06-22T14:16:53.461372Z"
    }
   },
   "outputs": [
    {
     "name": "stderr",
     "output_type": "stream",
     "text": [
      "100%|██████████| 10000/10000 [10:40<00:00, 15.61it/s]\n"
     ]
    }
   ],
   "source": [
    "for step in tqdm(range(train_steps)):\n",
    "    X_ = next(real_series_iter)\n",
    "    step_e_loss_t0 = train_autoencoder_init(X_)\n",
    "    with writer.as_default():\n",
    "        tf.summary.scalar('Loss Autoencoder Init', step_e_loss_t0, step=step)"
   ]
  },
  {
   "cell_type": "markdown",
   "metadata": {},
   "source": [
    "## Persist model"
   ]
  },
  {
   "cell_type": "code",
   "execution_count": 45,
   "metadata": {
    "ExecuteTime": {
     "end_time": "2020-06-22T14:18:21.135850Z",
     "start_time": "2020-06-22T14:18:21.133941Z"
    }
   },
   "outputs": [
    {
     "name": "stdout",
     "output_type": "stream",
     "text": [
      "WARNING:tensorflow:Compiled the loaded model, but the compiled metrics have yet to be built. `model.compile_metrics` will be empty until you train or evaluate the model.\n",
      "INFO:tensorflow:Assets written to: time_gan/experiment_00/autoencoder/assets\n"
     ]
    },
    {
     "name": "stderr",
     "output_type": "stream",
     "text": [
      "INFO:tensorflow:Assets written to: time_gan/experiment_00/autoencoder/assets\n"
     ]
    }
   ],
   "source": [
    "autoencoder.save(log_dir / 'autoencoder')"
   ]
  },
  {
   "cell_type": "markdown",
   "metadata": {},
   "source": [
    "# Phase 2: Supervised training"
   ]
  },
  {
   "cell_type": "markdown",
   "metadata": {},
   "source": [
    "We already created the supervisor model so we just need to instantiate the optimizer and define the train step as follows:"
   ]
  },
  {
   "cell_type": "markdown",
   "metadata": {},
   "source": [
    "## Define Optimizer"
   ]
  },
  {
   "cell_type": "code",
   "execution_count": 46,
   "metadata": {
    "ExecuteTime": {
     "end_time": "2020-06-22T14:18:21.150618Z",
     "start_time": "2020-06-22T14:18:21.137038Z"
    }
   },
   "outputs": [],
   "source": [
    "supervisor_optimizer = Adam()"
   ]
  },
  {
   "cell_type": "markdown",
   "metadata": {},
   "source": [
    "## Train Step"
   ]
  },
  {
   "cell_type": "code",
   "execution_count": 47,
   "metadata": {
    "ExecuteTime": {
     "end_time": "2020-06-22T14:18:21.159749Z",
     "start_time": "2020-06-22T14:18:21.152011Z"
    }
   },
   "outputs": [],
   "source": [
    "@tf.function\n",
    "def train_supervisor(x):\n",
    "    with tf.GradientTape() as tape:\n",
    "        h = embedder(x)\n",
    "        h_hat_supervised = supervisor(h)\n",
    "        g_loss_s = mse(h[:, 1:, :], h_hat_supervised[:, 1:, :])\n",
    "\n",
    "    var_list = supervisor.trainable_variables\n",
    "    gradients = tape.gradient(g_loss_s, var_list)\n",
    "    supervisor_optimizer.apply_gradients(zip(gradients, var_list))\n",
    "    return g_loss_s"
   ]
  },
  {
   "cell_type": "markdown",
   "metadata": {},
   "source": [
    "In this case, the loss compares the output of the supervisor with the next timestep for the embedded sequence so that it learns the temporal dynamics of the historical price sequences; the training loop works similarly to the autoencoder example."
   ]
  },
  {
   "cell_type": "markdown",
   "metadata": {},
   "source": [
    "## Training Loop"
   ]
  },
  {
   "cell_type": "code",
   "execution_count": 48,
   "metadata": {
    "ExecuteTime": {
     "end_time": "2020-06-22T14:21:43.864154Z",
     "start_time": "2020-06-22T14:18:21.161919Z"
    }
   },
   "outputs": [
    {
     "name": "stderr",
     "output_type": "stream",
     "text": [
      "100%|██████████| 10000/10000 [06:52<00:00, 24.26it/s]\n"
     ]
    }
   ],
   "source": [
    "for step in tqdm(range(train_steps)):\n",
    "    X_ = next(real_series_iter)\n",
    "    step_g_loss_s = train_supervisor(X_)\n",
    "    with writer.as_default():\n",
    "        tf.summary.scalar('Loss Generator Supervised Init', step_g_loss_s, step=step)"
   ]
  },
  {
   "cell_type": "markdown",
   "metadata": {},
   "source": [
    "## Persist Model"
   ]
  },
  {
   "cell_type": "code",
   "execution_count": 49,
   "metadata": {
    "ExecuteTime": {
     "end_time": "2020-06-22T14:21:43.866414Z",
     "start_time": "2020-06-22T14:21:43.865006Z"
    }
   },
   "outputs": [
    {
     "name": "stdout",
     "output_type": "stream",
     "text": [
      "WARNING:tensorflow:Compiled the loaded model, but the compiled metrics have yet to be built. `model.compile_metrics` will be empty until you train or evaluate the model.\n"
     ]
    },
    {
     "name": "stderr",
     "output_type": "stream",
     "text": [
      "WARNING:tensorflow:Compiled the loaded model, but the compiled metrics have yet to be built. `model.compile_metrics` will be empty until you train or evaluate the model.\n"
     ]
    },
    {
     "name": "stdout",
     "output_type": "stream",
     "text": [
      "INFO:tensorflow:Assets written to: time_gan/experiment_00/supervisor/assets\n"
     ]
    },
    {
     "name": "stderr",
     "output_type": "stream",
     "text": [
      "INFO:tensorflow:Assets written to: time_gan/experiment_00/supervisor/assets\n"
     ]
    }
   ],
   "source": [
    "supervisor.save(log_dir / 'supervisor')"
   ]
  },
  {
   "cell_type": "markdown",
   "metadata": {},
   "source": [
    "# Joint Training"
   ]
  },
  {
   "cell_type": "markdown",
   "metadata": {},
   "source": [
    "The joint training involves all four network components as well as the supervisor. It uses multiple loss functions and combinations of the base components to achieve the simultaneous learning of latent space embeddings, transition dynamics, and synthetic data generation. "
   ]
  },
  {
   "cell_type": "markdown",
   "metadata": {},
   "source": [
    "## Generator"
   ]
  },
  {
   "cell_type": "markdown",
   "metadata": {},
   "source": [
    "### Adversarial Architecture - Supervised"
   ]
  },
  {
   "cell_type": "code",
   "execution_count": 50,
   "metadata": {
    "ExecuteTime": {
     "end_time": "2020-06-22T14:21:44.759375Z",
     "start_time": "2020-06-22T14:21:43.867138Z"
    }
   },
   "outputs": [],
   "source": [
    "E_hat = generator(Z)\n",
    "H_hat = supervisor(E_hat)\n",
    "Y_fake = discriminator(H_hat)\n",
    "\n",
    "adversarial_supervised = Model(inputs=Z,\n",
    "                               outputs=Y_fake,\n",
    "                               name='AdversarialNetSupervised')"
   ]
  },
  {
   "cell_type": "code",
   "execution_count": 51,
   "metadata": {
    "ExecuteTime": {
     "end_time": "2020-06-22T14:21:44.765189Z",
     "start_time": "2020-06-22T14:21:44.760237Z"
    }
   },
   "outputs": [
    {
     "name": "stdout",
     "output_type": "stream",
     "text": [
      "Model: \"AdversarialNetSupervised\"\n",
      "_________________________________________________________________\n",
      " Layer (type)                Output Shape              Param #   \n",
      "=================================================================\n",
      " RandomData (InputLayer)     [(None, 24, 1)]           0         \n",
      "                                                                 \n",
      " Generator (Sequential)      (None, 24, 24)            9744      \n",
      "                                                                 \n",
      " Supervisor (Sequential)     (None, 24, 24)            7800      \n",
      "                                                                 \n",
      " Discriminator (Sequential)  (None, 24, 1)             10825     \n",
      "                                                                 \n",
      "=================================================================\n",
      "Total params: 28369 (110.82 KB)\n",
      "Trainable params: 28369 (110.82 KB)\n",
      "Non-trainable params: 0 (0.00 Byte)\n",
      "_________________________________________________________________\n"
     ]
    }
   ],
   "source": [
    "adversarial_supervised.summary()"
   ]
  },
  {
   "cell_type": "code",
   "execution_count": 52,
   "metadata": {
    "ExecuteTime": {
     "end_time": "2020-06-22T14:21:44.891013Z",
     "start_time": "2020-06-22T14:21:44.766236Z"
    }
   },
   "outputs": [
    {
     "name": "stdout",
     "output_type": "stream",
     "text": [
      "You must install pydot (`pip install pydot`) and install graphviz (see instructions at https://graphviz.gitlab.io/download/) for plot_model to work.\n"
     ]
    }
   ],
   "source": [
    "plot_model(adversarial_supervised, show_shapes=True)"
   ]
  },
  {
   "cell_type": "markdown",
   "metadata": {},
   "source": [
    "### Adversarial Architecture in Latent Space"
   ]
  },
  {
   "cell_type": "code",
   "execution_count": 53,
   "metadata": {
    "ExecuteTime": {
     "end_time": "2020-06-22T14:21:45.207968Z",
     "start_time": "2020-06-22T14:21:44.892152Z"
    }
   },
   "outputs": [],
   "source": [
    "Y_fake_e = discriminator(E_hat)\n",
    "\n",
    "adversarial_emb = Model(inputs=Z,\n",
    "                    outputs=Y_fake_e,\n",
    "                    name='AdversarialNet')"
   ]
  },
  {
   "cell_type": "code",
   "execution_count": 54,
   "metadata": {
    "ExecuteTime": {
     "end_time": "2020-06-22T14:21:45.213528Z",
     "start_time": "2020-06-22T14:21:45.208923Z"
    }
   },
   "outputs": [
    {
     "name": "stdout",
     "output_type": "stream",
     "text": [
      "Model: \"AdversarialNet\"\n",
      "_________________________________________________________________\n",
      " Layer (type)                Output Shape              Param #   \n",
      "=================================================================\n",
      " RandomData (InputLayer)     [(None, 24, 1)]           0         \n",
      "                                                                 \n",
      " Generator (Sequential)      (None, 24, 24)            9744      \n",
      "                                                                 \n",
      " Discriminator (Sequential)  (None, 24, 1)             10825     \n",
      "                                                                 \n",
      "=================================================================\n",
      "Total params: 20569 (80.35 KB)\n",
      "Trainable params: 20569 (80.35 KB)\n",
      "Non-trainable params: 0 (0.00 Byte)\n",
      "_________________________________________________________________\n"
     ]
    }
   ],
   "source": [
    "adversarial_emb.summary()"
   ]
  },
  {
   "cell_type": "code",
   "execution_count": 55,
   "metadata": {
    "ExecuteTime": {
     "end_time": "2020-06-22T14:21:45.339928Z",
     "start_time": "2020-06-22T14:21:45.214560Z"
    }
   },
   "outputs": [
    {
     "name": "stdout",
     "output_type": "stream",
     "text": [
      "You must install pydot (`pip install pydot`) and install graphviz (see instructions at https://graphviz.gitlab.io/download/) for plot_model to work.\n"
     ]
    }
   ],
   "source": [
    "plot_model(adversarial_emb, show_shapes=True)"
   ]
  },
  {
   "cell_type": "markdown",
   "metadata": {},
   "source": [
    "### Mean & Variance Loss"
   ]
  },
  {
   "cell_type": "markdown",
   "metadata": {},
   "source": [
    "To ensure that the generator faithfully reproduces the time series, TimeGAN includes a moment loss that penalizes when mean and variance of the synthetic data deviate from the real version:"
   ]
  },
  {
   "cell_type": "code",
   "execution_count": 56,
   "metadata": {
    "ExecuteTime": {
     "end_time": "2020-06-22T14:21:45.675612Z",
     "start_time": "2020-06-22T14:21:45.341343Z"
    }
   },
   "outputs": [],
   "source": [
    "X_hat = recovery(H_hat)\n",
    "synthetic_data = Model(inputs=Z,\n",
    "                       outputs=X_hat,\n",
    "                       name='SyntheticData')"
   ]
  },
  {
   "cell_type": "markdown",
   "metadata": {},
   "source": [
    "The end-to-end model that produces synthetic data involves the generator, supervisor, and recovery component. It is defined as follows and has close to 30,000 trainable paramters:"
   ]
  },
  {
   "cell_type": "code",
   "execution_count": 57,
   "metadata": {
    "ExecuteTime": {
     "end_time": "2020-06-22T14:21:45.682769Z",
     "start_time": "2020-06-22T14:21:45.676682Z"
    }
   },
   "outputs": [
    {
     "name": "stdout",
     "output_type": "stream",
     "text": [
      "Model: \"SyntheticData\"\n",
      "_________________________________________________________________\n",
      " Layer (type)                Output Shape              Param #   \n",
      "=================================================================\n",
      " RandomData (InputLayer)     [(None, 24, 1)]           0         \n",
      "                                                                 \n",
      " Generator (Sequential)      (None, 24, 24)            9744      \n",
      "                                                                 \n",
      " Supervisor (Sequential)     (None, 24, 24)            7800      \n",
      "                                                                 \n",
      " Recovery (Sequential)       (None, 24, 1)             10825     \n",
      "                                                                 \n",
      "=================================================================\n",
      "Total params: 28369 (110.82 KB)\n",
      "Trainable params: 28369 (110.82 KB)\n",
      "Non-trainable params: 0 (0.00 Byte)\n",
      "_________________________________________________________________\n"
     ]
    }
   ],
   "source": [
    "synthetic_data.summary()"
   ]
  },
  {
   "cell_type": "code",
   "execution_count": 58,
   "metadata": {
    "ExecuteTime": {
     "end_time": "2020-06-22T14:21:45.808849Z",
     "start_time": "2020-06-22T14:21:45.683931Z"
    }
   },
   "outputs": [
    {
     "name": "stdout",
     "output_type": "stream",
     "text": [
      "You must install pydot (`pip install pydot`) and install graphviz (see instructions at https://graphviz.gitlab.io/download/) for plot_model to work.\n"
     ]
    }
   ],
   "source": [
    "plot_model(synthetic_data, show_shapes=True)"
   ]
  },
  {
   "cell_type": "code",
   "execution_count": 59,
   "metadata": {
    "ExecuteTime": {
     "end_time": "2020-06-22T14:21:45.813915Z",
     "start_time": "2020-06-22T14:21:45.810248Z"
    }
   },
   "outputs": [],
   "source": [
    "def get_generator_moment_loss(y_true, y_pred):\n",
    "    y_true_mean, y_true_var = tf.nn.moments(x=y_true, axes=[0])\n",
    "    y_pred_mean, y_pred_var = tf.nn.moments(x=y_pred, axes=[0])\n",
    "    g_loss_mean = tf.reduce_mean(tf.abs(y_true_mean - y_pred_mean))\n",
    "    g_loss_var = tf.reduce_mean(tf.abs(tf.sqrt(y_true_var + 1e-6) - tf.sqrt(y_pred_var + 1e-6)))\n",
    "    return g_loss_mean + g_loss_var"
   ]
  },
  {
   "cell_type": "markdown",
   "metadata": {},
   "source": [
    "## Discriminator"
   ]
  },
  {
   "cell_type": "markdown",
   "metadata": {},
   "source": [
    "### Architecture: Real Data"
   ]
  },
  {
   "cell_type": "code",
   "execution_count": 60,
   "metadata": {
    "ExecuteTime": {
     "end_time": "2020-06-22T14:21:46.138938Z",
     "start_time": "2020-06-22T14:21:45.815300Z"
    }
   },
   "outputs": [],
   "source": [
    "Y_real = discriminator(H)\n",
    "discriminator_model = Model(inputs=X,\n",
    "                            outputs=Y_real,\n",
    "                            name='DiscriminatorReal')"
   ]
  },
  {
   "cell_type": "code",
   "execution_count": 61,
   "metadata": {
    "ExecuteTime": {
     "end_time": "2020-06-22T14:21:46.145727Z",
     "start_time": "2020-06-22T14:21:46.141825Z"
    }
   },
   "outputs": [
    {
     "name": "stdout",
     "output_type": "stream",
     "text": [
      "Model: \"DiscriminatorReal\"\n",
      "_________________________________________________________________\n",
      " Layer (type)                Output Shape              Param #   \n",
      "=================================================================\n",
      " RealData (InputLayer)       [(None, 24, 1)]           0         \n",
      "                                                                 \n",
      " Embedder (Sequential)       (None, 24, 24)            9744      \n",
      "                                                                 \n",
      " Discriminator (Sequential)  (None, 24, 1)             10825     \n",
      "                                                                 \n",
      "=================================================================\n",
      "Total params: 20569 (80.35 KB)\n",
      "Trainable params: 20569 (80.35 KB)\n",
      "Non-trainable params: 0 (0.00 Byte)\n",
      "_________________________________________________________________\n"
     ]
    }
   ],
   "source": [
    "discriminator_model.summary()"
   ]
  },
  {
   "cell_type": "code",
   "execution_count": 62,
   "metadata": {
    "ExecuteTime": {
     "end_time": "2020-06-22T14:21:46.271876Z",
     "start_time": "2020-06-22T14:21:46.146811Z"
    }
   },
   "outputs": [
    {
     "name": "stdout",
     "output_type": "stream",
     "text": [
      "You must install pydot (`pip install pydot`) and install graphviz (see instructions at https://graphviz.gitlab.io/download/) for plot_model to work.\n"
     ]
    }
   ],
   "source": [
    "plot_model(discriminator_model, show_shapes=True)"
   ]
  },
  {
   "cell_type": "markdown",
   "metadata": {},
   "source": [
    "## Optimizers"
   ]
  },
  {
   "cell_type": "markdown",
   "metadata": {},
   "source": [
    "The joint training involves three optimizers for the autoencoder, the generator and the discriminator:"
   ]
  },
  {
   "cell_type": "code",
   "execution_count": 63,
   "metadata": {
    "ExecuteTime": {
     "end_time": "2020-06-22T14:21:46.275281Z",
     "start_time": "2020-06-22T14:21:46.273098Z"
    }
   },
   "outputs": [],
   "source": [
    "generator_optimizer = Adam()\n",
    "discriminator_optimizer = Adam()\n",
    "embedding_optimizer = Adam()"
   ]
  },
  {
   "cell_type": "markdown",
   "metadata": {},
   "source": [
    "## Generator Train Step"
   ]
  },
  {
   "cell_type": "markdown",
   "metadata": {},
   "source": [
    "The train step for the generator illustrates the use of four loss functions and corresponding combinations of network components to achieve the desired learning outlined at the beginning of this section:"
   ]
  },
  {
   "cell_type": "code",
   "execution_count": 64,
   "metadata": {
    "ExecuteTime": {
     "end_time": "2020-06-22T14:21:46.284057Z",
     "start_time": "2020-06-22T14:21:46.276232Z"
    }
   },
   "outputs": [],
   "source": [
    "@tf.function\n",
    "def train_generator(x, z):\n",
    "    with tf.GradientTape() as tape:\n",
    "        y_fake = adversarial_supervised(z)\n",
    "        generator_loss_unsupervised = bce(y_true=tf.ones_like(y_fake),\n",
    "                                          y_pred=y_fake)\n",
    "\n",
    "        y_fake_e = adversarial_emb(z)\n",
    "        generator_loss_unsupervised_e = bce(y_true=tf.ones_like(y_fake_e),\n",
    "                                            y_pred=y_fake_e)\n",
    "        h = embedder(x)\n",
    "        h_hat_supervised = supervisor(h)\n",
    "        generator_loss_supervised = mse(h[:, 1:, :], h_hat_supervised[:, 1:, :])\n",
    "\n",
    "        x_hat = synthetic_data(z)\n",
    "        generator_moment_loss = get_generator_moment_loss(x, x_hat)\n",
    "\n",
    "        generator_loss = (generator_loss_unsupervised +\n",
    "                          generator_loss_unsupervised_e +\n",
    "                          100 * tf.sqrt(generator_loss_supervised) +\n",
    "                          100 * generator_moment_loss)\n",
    "\n",
    "    var_list = generator.trainable_variables + supervisor.trainable_variables\n",
    "    gradients = tape.gradient(generator_loss, var_list)\n",
    "    generator_optimizer.apply_gradients(zip(gradients, var_list))\n",
    "    return generator_loss_unsupervised, generator_loss_supervised, generator_moment_loss"
   ]
  },
  {
   "cell_type": "markdown",
   "metadata": {},
   "source": [
    "## Embedding Train Step"
   ]
  },
  {
   "cell_type": "code",
   "execution_count": 65,
   "metadata": {
    "ExecuteTime": {
     "end_time": "2020-06-22T14:21:46.295232Z",
     "start_time": "2020-06-22T14:21:46.284920Z"
    }
   },
   "outputs": [],
   "source": [
    "@tf.function\n",
    "def train_embedder(x):\n",
    "    with tf.GradientTape() as tape:\n",
    "        h = embedder(x)\n",
    "        h_hat_supervised = supervisor(h)\n",
    "        generator_loss_supervised = mse(h[:, 1:, :], h_hat_supervised[:, 1:, :])\n",
    "\n",
    "        x_tilde = autoencoder(x)\n",
    "        embedding_loss_t0 = mse(x, x_tilde)\n",
    "        e_loss = 10 * tf.sqrt(embedding_loss_t0) + 0.1 * generator_loss_supervised\n",
    "\n",
    "    var_list = embedder.trainable_variables + recovery.trainable_variables\n",
    "    gradients = tape.gradient(e_loss, var_list)\n",
    "    embedding_optimizer.apply_gradients(zip(gradients, var_list))\n",
    "    return tf.sqrt(embedding_loss_t0)"
   ]
  },
  {
   "cell_type": "markdown",
   "metadata": {},
   "source": [
    "## Discriminator Train Step"
   ]
  },
  {
   "cell_type": "code",
   "execution_count": 66,
   "metadata": {
    "ExecuteTime": {
     "end_time": "2020-06-22T14:21:46.303397Z",
     "start_time": "2020-06-22T14:21:46.296151Z"
    }
   },
   "outputs": [],
   "source": [
    "@tf.function\n",
    "def get_discriminator_loss(x, z):\n",
    "    y_real = discriminator_model(x)\n",
    "    discriminator_loss_real = bce(y_true=tf.ones_like(y_real),\n",
    "                                  y_pred=y_real)\n",
    "\n",
    "    y_fake = adversarial_supervised(z)\n",
    "    discriminator_loss_fake = bce(y_true=tf.zeros_like(y_fake),\n",
    "                                  y_pred=y_fake)\n",
    "\n",
    "    y_fake_e = adversarial_emb(z)\n",
    "    discriminator_loss_fake_e = bce(y_true=tf.zeros_like(y_fake_e),\n",
    "                                    y_pred=y_fake_e)\n",
    "    return (discriminator_loss_real +\n",
    "            discriminator_loss_fake +\n",
    "            gamma * discriminator_loss_fake_e)"
   ]
  },
  {
   "cell_type": "code",
   "execution_count": 67,
   "metadata": {
    "ExecuteTime": {
     "end_time": "2020-06-22T14:21:46.314283Z",
     "start_time": "2020-06-22T14:21:46.304404Z"
    }
   },
   "outputs": [],
   "source": [
    "@tf.function\n",
    "def train_discriminator(x, z):\n",
    "    with tf.GradientTape() as tape:\n",
    "        discriminator_loss = get_discriminator_loss(x, z)\n",
    "\n",
    "    var_list = discriminator.trainable_variables\n",
    "    gradients = tape.gradient(discriminator_loss, var_list)\n",
    "    discriminator_optimizer.apply_gradients(zip(gradients, var_list))\n",
    "    return discriminator_loss"
   ]
  },
  {
   "cell_type": "markdown",
   "metadata": {},
   "source": [
    "## Training Loop"
   ]
  },
  {
   "cell_type": "markdown",
   "metadata": {},
   "source": [
    "Finally, the joint training loop pulls the various training steps together and builds on the learning from phase 1 and 2 to train the TimeGAN components on both real and random data. We run the loop for 10,000 iterations in under 50 minutes:"
   ]
  },
  {
   "cell_type": "code",
   "execution_count": 68,
   "metadata": {
    "ExecuteTime": {
     "end_time": "2020-06-22T15:11:24.409536Z",
     "start_time": "2020-06-22T14:21:46.315280Z"
    }
   },
   "outputs": [
    {
     "name": "stdout",
     "output_type": "stream",
     "text": [
      "     0 | d_loss: 2.0444 | g_loss_u: 0.7421 | g_loss_s: 0.0005 | g_loss_v: 0.1637 | e_loss_t0: 0.0467\n",
      " 1,000 | d_loss: 1.4722 | g_loss_u: 1.1013 | g_loss_s: 0.0001 | g_loss_v: 0.0528 | e_loss_t0: 0.0034\n",
      " 2,000 | d_loss: 1.8890 | g_loss_u: 1.2172 | g_loss_s: 0.0000 | g_loss_v: 0.0532 | e_loss_t0: 0.0024\n",
      " 3,000 | d_loss: 1.7324 | g_loss_u: 1.1728 | g_loss_s: 0.0001 | g_loss_v: 0.0283 | e_loss_t0: 0.0015\n",
      " 4,000 | d_loss: 1.5976 | g_loss_u: 1.5581 | g_loss_s: 0.0001 | g_loss_v: 0.0392 | e_loss_t0: 0.0022\n",
      " 5,000 | d_loss: 1.6282 | g_loss_u: 1.2787 | g_loss_s: 0.0003 | g_loss_v: 0.0243 | e_loss_t0: 0.0022\n",
      " 6,000 | d_loss: 1.6996 | g_loss_u: 1.3839 | g_loss_s: 0.0000 | g_loss_v: 0.0567 | e_loss_t0: 0.0030\n",
      " 7,000 | d_loss: 1.6362 | g_loss_u: 1.4096 | g_loss_s: 0.0001 | g_loss_v: 0.0081 | e_loss_t0: 0.0019\n",
      " 8,000 | d_loss: 1.6209 | g_loss_u: 1.2615 | g_loss_s: 0.0000 | g_loss_v: 0.0448 | e_loss_t0: 0.0026\n",
      " 9,000 | d_loss: 1.6481 | g_loss_u: 1.3202 | g_loss_s: 0.0000 | g_loss_v: 0.0334 | e_loss_t0: 0.0020\n"
     ]
    }
   ],
   "source": [
    "step_g_loss_u = step_g_loss_s = step_g_loss_v = step_e_loss_t0 = step_d_loss = 0\n",
    "for step in range(train_steps):\n",
    "    # Train generator (twice as often as discriminator)\n",
    "    for kk in range(2):\n",
    "        X_ = next(real_series_iter)\n",
    "        Z_ = next(random_series)\n",
    "\n",
    "        # Train generator\n",
    "        step_g_loss_u, step_g_loss_s, step_g_loss_v = train_generator(X_, Z_)\n",
    "        # Train embedder\n",
    "        step_e_loss_t0 = train_embedder(X_)\n",
    "\n",
    "    X_ = next(real_series_iter)\n",
    "    Z_ = next(random_series)\n",
    "    step_d_loss = get_discriminator_loss(X_, Z_)\n",
    "    if step_d_loss > 0.15:\n",
    "        step_d_loss = train_discriminator(X_, Z_)\n",
    "\n",
    "    if step % 1000 == 0:\n",
    "        print(f'{step:6,.0f} | d_loss: {step_d_loss:6.4f} | g_loss_u: {step_g_loss_u:6.4f} | '\n",
    "              f'g_loss_s: {step_g_loss_s:6.4f} | g_loss_v: {step_g_loss_v:6.4f} | e_loss_t0: {step_e_loss_t0:6.4f}')\n",
    "\n",
    "    with writer.as_default():\n",
    "        tf.summary.scalar('G Loss S', step_g_loss_s, step=step)\n",
    "        tf.summary.scalar('G Loss U', step_g_loss_u, step=step)\n",
    "        tf.summary.scalar('G Loss V', step_g_loss_v, step=step)\n",
    "        tf.summary.scalar('E Loss T0', step_e_loss_t0, step=step)\n",
    "        tf.summary.scalar('D Loss', step_d_loss, step=step)"
   ]
  },
  {
   "cell_type": "markdown",
   "metadata": {},
   "source": [
    "## Persist Synthetic Data Generator"
   ]
  },
  {
   "cell_type": "code",
   "execution_count": 69,
   "metadata": {
    "ExecuteTime": {
     "end_time": "2020-06-22T15:11:40.412907Z",
     "start_time": "2020-06-22T15:11:24.410409Z"
    }
   },
   "outputs": [
    {
     "name": "stdout",
     "output_type": "stream",
     "text": [
      "WARNING:tensorflow:Compiled the loaded model, but the compiled metrics have yet to be built. `model.compile_metrics` will be empty until you train or evaluate the model.\n"
     ]
    },
    {
     "name": "stderr",
     "output_type": "stream",
     "text": [
      "WARNING:tensorflow:Compiled the loaded model, but the compiled metrics have yet to be built. `model.compile_metrics` will be empty until you train or evaluate the model.\n"
     ]
    },
    {
     "name": "stdout",
     "output_type": "stream",
     "text": [
      "INFO:tensorflow:Assets written to: time_gan/experiment_00/synthetic_data/assets\n"
     ]
    },
    {
     "name": "stderr",
     "output_type": "stream",
     "text": [
      "INFO:tensorflow:Assets written to: time_gan/experiment_00/synthetic_data/assets\n"
     ]
    }
   ],
   "source": [
    "synthetic_data.save(log_dir / 'synthetic_data')"
   ]
  },
  {
   "cell_type": "markdown",
   "metadata": {},
   "source": [
    "# Generate Synthetic Data"
   ]
  },
  {
   "cell_type": "markdown",
   "metadata": {},
   "source": [
    "To evaluate the TimeGAN results, we generate synthetic by drawing random inputs and feeding them to the `synthetic_data` network just described. \n",
    "\n",
    "More specifically, we’ll create roughly as many artificial series with 24 observations on the six tickers as there are overlapping windows in the real dataset:"
   ]
  },
  {
   "cell_type": "code",
   "execution_count": 70,
   "metadata": {
    "ExecuteTime": {
     "end_time": "2020-06-22T15:11:42.825347Z",
     "start_time": "2020-06-22T15:11:40.433334Z"
    }
   },
   "outputs": [],
   "source": [
    "generated_data = []\n",
    "for i in range(int(n_windows / batch_size)):\n",
    "    Z_ = next(random_series)\n",
    "    d = synthetic_data(Z_)\n",
    "    generated_data.append(d)"
   ]
  },
  {
   "cell_type": "code",
   "execution_count": 71,
   "metadata": {
    "ExecuteTime": {
     "end_time": "2020-06-22T15:11:42.830084Z",
     "start_time": "2020-06-22T15:11:42.826463Z"
    }
   },
   "outputs": [
    {
     "data": {
      "text/plain": [
       "19"
      ]
     },
     "execution_count": 71,
     "metadata": {},
     "output_type": "execute_result"
    }
   ],
   "source": [
    "len(generated_data)"
   ]
  },
  {
   "cell_type": "markdown",
   "metadata": {},
   "source": [
    "The result is 35 batches containing 128 samples with dimensions 24⨉6 each that we stack like so:"
   ]
  },
  {
   "cell_type": "code",
   "execution_count": 72,
   "metadata": {
    "ExecuteTime": {
     "end_time": "2020-06-22T15:11:42.852034Z",
     "start_time": "2020-06-22T15:11:42.831084Z"
    }
   },
   "outputs": [
    {
     "data": {
      "text/plain": [
       "(2432, 24, 1)"
      ]
     },
     "execution_count": 72,
     "metadata": {},
     "output_type": "execute_result"
    }
   ],
   "source": [
    "generated_data = np.array(np.vstack(generated_data))\n",
    "generated_data.shape"
   ]
  },
  {
   "cell_type": "code",
   "execution_count": 73,
   "metadata": {
    "ExecuteTime": {
     "end_time": "2020-06-22T15:11:42.857797Z",
     "start_time": "2020-06-22T15:11:42.853108Z"
    }
   },
   "outputs": [],
   "source": [
    "np.save(log_dir / 'generated_data.npy', generated_data)"
   ]
  },
  {
   "cell_type": "markdown",
   "metadata": {},
   "source": [
    "## Rescale"
   ]
  },
  {
   "cell_type": "markdown",
   "metadata": {},
   "source": [
    "We can use the trained MinMaxScaler to revert the synthetic to the scale of the input series:"
   ]
  },
  {
   "cell_type": "code",
   "execution_count": 74,
   "metadata": {
    "ExecuteTime": {
     "end_time": "2020-06-22T15:11:42.872876Z",
     "start_time": "2020-06-22T15:11:42.858811Z"
    }
   },
   "outputs": [
    {
     "data": {
      "text/plain": [
       "(2432, 24, 1)"
      ]
     },
     "execution_count": 74,
     "metadata": {},
     "output_type": "execute_result"
    }
   ],
   "source": [
    "generated_data = (scaler.inverse_transform(generated_data\n",
    "                                           .reshape(-1, n_seq))\n",
    "                  .reshape(-1, seq_len, n_seq))\n",
    "generated_data.shape"
   ]
  },
  {
   "cell_type": "code",
   "execution_count": 82,
   "metadata": {},
   "outputs": [
    {
     "data": {
      "text/plain": [
       "array([[[6.7184787],\n",
       "        [7.0621142],\n",
       "        [7.093091 ],\n",
       "        ...,\n",
       "        [7.0076666],\n",
       "        [7.018672 ],\n",
       "        [7.0418067]],\n",
       "\n",
       "       [[6.7157836],\n",
       "        [6.974931 ],\n",
       "        [7.209359 ],\n",
       "        ...,\n",
       "        [7.3081336],\n",
       "        [7.307669 ],\n",
       "        [7.308968 ]],\n",
       "\n",
       "       [[6.5479307],\n",
       "        [6.7030673],\n",
       "        [6.8773394],\n",
       "        ...,\n",
       "        [7.0871835],\n",
       "        [7.076228 ],\n",
       "        [7.0730886]],\n",
       "\n",
       "       ...,\n",
       "\n",
       "       [[4.5226173],\n",
       "        [4.39426  ],\n",
       "        [4.5528407],\n",
       "        ...,\n",
       "        [4.4731174],\n",
       "        [4.475082 ],\n",
       "        [4.4875965]],\n",
       "\n",
       "       [[7.032251 ],\n",
       "        [7.108557 ],\n",
       "        [7.2519274],\n",
       "        ...,\n",
       "        [7.4314985],\n",
       "        [7.429853 ],\n",
       "        [7.4143386]],\n",
       "\n",
       "       [[4.9381986],\n",
       "        [4.920158 ],\n",
       "        [5.052019 ],\n",
       "        ...,\n",
       "        [5.0806756],\n",
       "        [5.259717 ],\n",
       "        [5.2973247]]], dtype=float32)"
      ]
     },
     "execution_count": 82,
     "metadata": {},
     "output_type": "execute_result"
    }
   ],
   "source": [
    "generated_data"
   ]
  },
  {
   "cell_type": "markdown",
   "metadata": {},
   "source": [
    "## Plot sample Series"
   ]
  },
  {
   "cell_type": "markdown",
   "metadata": {},
   "source": [
    "The below figure displays samples of the six synthetic series and the corresponding real series. The synthetic data generally reflect a variation of behavior not unlike their real counterparts and, after rescaling, roughly (due to the random input) match their range."
   ]
  },
  {
   "cell_type": "code",
   "execution_count": 108,
   "metadata": {},
   "outputs": [
    {
     "data": {
      "text/plain": [
       "array([[0.        ],\n",
       "       [0.00445239],\n",
       "       [0.01967443],\n",
       "       ...,\n",
       "       [0.70305544],\n",
       "       [0.7078255 ],\n",
       "       [0.72068655]], dtype=float32)"
      ]
     },
     "execution_count": 108,
     "metadata": {},
     "output_type": "execute_result"
    }
   ],
   "source": [
    "scaled_df_asset1"
   ]
  },
  {
   "cell_type": "code",
   "execution_count": 125,
   "metadata": {
    "ExecuteTime": {
     "end_time": "2020-06-22T15:11:45.421814Z",
     "start_time": "2020-06-22T15:11:42.890793Z"
    }
   },
   "outputs": [
    {
     "data": {
      "image/png": "[encoded data removed]",
      "text/plain": [
       "<Figure size 640x480 with 1 Axes>"
      ]
     },
     "metadata": {},
     "output_type": "display_data"
    },
    {
     "data": {
      "image/png": "[encoded data removed]",
      "text/plain": [
       "<Figure size 640x480 with 1 Axes>"
      ]
     },
     "metadata": {},
     "output_type": "display_data"
    },
    {
     "data": {
      "image/png": "[encoded data removed]",
      "text/plain": [
       "<Figure size 640x480 with 1 Axes>"
      ]
     },
     "metadata": {},
     "output_type": "display_data"
    },
    {
     "data": {
      "image/png": "[encoded data removed]",
      "text/plain": [
       "<Figure size 640x480 with 1 Axes>"
      ]
     },
     "metadata": {},
     "output_type": "display_data"
    },
    {
     "data": {
      "image/png": "[encoded data removed]",
      "text/plain": [
       "<Figure size 640x480 with 1 Axes>"
      ]
     },
     "metadata": {},
     "output_type": "display_data"
    },
    {
     "data": {
      "image/png": "[encoded data removed]",
      "text/plain": [
       "<Figure size 640x480 with 1 Axes>"
      ]
     },
     "metadata": {},
     "output_type": "display_data"
    },
    {
     "data": {
      "image/png": "[encoded data removed]",
      "text/plain": [
       "<Figure size 640x480 with 1 Axes>"
      ]
     },
     "metadata": {},
     "output_type": "display_data"
    },
    {
     "data": {
      "image/png": "[encoded data removed]",
      "text/plain": [
       "<Figure size 640x480 with 1 Axes>"
      ]
     },
     "metadata": {},
     "output_type": "display_data"
    },
    {
     "data": {
      "image/png": "[encoded data removed]",
      "text/plain": [
       "<Figure size 640x480 with 1 Axes>"
      ]
     },
     "metadata": {},
     "output_type": "display_data"
    },
    {
     "data": {
      "image/png": "[encoded data removed]",
      "text/plain": [
       "<Figure size 640x480 with 1 Axes>"
      ]
     },
     "metadata": {},
     "output_type": "display_data"
    }
   ],
   "source": [
    "index = list(range(1, 25))\n",
    "\n",
    "for i in range(10):\n",
    "    plt.figure()\n",
    "    \n",
    "    synthetic = generated_data[np.random.randint(n_windows)]\n",
    "\n",
    "    idx = np.random.randint(len(df_asset_1) - seq_len)\n",
    "    real = pd.DataFrame(scaled_df_asset1).iloc[idx: idx + seq_len]\n",
    "\n",
    "    scaled_synthetic = scaler.fit_transform(synthetic).astype(np.float32)\n",
    "\n",
    "    plt.plot(index, real, label='Real', color='blue')\n",
    "    plt.plot(index, scaled_synthetic/10, label='Synthetic', color='red')\n",
    "\n",
    "    plt.legend()\n",
    "\n",
    "    plt.title(f'Example {i+1}: Real vs Synthetic Data')\n",
    "    plt.xlabel('Time')\n",
    "    plt.ylabel('Value')\n",
    "\n",
    "    plt.show()\n",
    "\n"
   ]
  }
 ],
 "metadata": {
  "kernelspec": {
   "display_name": "Python 3",
   "language": "python",
   "name": "python3"
  },
  "language_info": {
   "codemirror_mode": {
    "name": "ipython",
    "version": 3
   },
   "file_extension": ".py",
   "mimetype": "text/x-python",
   "name": "python",
   "nbconvert_exporter": "python",
   "pygments_lexer": "ipython3",
   "version": "3.10.12"
  },
  "toc": {
   "base_numbering": 1,
   "nav_menu": {},
   "number_sections": true,
   "sideBar": true,
   "skip_h1_title": false,
   "title_cell": "Table of Contents",
   "title_sidebar": "Contents",
   "toc_cell": false,
   "toc_position": {},
   "toc_section_display": true,
   "toc_window_display": true
  },
  "toc-autonumbering": true
 },
 "nbformat": 4,
 "nbformat_minor": 4
}
