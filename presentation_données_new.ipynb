{
 "cells": [
  {
   "cell_type": "markdown",
   "metadata": {},
   "source": [
    "# Présentation des données\n",
    "\n",
    "On cherche à généré des scénarios économiques. Plus précisément, on veut pour un actif $ (S_t)_{t \\in \\mathbb{N}} $ observé généré une série $ (\\tilde{S}_h, \\tilde{S}_{h+1} ... , \\tilde{S}_{h+k})$ de variables dont la distribution est proche de $(S_h, S_{h+1}, \\ldots, S_{h+k})$ (les vraies valeurs potentiellement observées).\n",
    "\n",
    "On utilise donc des données sur le prix d'actifs financiers. Notre dataframe est composé de 28777 observations, 12 actifs financiers différents , ainsi que 2000 à 2500 observations par actif."
   ]
  },
  {
   "cell_type": "markdown",
   "metadata": {},
   "source": [
    "Les graphiques permettent de visualiser des corrélations entre les actifs avec des tendances communes. De plus, les séries ne semblent pas <u>stationnaires</u> (ie: $E(S_t)$ semble dépendre de t). Il sera donc compliqué de traité la série telle qu'elle dans un réseau de neuronne. On considère plutôt le LogReturn de la série, définie formellement par:\n",
    "\n",
    "$ r_t = \\ln\\left(\\frac{S_t}{S_{t-1}}\\right) $\n",
    "\n",
    "Où :\n",
    "- $ S_t $ est le prix de l'actif à l'instant $ t $,\n",
    "- $ \\ln $ est la fonction logarithme naturel."
   ]
  },
  {
   "cell_type": "code",
   "execution_count": 12,
   "metadata": {},
   "outputs": [],
   "source": [
    "import pandas as pd\n",
    "import numpy as np\n",
    "from utils.create_data import simple_plot_date\n",
    "import matplotlib.pyplot as plt\n",
    "\n",
    "\n",
    "\n",
    "#faits stylises et tests\n",
    "import stylefact.finance as sff\n",
    "import stylefact.visualize as sfv\n",
    "from statsmodels.graphics.gofplots import qqplot\n",
    "import seaborn as sb\n",
    "from statsmodels.tsa.stattools import adfuller, acf\n",
    "import statsmodels.api as sm\n",
    "from scipy import stats\n",
    "from arch.unitroot import PhillipsPerron, KPSS, ADF\n",
    "from arch import arch_model\n",
    "from statsmodels.graphics.tsaplots import plot_acf\n",
    "\n",
    "import sys\n",
    "sys.path.append('utils')\n",
    "import stylized_fact as styl\n",
    "\n",
    "import os"
   ]
  },
  {
   "cell_type": "code",
   "execution_count": 2,
   "metadata": {},
   "outputs": [
    {
     "name": "stdout",
     "output_type": "stream",
     "text": [
      "['Check', 'AssetTS', 'Assumption']\n"
     ]
    }
   ],
   "source": [
    "xls = pd.ExcelFile('./data/EnsaeGANData.xlsx')\n",
    "print(xls.sheet_names)\n",
    "Check = pd.read_excel(xls, 'Check')\n",
    "AssetTS = pd.read_excel(xls, 'AssetTS')\n",
    "Assumption = pd.read_excel(xls, 'Assumption')"
   ]
  },
  {
   "cell_type": "code",
   "execution_count": 3,
   "metadata": {},
   "outputs": [
    {
     "data": {
      "text/html": [
       "<div>\n",
       "<style scoped>\n",
       "    .dataframe tbody tr th:only-of-type {\n",
       "        vertical-align: middle;\n",
       "    }\n",
       "\n",
       "    .dataframe tbody tr th {\n",
       "        vertical-align: top;\n",
       "    }\n",
       "\n",
       "    .dataframe thead th {\n",
       "        text-align: right;\n",
       "    }\n",
       "</style>\n",
       "<table border=\"1\" class=\"dataframe\">\n",
       "  <thead>\n",
       "    <tr style=\"text-align: right;\">\n",
       "      <th></th>\n",
       "      <th>ASSETTYPE</th>\n",
       "      <th>ASSETSUBTYPE</th>\n",
       "      <th>ASSETNAME</th>\n",
       "      <th>ISHEDGED</th>\n",
       "      <th>Date</th>\n",
       "      <th>PRICE</th>\n",
       "      <th>MonthYear</th>\n",
       "      <th>IsLastDayMonth</th>\n",
       "    </tr>\n",
       "  </thead>\n",
       "  <tbody>\n",
       "    <tr>\n",
       "      <th>0</th>\n",
       "      <td>Alternative</td>\n",
       "      <td>Property</td>\n",
       "      <td>Global Property USD Unhedged</td>\n",
       "      <td>False</td>\n",
       "      <td>1999-02-28</td>\n",
       "      <td>889.64</td>\n",
       "      <td>1999/02</td>\n",
       "      <td>True</td>\n",
       "    </tr>\n",
       "    <tr>\n",
       "      <th>1</th>\n",
       "      <td>Alternative</td>\n",
       "      <td>Property</td>\n",
       "      <td>Global Property USD Unhedged</td>\n",
       "      <td>False</td>\n",
       "      <td>1999-03-31</td>\n",
       "      <td>916.07</td>\n",
       "      <td>1999/03</td>\n",
       "      <td>True</td>\n",
       "    </tr>\n",
       "    <tr>\n",
       "      <th>2</th>\n",
       "      <td>Alternative</td>\n",
       "      <td>Property</td>\n",
       "      <td>Global Property USD Unhedged</td>\n",
       "      <td>False</td>\n",
       "      <td>1999-04-30</td>\n",
       "      <td>1006.43</td>\n",
       "      <td>1999/04</td>\n",
       "      <td>True</td>\n",
       "    </tr>\n",
       "    <tr>\n",
       "      <th>3</th>\n",
       "      <td>Alternative</td>\n",
       "      <td>Property</td>\n",
       "      <td>Global Property USD Unhedged</td>\n",
       "      <td>False</td>\n",
       "      <td>1999-05-31</td>\n",
       "      <td>983.72</td>\n",
       "      <td>1999/05</td>\n",
       "      <td>True</td>\n",
       "    </tr>\n",
       "    <tr>\n",
       "      <th>4</th>\n",
       "      <td>Alternative</td>\n",
       "      <td>Property</td>\n",
       "      <td>Global Property USD Unhedged</td>\n",
       "      <td>False</td>\n",
       "      <td>1999-06-30</td>\n",
       "      <td>1005.67</td>\n",
       "      <td>1999/06</td>\n",
       "      <td>True</td>\n",
       "    </tr>\n",
       "    <tr>\n",
       "      <th>5</th>\n",
       "      <td>Alternative</td>\n",
       "      <td>Property</td>\n",
       "      <td>Global Property USD Unhedged</td>\n",
       "      <td>False</td>\n",
       "      <td>1999-07-31</td>\n",
       "      <td>992.68</td>\n",
       "      <td>1999/07</td>\n",
       "      <td>True</td>\n",
       "    </tr>\n",
       "    <tr>\n",
       "      <th>6</th>\n",
       "      <td>Alternative</td>\n",
       "      <td>Property</td>\n",
       "      <td>Global Property USD Unhedged</td>\n",
       "      <td>False</td>\n",
       "      <td>1999-08-31</td>\n",
       "      <td>982.74</td>\n",
       "      <td>1999/08</td>\n",
       "      <td>True</td>\n",
       "    </tr>\n",
       "    <tr>\n",
       "      <th>7</th>\n",
       "      <td>Alternative</td>\n",
       "      <td>Property</td>\n",
       "      <td>Global Property USD Unhedged</td>\n",
       "      <td>False</td>\n",
       "      <td>1999-09-30</td>\n",
       "      <td>941.42</td>\n",
       "      <td>1999/09</td>\n",
       "      <td>True</td>\n",
       "    </tr>\n",
       "    <tr>\n",
       "      <th>8</th>\n",
       "      <td>Alternative</td>\n",
       "      <td>Property</td>\n",
       "      <td>Global Property USD Unhedged</td>\n",
       "      <td>False</td>\n",
       "      <td>1999-10-31</td>\n",
       "      <td>928.73</td>\n",
       "      <td>1999/10</td>\n",
       "      <td>True</td>\n",
       "    </tr>\n",
       "    <tr>\n",
       "      <th>9</th>\n",
       "      <td>Alternative</td>\n",
       "      <td>Property</td>\n",
       "      <td>Global Property USD Unhedged</td>\n",
       "      <td>False</td>\n",
       "      <td>1999-11-30</td>\n",
       "      <td>953.56</td>\n",
       "      <td>1999/11</td>\n",
       "      <td>True</td>\n",
       "    </tr>\n",
       "  </tbody>\n",
       "</table>\n",
       "</div>"
      ],
      "text/plain": [
       "     ASSETTYPE ASSETSUBTYPE                     ASSETNAME  ISHEDGED  \\\n",
       "0  Alternative     Property  Global Property USD Unhedged     False   \n",
       "1  Alternative     Property  Global Property USD Unhedged     False   \n",
       "2  Alternative     Property  Global Property USD Unhedged     False   \n",
       "3  Alternative     Property  Global Property USD Unhedged     False   \n",
       "4  Alternative     Property  Global Property USD Unhedged     False   \n",
       "5  Alternative     Property  Global Property USD Unhedged     False   \n",
       "6  Alternative     Property  Global Property USD Unhedged     False   \n",
       "7  Alternative     Property  Global Property USD Unhedged     False   \n",
       "8  Alternative     Property  Global Property USD Unhedged     False   \n",
       "9  Alternative     Property  Global Property USD Unhedged     False   \n",
       "\n",
       "        Date    PRICE MonthYear  IsLastDayMonth  \n",
       "0 1999-02-28   889.64   1999/02            True  \n",
       "1 1999-03-31   916.07   1999/03            True  \n",
       "2 1999-04-30  1006.43   1999/04            True  \n",
       "3 1999-05-31   983.72   1999/05            True  \n",
       "4 1999-06-30  1005.67   1999/06            True  \n",
       "5 1999-07-31   992.68   1999/07            True  \n",
       "6 1999-08-31   982.74   1999/08            True  \n",
       "7 1999-09-30   941.42   1999/09            True  \n",
       "8 1999-10-31   928.73   1999/10            True  \n",
       "9 1999-11-30   953.56   1999/11            True  "
      ]
     },
     "execution_count": 3,
     "metadata": {},
     "output_type": "execute_result"
    }
   ],
   "source": [
    "#Check.head(10)\n",
    "AssetTS.head(10)\n",
    "#Assumption.head(10)"
   ]
  },
  {
   "cell_type": "code",
   "execution_count": 4,
   "metadata": {},
   "outputs": [
    {
     "data": {
      "text/plain": [
       "ASSETNAME\n",
       "Europe ex UK Equity - USD Unhedged    2572\n",
       "US Equity USD Unhedged                2519\n",
       "UK Equity - USD Unhedged              2514\n",
       "Global Property USD Unhedged          2507\n",
       "Global Government Bond USD Hedged     2503\n",
       "UK Government Bond - USD Hedged       2495\n",
       "Liquidity USD Unhedged                2483\n",
       "US Government Bond USD Unhedged       2439\n",
       "USD Corporate Bond - USD Unhedged     2429\n",
       "US High Yield Bond - USD Unhedged     2332\n",
       "Liquidity EUR Unhedged in USD         2085\n",
       "Liquidity GBP Unhedged in USD         1899\n",
       "Name: count, dtype: int64"
      ]
     },
     "execution_count": 4,
     "metadata": {},
     "output_type": "execute_result"
    }
   ],
   "source": [
    "AssetTS['MonthYear'] = pd.to_datetime(AssetTS['MonthYear'], format='%Y/%m')\n",
    "AssetTS_true = AssetTS[AssetTS['IsLastDayMonth'] == True]\n",
    "AssetTS.ASSETNAME.value_counts()\n",
    "#AssetTS.ASSETSUBTYPE.value_counts()\n",
    "#AssetTS.ASSETTYPE.value_counts()\n",
    "#print(AssetTS.info())"
   ]
  },
  {
   "cell_type": "markdown",
   "metadata": {},
   "source": [
    "La variable ``DATE`` nous donne la date pour chaque actif considéré. On peut donc commencer par visualiser la trajectoire des actifs."
   ]
  },
  {
   "cell_type": "code",
   "execution_count": 5,
   "metadata": {},
   "outputs": [],
   "source": [
    "actif = \"UK Government Bond - USD Hedged\"\n",
    "year = 2015\n",
    "simple_plot_date(AssetTS[AssetTS['ASSETNAME']==actif]['Date'],AssetTS[AssetTS['ASSETNAME']==actif]['PRICE'],year, f\"Cours de l'actif {actif}\", f\"{actif}\")"
   ]
  },
  {
   "cell_type": "code",
   "execution_count": 6,
   "metadata": {},
   "outputs": [],
   "source": [
    "liste_actifs = [\"UK Equity - USD Unhedged\",              \n",
    "                \"US Equity USD Unhedged\",  \n",
    "                \"Europe ex UK Equity - USD Unhedged\", \n",
    "                \"USD Corporate Bond - USD Unhedged\",\n",
    "                \"Global Property USD Unhedged\",          \n",
    "                \"Global Government Bond USD Hedged\",\n",
    "                \"UK Government Bond - USD Hedged\",      \n",
    "                \"US Government Bond USD Unhedged\",       \n",
    "                \"Liquidity USD Unhedged\",                \n",
    "                \"Liquidity EUR Unhedged in USD\",         \n",
    "                \"US High Yield Bond - USD Unhedged\",     \n",
    "                \"Liquidity GBP Unhedged in USD\"]"
   ]
  },
  {
   "cell_type": "code",
   "execution_count": 7,
   "metadata": {},
   "outputs": [],
   "source": [
    "# Divise la liste d'actifs en deux sous-listes\n",
    "liste_actifs1 = liste_actifs[:5] \n",
    "liste_actifs2 = liste_actifs[5:] \n",
    "\n",
    "fig, (ax1, ax2) = plt.subplots(2, 1, figsize=(10, 12))\n",
    "\n",
    "# Plot pour la première liste d'actifs\n",
    "for actif in liste_actifs1:\n",
    "    data_actif = AssetTS[AssetTS['ASSETNAME'] == actif]\n",
    "    simple_plot_date(data_actif['Date'], data_actif['PRICE'], 2023, title=f\"Cours des actifs\",asset_name=f\"{actif}\", ax=ax1)\n",
    "\n",
    "# Plot pour la deuxième liste d'actifs\n",
    "for actif in liste_actifs2:\n",
    "    data_actif = AssetTS_true[AssetTS_true['ASSETNAME'] == actif]\n",
    "    simple_plot_date(data_actif['Date'], data_actif['PRICE'], 2020, title=f\"Cours des actifs\",asset_name=f\"{actif}\", ax=ax2)\n",
    "\n",
    "#plt.tight_layout()\n",
    "#plt.show()"
   ]
  },
  {
   "cell_type": "code",
   "execution_count": 8,
   "metadata": {},
   "outputs": [],
   "source": [
    "actif = \"UK Government Bond - USD Hedged\"\n",
    "AssetTS['Log_Return'] = np.log(AssetTS[AssetTS['ASSETNAME'] == actif]['PRICE']).diff()\n",
    "year = 2015\n",
    "simple_plot_date(AssetTS[AssetTS['ASSETNAME']==actif]['Date'],AssetTS[AssetTS['ASSETNAME']==actif]['Log_Return'],year, title = f\"Log returns de {actif}\", asset_name=f\"{actif}\" )"
   ]
  },
  {
   "cell_type": "markdown",
   "metadata": {},
   "source": [
    "# Description statistique"
   ]
  },
  {
   "cell_type": "code",
   "execution_count": 9,
   "metadata": {},
   "outputs": [],
   "source": [
    "AssetTS['Log_Return'] = np.nan\n",
    "\n",
    "for actif in liste_actifs:\n",
    "    log_returns = np.log(AssetTS[AssetTS['ASSETNAME'] == actif]['PRICE']).diff()\n",
    "    AssetTS.loc[AssetTS['ASSETNAME'] == actif, 'Log_Return'] = log_returns"
   ]
  },
  {
   "cell_type": "markdown",
   "metadata": {},
   "source": [
    "On constate que la distribution n'est pas gaussienne. En effet on voit qu'elle est asymétrique et qu'elle est également leptokurtique (queues plus épaisses par rapport à la gaussienne). Donc approximer la série par une gaussienne n'est pas une très bonne idée. Il faudrait peut-être songer à enlever les valeurs extrêmes pour voir le comportement. (*Ici on a le graphique sur un actif mais on peut le vérifier sur chaque actif*)."
   ]
  },
  {
   "cell_type": "code",
   "execution_count": 10,
   "metadata": {},
   "outputs": [
    {
     "name": "stdout",
     "output_type": "stream",
     "text": [
      "QQplot des log-returns de Liquidity GBP Unhedged in USD\n"
     ]
    }
   ],
   "source": [
    "sdf = AssetTS[AssetTS['ASSETNAME'] == actif]['PRICE']\n",
    "y = np.log(sdf/sdf.shift(1))[1:].to_numpy()\n",
    "print(f'QQplot des log-returns de {actif}')\n",
    "qqplot(y, line='s')\n",
    "plt.savefig('qqplot.png')\n",
    "plt.show()\n"
   ]
  },
  {
   "cell_type": "markdown",
   "metadata": {},
   "source": [
    "La distribution des valeurs de la série ne colle pas très bien avec une loi normale, on peut chercher à transformer la série (retirer les outliers par exemple) afin que la distribution s'approche d'une loi normale et justifier ainsi l'utilisation de modèles statistiques. \n",
    "\n",
    "L'intérêt du projet ici est de ne pas dépendre d'hypothèses qui peuvent être parfois peu vraisemblables (normalité des logs-returns par exemple). En faisant le moins de transformations possibles à la série, on cherche à entraîner un modèle pour générer des séries de prix sans avoir à poser d'hypothèses statistiques au préalable. Regardons si la série vérifie quelques faits stylisés."
   ]
  },
  {
   "cell_type": "markdown",
   "metadata": {},
   "source": [
    "# Faits stylisés séries "
   ]
  },
  {
   "cell_type": "markdown",
   "metadata": {},
   "source": [
    "Le but de cette partie est de tester tous les faits stylisés des séries, qu'elles soient réelles ou générées."
   ]
  },
  {
   "cell_type": "markdown",
   "metadata": {},
   "source": [
    "### 1) Test de normalité "
   ]
  },
  {
   "cell_type": "markdown",
   "metadata": {},
   "source": [
    "#### approche graphique"
   ]
  },
  {
   "cell_type": "code",
   "execution_count": 14,
   "metadata": {},
   "outputs": [
    {
     "name": "stderr",
     "output_type": "stream",
     "text": [
      "/home/onyxia/work/statapp-hsbc/utils/stylized_fact.py:18: UserWarning: \n",
      "\n",
      "`distplot` is a deprecated function and will be removed in seaborn v0.14.0.\n",
      "\n",
      "Please adapt your code to use either `displot` (a figure-level function with\n",
      "similar flexibility) or `histplot` (an axes-level function for histograms).\n",
      "\n",
      "For a guide to updating your code to use the new functions, please see\n",
      "https://gist.github.com/mwaskom/de44147ed2974457ad6372750bbe5751\n",
      "\n",
      "  sb.distplot(x, hist=True, kde=True, label=f'{actif}', kde_kws={'shade': True, 'linewidth': 3})\n",
      "/home/onyxia/work/.venv/lib/python3.12/site-packages/seaborn/distributions.py:2496: FutureWarning: \n",
      "\n",
      "`shade` is now deprecated in favor of `fill`; setting `fill=True`.\n",
      "This will become an error in seaborn v0.14.0; please update your code.\n",
      "\n",
      "  kdeplot(**{axis: a}, ax=ax, color=kde_color, **kde_kws)\n",
      "/home/onyxia/work/statapp-hsbc/utils/stylized_fact.py:22: UserWarning: \n",
      "\n",
      "`distplot` is a deprecated function and will be removed in seaborn v0.14.0.\n",
      "\n",
      "Please adapt your code to use either `displot` (a figure-level function with\n",
      "similar flexibility) or `kdeplot` (an axes-level function for kernel density plots).\n",
      "\n",
      "For a guide to updating your code to use the new functions, please see\n",
      "https://gist.github.com/mwaskom/de44147ed2974457ad6372750bbe5751\n",
      "\n",
      "  sb.distplot(sample, hist=False, kde=True, kde_kws={'shade': True, 'linewidth': 2}, label='Gaussian Distribution')\n",
      "/home/onyxia/work/.venv/lib/python3.12/site-packages/seaborn/distributions.py:2496: FutureWarning: \n",
      "\n",
      "`shade` is now deprecated in favor of `fill`; setting `fill=True`.\n",
      "This will become an error in seaborn v0.14.0; please update your code.\n",
      "\n",
      "  kdeplot(**{axis: a}, ax=ax, color=kde_color, **kde_kws)\n"
     ]
    }
   ],
   "source": [
    "actif = \"UK Government Bond - USD Hedged\"\n",
    "sdf = AssetTS[AssetTS['ASSETNAME'] == actif]['PRICE']\n",
    "y = np.log(sdf/sdf.shift(1))[1:].to_numpy()\n",
    "styl.normality_graph(y,actif)\n",
    "qqplot(y, line='s')\n",
    "\n",
    "plt.savefig(os.path.join('img', 'qqplot.png'), format='png')"
   ]
  },
  {
   "cell_type": "markdown",
   "metadata": {},
   "source": [
    "##### Test de jarque-bera pour tester la normalité "
   ]
  },
  {
   "cell_type": "code",
   "execution_count": null,
   "metadata": {},
   "outputs": [
    {
     "name": "stdout",
     "output_type": "stream",
     "text": [
      "Asymétrie des données: -1.2389865877763164\n",
      "Kurtosis des données: 20.64269492602083\n",
      "\n",
      "Statistique de test de Jarque-Bera: 34184.65695160673\n",
      "Valeur p associée: 0.0\n",
      "\n",
      "Les données ne suivent pas une distribution normale (rejeter l'hypothèse nulle)\n"
     ]
    }
   ],
   "source": [
    "skewness = stats.skew(y)\n",
    "kurtosis = stats.kurtosis(y)\n",
    "# Affichage de l'asymétrie et de la kurtosis\n",
    "print(\"Asymétrie des données:\", skewness)\n",
    "print(\"Kurtosis des données:\", kurtosis)\n",
    "\n",
    "# Test de Jarque-Bera\n",
    "jb_test_statistic, p_value = stats.jarque_bera(y)\n",
    "# Affichage du résultat du test\n",
    "print(\"\\nStatistique de test de Jarque-Bera:\", jb_test_statistic)\n",
    "print(\"Valeur p associée:\", p_value)\n",
    "# Interprétation du test\n",
    "alpha = 0.05\n",
    "if p_value < alpha:\n",
    "    print(\"\\nLes données ne suivent pas une distribution normale (rejeter l'hypothèse nulle)\")\n",
    "else:\n",
    "    print(\"\\nLes données suivent une distribution normale (ne pas rejeter l'hypothèse nulle)\")\n"
   ]
  },
  {
   "cell_type": "markdown",
   "metadata": {},
   "source": [
    "### 2) Test stationnarité "
   ]
  },
  {
   "cell_type": "code",
   "execution_count": null,
   "metadata": {},
   "outputs": [],
   "source": [
    "print(\"Augmented Dickey Fuller test: p-value = \", ADF(y).pvalue)\n",
    "print(\"Phillips Perron test: p-value = \", PhillipsPerron(y).pvalue)\n",
    "print(\"KPPS test: p-value = \", round(KPSS(y).pvalue, 4))\n"
   ]
  },
  {
   "cell_type": "markdown",
   "metadata": {},
   "source": [
    "### 3) Leverage effect"
   ]
  },
  {
   "cell_type": "markdown",
   "metadata": {},
   "source": [
    "### 4) Autocorrelation "
   ]
  },
  {
   "cell_type": "markdown",
   "metadata": {},
   "source": [
    "L'hypothèse H0 représente l'absence d'autocorrélation."
   ]
  },
  {
   "cell_type": "code",
   "execution_count": null,
   "metadata": {},
   "outputs": [
    {
     "name": "stdout",
     "output_type": "stream",
     "text": [
      "Ljung-Box test for lag 1 to 3, p-values =  [0.05406675 0.04222125]\n",
      "Ljung-Box test on the squared returns, p-values =  [4.60235801e-14 9.05526469e-14 6.92631202e-14 5.44631508e-19]\n"
     ]
    }
   ],
   "source": [
    "print(\n",
    "    \"Ljung-Box test for lag 1 to 3, p-values = \",\n",
    "    sm.stats.acorr_ljungbox(y, lags=2, return_df=False)[\"lb_pvalue\"].values,\n",
    ")\n",
    "print(\n",
    "    \"Ljung-Box test on the squared returns, p-values = \",\n",
    "    sm.stats.acorr_ljungbox(y**2, lags=4, return_df=False)[\"lb_pvalue\"].values,\n",
    ")"
   ]
  },
  {
   "cell_type": "code",
   "execution_count": null,
   "metadata": {},
   "outputs": [],
   "source": [
    "styl.check_autocorel(y, 5, 0.05, qstat=True, score_min=0.8, display_stats=True)"
   ]
  },
  {
   "cell_type": "code",
   "execution_count": null,
   "metadata": {},
   "outputs": [
    {
     "data": {
      "image/png": "[encoded data removed]",
      "text/plain": [
       "<Figure size 640x480 with 1 Axes>"
      ]
     },
     "metadata": {},
     "output_type": "display_data"
    }
   ],
   "source": [
    "# Tracer la fonction d'autocorrélation\n",
    "plot_acf(np.abs(y), lags=20)\n",
    "plt.xlabel('Lag')\n",
    "plt.ylabel('ACF')\n",
    "plt.title('Autocorrelation Function (ACF)')\n",
    "plt.show()"
   ]
  },
  {
   "cell_type": "markdown",
   "metadata": {},
   "source": [
    "### 5) Volatilité cluster"
   ]
  }
 ],
 "metadata": {
  "kernelspec": {
   "display_name": ".venv",
   "language": "python",
   "name": "python3"
  },
  "language_info": {
   "codemirror_mode": {
    "name": "ipython",
    "version": 3
   },
   "file_extension": ".py",
   "mimetype": "text/x-python",
   "name": "python",
   "nbconvert_exporter": "python",
   "pygments_lexer": "ipython3",
   "version": "3.12.2"
  }
 },
 "nbformat": 4,
 "nbformat_minor": 2
}
