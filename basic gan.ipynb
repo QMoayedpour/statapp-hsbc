{
 "cells": [
  {
   "cell_type": "code",
   "execution_count": 1,
   "metadata": {},
   "outputs": [],
   "source": [
    "import torch \n",
    "from torch import nn\n",
    "\n",
    "import math\n",
    "import matplotlib.pyplot as plt"
   ]
  },
  {
   "cell_type": "code",
   "execution_count": 2,
   "metadata": {},
   "outputs": [
    {
     "data": {
      "text/plain": [
       "<torch._C.Generator at 0x19322462c10>"
      ]
     },
     "execution_count": 2,
     "metadata": {},
     "output_type": "execute_result"
    }
   ],
   "source": [
    "torch.manual_seed(111)"
   ]
  },
  {
   "cell_type": "markdown",
   "metadata": {},
   "source": [
    "# Training Data "
   ]
  },
  {
   "cell_type": "code",
   "execution_count": 3,
   "metadata": {},
   "outputs": [],
   "source": [
    "trainig_data_length = 1024\n",
    "train_data = torch.zeros((trainig_data_length,2))\n",
    "train_data[:,0] = 2*math.pi*torch.rand(trainig_data_length)\n",
    "train_data[:,1] = torch.sin(train_data[:,0])\n",
    "train_labels = torch.zeros(trainig_data_length)\n",
    "#tensor labels just bcz required by pytorch data loader but not used bcz gans use unsupervised learning techniques\n",
    "train_set = [\n",
    "    (train_data[i], train_labels[i]) for i in range(trainig_data_length)\n",
    "]"
   ]
  },
  {
   "cell_type": "code",
   "execution_count": 4,
   "metadata": {},
   "outputs": [
    {
     "data": {
      "text/plain": [
       "[<matplotlib.lines.Line2D at 0x1932c610a90>]"
      ]
     },
     "execution_count": 4,
     "metadata": {},
     "output_type": "execute_result"
    },
    {
     "data": {
      "image/png": "[encoded data removed]",
      "text/plain": [
       "<Figure size 640x480 with 1 Axes>"
      ]
     },
     "metadata": {},
     "output_type": "display_data"
    }
   ],
   "source": [
    "plt.plot(train_data[:, 0], train_data[:, 1], \".\")"
   ]
  },
  {
   "cell_type": "code",
   "execution_count": 5,
   "metadata": {},
   "outputs": [],
   "source": [
    "#Pytorch data loader\n",
    "batch_size = 32\n",
    "train_loader = torch.utils.data.DataLoader(\n",
    "    train_set, batch_size=batch_size, shuffle=True\n",
    ")"
   ]
  },
  {
   "cell_type": "markdown",
   "metadata": {},
   "source": [
    "# Discriminator"
   ]
  },
  {
   "cell_type": "code",
   "execution_count": 6,
   "metadata": {},
   "outputs": [],
   "source": [
    "#takes as an entry the real/fake data and returns the probability of the input being real\n",
    "#dim of entry is 2, dim of output is 1\n",
    "class Discriminator(nn.Module): \n",
    "    def __init__(self):\n",
    "        super().__init__()\n",
    "        self.model = nn.Sequential(\n",
    "            nn.Linear(2, 256),\n",
    "            nn.ReLU(),\n",
    "            nn.Dropout(0.3),\n",
    "            nn.Linear(256, 128),\n",
    "            nn.ReLU(),\n",
    "            nn.Dropout(0.3), #zeroes 30 percent of the input layer to prevent overfitting\n",
    "            nn.Linear(128, 64),\n",
    "            nn.ReLU(),\n",
    "            nn.Dropout(0.3),\n",
    "            nn.Linear(64, 1),\n",
    "            nn.Sigmoid()\n",
    "        )\n",
    "    def forward(self, x):\n",
    "        output = self.model(x)\n",
    "        return output\n"
   ]
  },
  {
   "cell_type": "code",
   "execution_count": 7,
   "metadata": {},
   "outputs": [],
   "source": [
    "discriminator = Discriminator()"
   ]
  },
  {
   "cell_type": "markdown",
   "metadata": {},
   "source": [
    "# Generator"
   ]
  },
  {
   "cell_type": "code",
   "execution_count": 8,
   "metadata": {},
   "outputs": [],
   "source": [
    "class Generator(nn.Module):\n",
    "    def __init__(self):\n",
    "        super().__init__()\n",
    "        self.model = nn.Sequential(\n",
    "            nn.Linear(2, 16),\n",
    "            nn.ReLU(),\n",
    "            nn.Linear(16, 32),\n",
    "            nn.ReLU(),\n",
    "            nn.Linear(32, 2), # a vector of 2 elements and no activation function so it can range from -inf to inf \n",
    "        )\n",
    "\n",
    "    def forward(self, x):\n",
    "        output = self.model(x)\n",
    "        return output"
   ]
  },
  {
   "cell_type": "code",
   "execution_count": 9,
   "metadata": {},
   "outputs": [],
   "source": [
    "generator = Generator()"
   ]
  },
  {
   "cell_type": "markdown",
   "metadata": {},
   "source": [
    "# Training the Models"
   ]
  },
  {
   "cell_type": "code",
   "execution_count": 10,
   "metadata": {},
   "outputs": [],
   "source": [
    "lr = 0.001\n",
    "num_epochs = 300\n",
    "loss_function = nn.BCELoss()"
   ]
  },
  {
   "cell_type": "code",
   "execution_count": 11,
   "metadata": {},
   "outputs": [],
   "source": [
    "optimizer_discriminator = torch.optim.Adam(discriminator.parameters(), lr=lr)\n",
    "optimizer_generator = torch.optim.Adam(generator.parameters(), lr=lr)"
   ]
  },
  {
   "cell_type": "code",
   "execution_count": 12,
   "metadata": {},
   "outputs": [
    {
     "name": "stdout",
     "output_type": "stream",
     "text": [
      "<torch.utils.data.dataloader.DataLoader object at 0x000001932D7C9EB0>\n"
     ]
    }
   ],
   "source": [
    "print(train_loader)"
   ]
  },
  {
   "cell_type": "code",
   "execution_count": 13,
   "metadata": {},
   "outputs": [
    {
     "name": "stdout",
     "output_type": "stream",
     "text": [
      "Epoch: 0 Loss D.: 0.21308740973472595\n",
      "Epoch: 0 Loss G.: 1.7989581823349\n",
      "Epoch: 10 Loss D.: 0.6099680662155151\n",
      "Epoch: 10 Loss G.: 0.9077385067939758\n",
      "Epoch: 20 Loss D.: 0.6200631260871887\n",
      "Epoch: 20 Loss G.: 0.9532093405723572\n",
      "Epoch: 30 Loss D.: 0.6283484697341919\n",
      "Epoch: 30 Loss G.: 0.9910151362419128\n",
      "Epoch: 40 Loss D.: 0.6843723058700562\n",
      "Epoch: 40 Loss G.: 0.6606213450431824\n",
      "Epoch: 50 Loss D.: 0.6624276638031006\n",
      "Epoch: 50 Loss G.: 0.7260463237762451\n",
      "Epoch: 60 Loss D.: 0.7013164162635803\n",
      "Epoch: 60 Loss G.: 0.663277268409729\n",
      "Epoch: 70 Loss D.: 0.6673065423965454\n",
      "Epoch: 70 Loss G.: 0.7007033228874207\n",
      "Epoch: 80 Loss D.: 0.6546181440353394\n",
      "Epoch: 80 Loss G.: 0.7684346437454224\n",
      "Epoch: 90 Loss D.: 0.7291876077651978\n",
      "Epoch: 90 Loss G.: 0.6766138076782227\n",
      "Epoch: 100 Loss D.: 0.6198608875274658\n",
      "Epoch: 100 Loss G.: 0.8269668817520142\n",
      "Epoch: 110 Loss D.: 0.6426212787628174\n",
      "Epoch: 110 Loss G.: 0.7759957909584045\n",
      "Epoch: 120 Loss D.: 0.6716338992118835\n",
      "Epoch: 120 Loss G.: 0.7812103629112244\n",
      "Epoch: 130 Loss D.: 0.6578238010406494\n",
      "Epoch: 130 Loss G.: 0.8778160214424133\n",
      "Epoch: 140 Loss D.: 0.6196327209472656\n",
      "Epoch: 140 Loss G.: 0.9017134308815002\n",
      "Epoch: 150 Loss D.: 0.7053484916687012\n",
      "Epoch: 150 Loss G.: 0.7638100981712341\n",
      "Epoch: 160 Loss D.: 0.6315105557441711\n",
      "Epoch: 160 Loss G.: 0.9880959987640381\n",
      "Epoch: 170 Loss D.: 0.6004983186721802\n",
      "Epoch: 170 Loss G.: 0.8445550799369812\n",
      "Epoch: 180 Loss D.: 0.6598731875419617\n",
      "Epoch: 180 Loss G.: 0.8509114384651184\n",
      "Epoch: 190 Loss D.: 0.6516414880752563\n",
      "Epoch: 190 Loss G.: 0.7595332860946655\n",
      "Epoch: 200 Loss D.: 0.6927832365036011\n",
      "Epoch: 200 Loss G.: 0.9547392725944519\n",
      "Epoch: 210 Loss D.: 0.652821958065033\n",
      "Epoch: 210 Loss G.: 0.8394170999526978\n",
      "Epoch: 220 Loss D.: 0.7070304155349731\n",
      "Epoch: 220 Loss G.: 0.721401035785675\n",
      "Epoch: 230 Loss D.: 0.6756693720817566\n",
      "Epoch: 230 Loss G.: 0.6820249557495117\n",
      "Epoch: 240 Loss D.: 0.729690432548523\n",
      "Epoch: 240 Loss G.: 0.6800546646118164\n",
      "Epoch: 250 Loss D.: 0.5933542251586914\n",
      "Epoch: 250 Loss G.: 0.8250685334205627\n",
      "Epoch: 260 Loss D.: 0.6769546270370483\n",
      "Epoch: 260 Loss G.: 0.6648752093315125\n",
      "Epoch: 270 Loss D.: 0.559948742389679\n",
      "Epoch: 270 Loss G.: 1.0773727893829346\n",
      "Epoch: 280 Loss D.: 0.734468936920166\n",
      "Epoch: 280 Loss G.: 0.818479061126709\n",
      "Epoch: 290 Loss D.: 0.6448689103126526\n",
      "Epoch: 290 Loss G.: 0.8437666296958923\n"
     ]
    }
   ],
   "source": [
    "for epoch in range(num_epochs):\n",
    "    #each batch is a tuple (real_samples, labels) where real_samples is a tensor of batch_size (32) data\n",
    "    for n, (real_samples, _) in enumerate(train_loader):\n",
    "        # Data for training the discriminator\n",
    "        real_samples_labels = torch.ones((batch_size, 1))\n",
    "        latent_space_samples = torch.randn((batch_size, 2))\n",
    "        generated_samples = generator(latent_space_samples)\n",
    "        generated_samples_labels = torch.zeros((batch_size, 1))\n",
    "        all_samples = torch.cat((real_samples, generated_samples))\n",
    "        all_samples_labels = torch.cat(\n",
    "            (real_samples_labels, generated_samples_labels)\n",
    "        )\n",
    "\n",
    "        # Training the discriminator\n",
    "        discriminator.zero_grad()\n",
    "        output_discriminator = discriminator(all_samples)\n",
    "        loss_discriminator = loss_function(\n",
    "            output_discriminator, all_samples_labels)\n",
    "        loss_discriminator.backward()\n",
    "        optimizer_discriminator.step()\n",
    "\n",
    "        # Data for training the generator\n",
    "        latent_space_samples = torch.randn((batch_size, 2))\n",
    "\n",
    "        # Training the generator\n",
    "        generator.zero_grad()\n",
    "        generated_samples = generator(latent_space_samples)\n",
    "        output_discriminator_generated = discriminator(generated_samples)\n",
    "        loss_generator = loss_function(\n",
    "            output_discriminator_generated, real_samples_labels\n",
    "        )\n",
    "        loss_generator.backward()\n",
    "        optimizer_generator.step()\n",
    "\n",
    "        # Show loss\n",
    "        if epoch % 10 == 0 and n == batch_size - 1:\n",
    "            print(f\"Epoch: {epoch} Loss D.: {loss_discriminator}\")\n",
    "            print(f\"Epoch: {epoch} Loss G.: {loss_generator}\")"
   ]
  },
  {
   "cell_type": "code",
   "execution_count": 14,
   "metadata": {},
   "outputs": [],
   "source": [
    "latent_space_samples = torch.randn(100, 2)\n",
    "generated_samples = generator(latent_space_samples)"
   ]
  },
  {
   "cell_type": "code",
   "execution_count": 15,
   "metadata": {},
   "outputs": [
    {
     "data": {
      "text/plain": [
       "[<matplotlib.lines.Line2D at 0x1932f3d9d30>]"
      ]
     },
     "execution_count": 15,
     "metadata": {},
     "output_type": "execute_result"
    },
    {
     "data": {
      "image/png": "[encoded data removed]",
      "text/plain": [
       "<Figure size 640x480 with 1 Axes>"
      ]
     },
     "metadata": {},
     "output_type": "display_data"
    }
   ],
   "source": [
    "generated_samples = generated_samples.detach()\n",
    "#since the generator gives a 2 elemts vector and we pass through it 100 elements, the size of generated_samples is 100x2\n",
    "plt.plot(generated_samples[:, 0], generated_samples[:, 1], \".\")"
   ]
  }
 ],
 "metadata": {
  "kernelspec": {
   "display_name": "gan_basique",
   "language": "python",
   "name": "python3"
  },
  "language_info": {
   "codemirror_mode": {
    "name": "ipython",
    "version": 3
   },
   "file_extension": ".py",
   "mimetype": "text/x-python",
   "name": "python",
   "nbconvert_exporter": "python",
   "pygments_lexer": "ipython3",
   "version": "3.8.18"
  }
 },
 "nbformat": 4,
 "nbformat_minor": 2
}
